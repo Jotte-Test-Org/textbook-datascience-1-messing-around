{
 "cells": [
  {
   "attachments": {},
   "cell_type": "markdown",
   "metadata": {},
   "source": [
    "# Classification and Regression Trees and Ensemble Methods\n",
    "\n",
    "*Amanda R. Kube Jotte*\n",
    "\n",
    "You've seen multiple examples of regression and classification algorithms, each of which has its own pros, cons, and best use cases. In this chapter, we will introduce one last model type that can be used for *both* classification and regression. We call these models **tree models**. Tree models used for regression are called **regression trees** and the more common version, used for classification, are called **decision trees**. In this chapter, we will focus mostly on decision trees. Then, we will show how individual tree models can be combined to form larger and more robust models through a technique known as **ensemble learning**.\n"
   ]
  }
 ],
 "metadata": {
  "kernelspec": {
   "display_name": "Python 3.9.13 64-bit",
   "language": "python",
   "name": "python3"
  },
  "language_info": {
   "name": "python",
   "version": "3.9.6"
  },
  "orig_nbformat": 4,
  "vscode": {
   "interpreter": {
    "hash": "aee8b7b246df8f9039afb4144a1f6fd8d2ca17a180786b69acc140d282b71a49"
   }
  }
 },
 "nbformat": 4,
 "nbformat_minor": 2
}
