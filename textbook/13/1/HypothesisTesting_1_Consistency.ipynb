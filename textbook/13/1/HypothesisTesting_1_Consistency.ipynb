{
 "cells": [
  {
   "cell_type": "code",
   "execution_count": 1,
   "id": "1983992f",
   "metadata": {},
   "outputs": [],
   "source": [
    "import numpy as np\n",
    "import pandas as pd\n",
    "\n",
    "%matplotlib inline\n",
    "import matplotlib.pyplot as plt\n",
    "plt.style.use('fivethirtyeight')"
   ]
  },
  {
   "cell_type": "markdown",
   "id": "15231c07",
   "metadata": {},
   "source": [
    "# Evaluate the consistency between data and a model\n",
    "\n",
    "To understand how consistency of a dataset with a model can be evaluated, we start with a simple example. We use the last model described in the previous section that states that 100 data points are generated independently from a Unif(1,5) distribution. \n",
    "\n",
    "The next cell shows the creation of a dataset saved in an array of length 100 called `dataset`; for the moment, ignore the way the data was generated. The histogram of the data is also displayed."
   ]
  },
  {
   "cell_type": "code",
   "execution_count": 2,
   "id": "65467556",
   "metadata": {
    "scrolled": true
   },
   "outputs": [
    {
     "data": {
      "image/png": "[encoded data removed]",
      "text/plain": [
       "<Figure size 432x288 with 1 Axes>"
      ]
     },
     "metadata": {},
     "output_type": "display_data"
    }
   ],
   "source": [
    "dataset=np.concatenate((np.random.uniform(1,2,size=20),np.random.uniform(1,5,size=80)))\n",
    "plt.hist(dataset,bins=5);"
   ]
  },
  {
   "cell_type": "markdown",
   "id": "c951b1f8",
   "metadata": {},
   "source": [
    "Is it plausible that the data shown in the above histogram was generated from the Unif(1,5) distribution?\n",
    "\n",
    "The histogram is not entirely conclusive. We can simulate datasets of the same sample size (100) from the Unif(1,5) distribution, but it is unclear how we can compare histograms. \n",
    "\n",
    "It is easier to evaluate a numerical characteristic of the data, such as the median, instead of looking at the full dataset. Below we calculate the median of the values in our data and we also generate 1000 datasets from our model for which we obtain their medians."
   ]
  },
  {
   "cell_type": "code",
   "execution_count": 3,
   "id": "e6640395",
   "metadata": {},
   "outputs": [
    {
     "data": {
      "text/plain": [
       "2.545124398837312"
      ]
     },
     "execution_count": 3,
     "metadata": {},
     "output_type": "execute_result"
    }
   ],
   "source": [
    "np.median(dataset)"
   ]
  },
  {
   "cell_type": "code",
   "execution_count": 4,
   "id": "ecd51916",
   "metadata": {
    "scrolled": false
   },
   "outputs": [
    {
     "data": {
      "image/png": "[encoded data removed]",
      "text/plain": [
       "<Figure size 432x288 with 1 Axes>"
      ]
     },
     "metadata": {},
     "output_type": "display_data"
    }
   ],
   "source": [
    "# array where we will save the simulated medians\n",
    "med_dist=np.array([])\n",
    "\n",
    "# generate 1000 medians \n",
    "for i in np.arange(1000):\n",
    "    med_dist=np.append(med_dist,np.median(np.random.uniform(1,5,size=100)))\n",
    "\n",
    "plt.hist(med_dist,bins=20)\n",
    "plt.scatter(np.median(dataset), -2, color='red', s=30);"
   ]
  },
  {
   "cell_type": "markdown",
   "id": "fa676432",
   "metadata": {},
   "source": [
    "The above histogram shows the 1000 medians we generated together with the median value we had in our dataset (the red dot). The location of the red dot in this distribution is an indication of how consistent is the data with the model. One indicator of consistency is how likely is to obtain the observed median or something more extreme from our model. "
   ]
  },
  {
   "cell_type": "code",
   "execution_count": 5,
   "id": "03e1d63a",
   "metadata": {},
   "outputs": [
    {
     "data": {
      "text/plain": [
       "0.008"
      ]
     },
     "execution_count": 5,
     "metadata": {},
     "output_type": "execute_result"
    }
   ],
   "source": [
    "sum(med_dist<=np.median(dataset))/1000"
   ]
  },
  {
   "attachments": {},
   "cell_type": "markdown",
   "id": "02ce8127",
   "metadata": {},
   "source": [
    "We see above that 0.8% of datasets obtained from our model have a median that is at least as small as the observed one (note that rerunnig the simulations will lead to a different number - more on this in Chapter 12). We can use this information to get insight into our question. A schematic of the process we use to determine consistency is below and has the following steps: \n",
    "- select a statistic, S, that will be used to check consistency (we used the median in the above example); \n",
    "- use the model to generate/simulate datasets; \n",
    "- compare the observed value for the statistic, S, with the distribution obtained for S from the datasets generated from the model (as we did in the histogram above). \n",
    "\n",
    "<div>\n",
    "<img src=\"./dgm2.png\" width=\"400\"/>\n",
    "</div>\n",
    "\n",
    "The question we pose is: *How likely is to obtain a value for S as extreme as what we have in  our data from the distribution we generated?* In the above example, the tail probability, 0.008, was a possible answer to this question.\n",
    "\n",
    "\n",
    "We now turn to a real dataset that contains the number of births by state, race, age of mother and infant gender. We downloaded the data from CDC: https://wonder.cdc.gov/natality.html.\n",
    "\n"
   ]
  },
  {
   "cell_type": "code",
   "execution_count": 6,
   "id": "dd1dbf0c",
   "metadata": {},
   "outputs": [
    {
     "data": {
      "text/html": [
       "<div>\n",
       "<style scoped>\n",
       "    .dataframe tbody tr th:only-of-type {\n",
       "        vertical-align: middle;\n",
       "    }\n",
       "\n",
       "    .dataframe tbody tr th {\n",
       "        vertical-align: top;\n",
       "    }\n",
       "\n",
       "    .dataframe thead th {\n",
       "        text-align: right;\n",
       "    }\n",
       "</style>\n",
       "<table border=\"1\" class=\"dataframe\">\n",
       "  <thead>\n",
       "    <tr style=\"text-align: right;\">\n",
       "      <th></th>\n",
       "      <th>State</th>\n",
       "      <th>Single.Race</th>\n",
       "      <th>Age.of.Mother.9</th>\n",
       "      <th>Gender.Code</th>\n",
       "      <th>Births</th>\n",
       "    </tr>\n",
       "  </thead>\n",
       "  <tbody>\n",
       "    <tr>\n",
       "      <th>0</th>\n",
       "      <td>Alabama</td>\n",
       "      <td>American Indian or Alaska Native</td>\n",
       "      <td>15-19 years</td>\n",
       "      <td>F</td>\n",
       "      <td>10</td>\n",
       "    </tr>\n",
       "    <tr>\n",
       "      <th>1</th>\n",
       "      <td>Alabama</td>\n",
       "      <td>American Indian or Alaska Native</td>\n",
       "      <td>20-24 years</td>\n",
       "      <td>F</td>\n",
       "      <td>24</td>\n",
       "    </tr>\n",
       "    <tr>\n",
       "      <th>2</th>\n",
       "      <td>Alabama</td>\n",
       "      <td>American Indian or Alaska Native</td>\n",
       "      <td>20-24 years</td>\n",
       "      <td>M</td>\n",
       "      <td>26</td>\n",
       "    </tr>\n",
       "  </tbody>\n",
       "</table>\n",
       "</div>"
      ],
      "text/plain": [
       "     State                       Single.Race Age.of.Mother.9 Gender.Code  \\\n",
       "0  Alabama  American Indian or Alaska Native     15-19 years           F   \n",
       "1  Alabama  American Indian or Alaska Native     20-24 years           F   \n",
       "2  Alabama  American Indian or Alaska Native     20-24 years           M   \n",
       "\n",
       "   Births  \n",
       "0      10  \n",
       "1      24  \n",
       "2      26  "
      ]
     },
     "execution_count": 6,
     "metadata": {},
     "output_type": "execute_result"
    }
   ],
   "source": [
    "#data from CDC\n",
    "natality2016=pd.read_csv(\"Natality2016.csv\")\n",
    "natality2016.head(3)"
   ]
  },
  {
   "cell_type": "code",
   "execution_count": 7,
   "id": "2fbd0072",
   "metadata": {
    "scrolled": false
   },
   "outputs": [
    {
     "data": {
      "text/html": [
       "<div>\n",
       "<style scoped>\n",
       "    .dataframe tbody tr th:only-of-type {\n",
       "        vertical-align: middle;\n",
       "    }\n",
       "\n",
       "    .dataframe tbody tr th {\n",
       "        vertical-align: top;\n",
       "    }\n",
       "\n",
       "    .dataframe thead th {\n",
       "        text-align: right;\n",
       "    }\n",
       "</style>\n",
       "<table border=\"1\" class=\"dataframe\">\n",
       "  <thead>\n",
       "    <tr style=\"text-align: right;\">\n",
       "      <th></th>\n",
       "      <th>Births</th>\n",
       "    </tr>\n",
       "    <tr>\n",
       "      <th>Gender.Code</th>\n",
       "      <th></th>\n",
       "    </tr>\n",
       "  </thead>\n",
       "  <tbody>\n",
       "    <tr>\n",
       "      <th>F</th>\n",
       "      <td>1925598</td>\n",
       "    </tr>\n",
       "    <tr>\n",
       "      <th>M</th>\n",
       "      <td>2016003</td>\n",
       "    </tr>\n",
       "  </tbody>\n",
       "</table>\n",
       "</div>"
      ],
      "text/plain": [
       "              Births\n",
       "Gender.Code         \n",
       "F            1925598\n",
       "M            2016003"
      ]
     },
     "execution_count": 7,
     "metadata": {},
     "output_type": "execute_result"
    }
   ],
   "source": [
    "natality2016[['Gender.Code','Births']].groupby('Gender.Code').sum()"
   ]
  },
  {
   "cell_type": "markdown",
   "id": "5628685f",
   "metadata": {},
   "source": [
    "We can see from the above summary that, in 2016, more boys were born in the United States than girls. Is this consistent with the model where the probability of having a boy is 0.5? We can answer this immediately by generating data from that model. We use the binomial distributions (does it make sense here?) with n=1,925,598+2,016,003=3,941,601 to investigate this question. The histogram below shows that having more than 2 million boys is inconsistent with our binomial model, suggesting that the probability of having a boy is not equal to 0.5."
   ]
  },
  {
   "cell_type": "code",
   "execution_count": 8,
   "id": "03a2dc31",
   "metadata": {
    "scrolled": true
   },
   "outputs": [
    {
     "data": {
      "image/png": "[encoded data removed]",
      "text/plain": [
       "<Figure size 432x288 with 1 Axes>"
      ]
     },
     "metadata": {},
     "output_type": "display_data"
    }
   ],
   "source": [
    "plt.hist(np.random.binomial(1925598+2016003,0.5,size=10000))\n",
    "plt.title('10,000 simulated datasets')\n",
    "plt.xlabel(\"Number of boys\");"
   ]
  },
  {
   "cell_type": "markdown",
   "id": "ee442a32",
   "metadata": {},
   "source": [
    "It turns out that for many countries, the probability of having a boy is 0.512 which corresponds to a 105 boys being born for every 100 girls, leading to a ratio of 1.05 which is known as the secondary sex ratio (SSR). You can read more information on [sex ratio here](https://en.wikipedia.org/wiki/Sex_ratio)."
   ]
  }
 ],
 "metadata": {
  "kernelspec": {
   "display_name": "Python 3",
   "language": "python",
   "name": "python3"
  },
  "language_info": {
   "codemirror_mode": {
    "name": "ipython",
    "version": 3
   },
   "file_extension": ".py",
   "mimetype": "text/x-python",
   "name": "python",
   "nbconvert_exporter": "python",
   "pygments_lexer": "ipython3",
   "version": "3.8.8"
  }
 },
 "nbformat": 4,
 "nbformat_minor": 5
}
