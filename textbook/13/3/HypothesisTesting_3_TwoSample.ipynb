{
 "cells": [
  {
   "cell_type": "markdown",
   "id": "296319db",
   "metadata": {},
   "source": [
    "# Two sample testing\n",
    "\n",
    "In many applications there is an interest in comparing two random samples; for example, investigate differences in cholesterol levels between two groups of patients. This is often done using a hypothesis test - hence the name \"two sample testing\". This is also called A/B testing.\n",
    "\n",
    "The natural hypotheses for this situation are:\n",
    "\n",
    "$H_0$: the two samples are generated from the same distribution.\n",
    "\n",
    "$H_A$: the two samples are generated from two different distribution.\n",
    "\n",
    "The test statistic is normally based on the difference in a specified sample summary; for example, difference in means, or medians, or standard deviations (if we expect the sample to differ in their variability). \n",
    "\n",
    "We illustrate this with a [classic diabetes dataset](https://www.kaggle.com/datasets/uciml/pima-indians-diabetes-database) from the National Institute of Diabetes and Digestive and Kidney Diseases. The subjects of this dataset are females at least 21 years old, and the goal was to predict diabetes status that is summarized in the column called \"Outcome\"."
   ]
  },
  {
   "cell_type": "code",
   "execution_count": 11,
   "id": "db2679f2",
   "metadata": {
    "scrolled": true
   },
   "outputs": [
    {
     "data": {
      "text/html": [
       "<div>\n",
       "<style scoped>\n",
       "    .dataframe tbody tr th:only-of-type {\n",
       "        vertical-align: middle;\n",
       "    }\n",
       "\n",
       "    .dataframe tbody tr th {\n",
       "        vertical-align: top;\n",
       "    }\n",
       "\n",
       "    .dataframe thead th {\n",
       "        text-align: right;\n",
       "    }\n",
       "</style>\n",
       "<table border=\"1\" class=\"dataframe\">\n",
       "  <thead>\n",
       "    <tr style=\"text-align: right;\">\n",
       "      <th></th>\n",
       "      <th>Pregnancies</th>\n",
       "      <th>Glucose</th>\n",
       "      <th>BloodPressure</th>\n",
       "      <th>SkinThickness</th>\n",
       "      <th>Insulin</th>\n",
       "      <th>BMI</th>\n",
       "      <th>DiabetesPedigreeFunction</th>\n",
       "      <th>Age</th>\n",
       "      <th>Outcome</th>\n",
       "    </tr>\n",
       "  </thead>\n",
       "  <tbody>\n",
       "    <tr>\n",
       "      <th>0</th>\n",
       "      <td>6</td>\n",
       "      <td>148</td>\n",
       "      <td>72</td>\n",
       "      <td>35</td>\n",
       "      <td>0</td>\n",
       "      <td>33.6</td>\n",
       "      <td>0.627</td>\n",
       "      <td>50</td>\n",
       "      <td>1</td>\n",
       "    </tr>\n",
       "    <tr>\n",
       "      <th>1</th>\n",
       "      <td>1</td>\n",
       "      <td>85</td>\n",
       "      <td>66</td>\n",
       "      <td>29</td>\n",
       "      <td>0</td>\n",
       "      <td>26.6</td>\n",
       "      <td>0.351</td>\n",
       "      <td>31</td>\n",
       "      <td>0</td>\n",
       "    </tr>\n",
       "    <tr>\n",
       "      <th>2</th>\n",
       "      <td>8</td>\n",
       "      <td>183</td>\n",
       "      <td>64</td>\n",
       "      <td>0</td>\n",
       "      <td>0</td>\n",
       "      <td>23.3</td>\n",
       "      <td>0.672</td>\n",
       "      <td>32</td>\n",
       "      <td>1</td>\n",
       "    </tr>\n",
       "    <tr>\n",
       "      <th>3</th>\n",
       "      <td>1</td>\n",
       "      <td>89</td>\n",
       "      <td>66</td>\n",
       "      <td>23</td>\n",
       "      <td>94</td>\n",
       "      <td>28.1</td>\n",
       "      <td>0.167</td>\n",
       "      <td>21</td>\n",
       "      <td>0</td>\n",
       "    </tr>\n",
       "    <tr>\n",
       "      <th>4</th>\n",
       "      <td>0</td>\n",
       "      <td>137</td>\n",
       "      <td>40</td>\n",
       "      <td>35</td>\n",
       "      <td>168</td>\n",
       "      <td>43.1</td>\n",
       "      <td>2.288</td>\n",
       "      <td>33</td>\n",
       "      <td>1</td>\n",
       "    </tr>\n",
       "  </tbody>\n",
       "</table>\n",
       "</div>"
      ],
      "text/plain": [
       "   Pregnancies  Glucose  BloodPressure  SkinThickness  Insulin   BMI  \\\n",
       "0            6      148             72             35        0  33.6   \n",
       "1            1       85             66             29        0  26.6   \n",
       "2            8      183             64              0        0  23.3   \n",
       "3            1       89             66             23       94  28.1   \n",
       "4            0      137             40             35      168  43.1   \n",
       "\n",
       "   DiabetesPedigreeFunction  Age  Outcome  \n",
       "0                     0.627   50        1  \n",
       "1                     0.351   31        0  \n",
       "2                     0.672   32        1  \n",
       "3                     0.167   21        0  \n",
       "4                     2.288   33        1  "
      ]
     },
     "execution_count": 11,
     "metadata": {},
     "output_type": "execute_result"
    }
   ],
   "source": [
    "diabetes=pd.read_csv(\"diabetes.csv\")\n",
    "diabetes.head(5)"
   ]
  },
  {
   "cell_type": "markdown",
   "id": "7d59dfef",
   "metadata": {},
   "source": [
    "We will focus in this example on BMI. Below are boxplots for the two diabetes status groups."
   ]
  },
  {
   "cell_type": "code",
   "execution_count": 12,
   "id": "5df62fd5",
   "metadata": {
    "scrolled": true
   },
   "outputs": [
    {
     "data": {
      "image/png": "[encoded data removed]",
      "text/plain": [
       "<Figure size 432x288 with 1 Axes>"
      ]
     },
     "metadata": {},
     "output_type": "display_data"
    }
   ],
   "source": [
    "plt.boxplot([diabetes.BMI[diabetes.Outcome==0],diabetes.BMI[diabetes.Outcome==1]],labels=[\"No\",\"Yes\"]);"
   ]
  },
  {
   "cell_type": "markdown",
   "id": "137e49c9",
   "metadata": {},
   "source": [
    "There are several observation from the above plots: \n",
    "- The distributions of BMI in the two groups seem different; for example, the median BMI is larger in diabetics.\n",
    "- There are some subjects for which the recorded value for BMI is equal to 0; this suggests that missing data were recorded as 0 and we will have to take into account that in our analysis.\n",
    "\n",
    "Below, we create two arrays that contain the BMI values in the two groups after removing the missing data."
   ]
  },
  {
   "cell_type": "code",
   "execution_count": 13,
   "id": "8db3611c",
   "metadata": {},
   "outputs": [
    {
     "data": {
      "text/plain": [
       "[491, 266]"
      ]
     },
     "execution_count": 13,
     "metadata": {},
     "output_type": "execute_result"
    }
   ],
   "source": [
    "d_no=diabetes.BMI[(diabetes.Outcome==0)&(diabetes.BMI>0)]\n",
    "d_yes=diabetes.BMI[(diabetes.Outcome==1)&(diabetes.BMI>0)]\n",
    "\n",
    "[len(d_no),len(d_yes)]"
   ]
  },
  {
   "cell_type": "markdown",
   "id": "3bbb4989",
   "metadata": {},
   "source": [
    "We have two samples here of size 491 and 266, and the null hypothesis we investigate is:  BMI distributions in diabetics and non-diabetics subjects are the same. \n",
    "\n",
    "The test statistic we will use is the difference in sample medians, with an observed value of 4.2:"
   ]
  },
  {
   "cell_type": "code",
   "execution_count": 14,
   "id": "abebd5d5",
   "metadata": {},
   "outputs": [
    {
     "data": {
      "text/plain": [
       "4.2"
      ]
     },
     "execution_count": 14,
     "metadata": {},
     "output_type": "execute_result"
    }
   ],
   "source": [
    "test_stat=np.median(d_yes)-np.median(d_no)\n",
    "round(test_stat,2)"
   ]
  },
  {
   "cell_type": "markdown",
   "id": "f2461faa",
   "metadata": {},
   "source": [
    "The next step is to obtain an approximation for the sampling distribution of our test statistic. The procedure we implement, called a **permutation test** uses the following observations:\n",
    "- If the null hypothesis is true: a BMI value is equally likely to be sampled from diabetics and non-diabetics\n",
    "- If the null hypothesis is true: all rearrangements (permutations) of BMI values among the two groups are equally likely\n",
    "- If the null hypothesis is true: the observed test statistic can be viewed as a sample from the distribution of median differences of permuted BMI values in two groups.\n",
    "\n",
    "It suggests the following simulation to learn the null distribution for the test statistic:\n",
    "- Shuffle (permute) the BMI values\n",
    "- Assign 491 to “Group A“ and the rest to “Group B“ (to maintain the two sample sizes)\n",
    "- Find the differences between medians of the two shuffled (permuted) groups\n",
    "- Repeat\n",
    "\n",
    "The generated distribution and the value of the test statistic are used to calculate a p-value.\n",
    "\n",
    "We first illustrate how to create shuffled samples and calculate the corresponding test statistic. We use the numpy function `random.permutation` to create an array that has the same values but with order that us shuffled: the first part of the new array will correspond to the control group. "
   ]
  },
  {
   "cell_type": "code",
   "execution_count": 15,
   "id": "c3b487e5",
   "metadata": {},
   "outputs": [
    {
     "data": {
      "text/plain": [
       "0.20000000000000284"
      ]
     },
     "execution_count": 15,
     "metadata": {},
     "output_type": "execute_result"
    }
   ],
   "source": [
    "shuffled_combine=np.random.permutation(np.append(d_no,d_yes))\n",
    "shuffled_no=shuffled_combine[0:491]\n",
    "shuffled_yes=shuffled_combine[491:(491+226)]\n",
    "\n",
    "np.median(shuffled_yes)-np.median(shuffled_no)"
   ]
  },
  {
   "cell_type": "markdown",
   "id": "63e99303",
   "metadata": {},
   "source": [
    "In the cell code below, we repeat the procedure 5000 times and create an approximation for the distribution of our test statistic that is saved in the array `differences`."
   ]
  },
  {
   "cell_type": "code",
   "execution_count": 16,
   "id": "d2f15e7c",
   "metadata": {},
   "outputs": [],
   "source": [
    "differences = np.array([])\n",
    "\n",
    "for i in np.arange(5000):\n",
    "    shuffled_combine=np.random.permutation(np.append(d_no,d_yes))\n",
    "    shuffled_no=shuffled_combine[0:491]\n",
    "    shuffled_yes=shuffled_combine[491:(491+226)]\n",
    "    differences = np.append(differences,np.median(shuffled_yes)-np.median(shuffled_no))\n"
   ]
  },
  {
   "cell_type": "code",
   "execution_count": 17,
   "id": "57e2cb72",
   "metadata": {
    "scrolled": true
   },
   "outputs": [
    {
     "data": {
      "image/png": "[encoded data removed]",
      "text/plain": [
       "<Figure size 432x288 with 1 Axes>"
      ]
     },
     "metadata": {},
     "output_type": "display_data"
    }
   ],
   "source": [
    "plt.hist(differences)\n",
    "plt.scatter(test_stat, -20, color='red', s=30);"
   ]
  },
  {
   "cell_type": "markdown",
   "id": "6731b167",
   "metadata": {},
   "source": [
    "From the above histogram, we can see that there is strong evidence against the null hypothesis that the distributions of BMI in cases and controls are the same.\n",
    "\n",
    "Please note that the choice of test statistic could have a big impact on the conlcusions from the test. Below, we repeat the procedure using as test statistic the difference in standard deviations of the two samples. There is no evidence, when using this statistic, that the distributions are different."
   ]
  },
  {
   "cell_type": "code",
   "execution_count": 18,
   "id": "eb66d51f",
   "metadata": {},
   "outputs": [
    {
     "data": {
      "image/png": "[encoded data removed]",
      "text/plain": [
       "<Figure size 432x288 with 1 Axes>"
      ]
     },
     "metadata": {},
     "output_type": "display_data"
    }
   ],
   "source": [
    "differences = np.array([])\n",
    "\n",
    "for i in np.arange(5000):\n",
    "    shuffled_combine=np.random.permutation(np.append(d_no,d_yes))\n",
    "    shuffled_no=shuffled_combine[0:491]\n",
    "    shuffled_yes=shuffled_combine[491:(491+226)]\n",
    "    differences = np.append(differences,np.std(shuffled_yes)-np.std(shuffled_no))\n",
    "\n",
    "\n",
    "plt.hist(differences)\n",
    "plt.scatter(np.std(d_yes)-np.std(d_no), -20, color='red', s=30);"
   ]
  }
 ],
 "metadata": {
  "kernelspec": {
   "display_name": "Python 3",
   "language": "python",
   "name": "python3"
  },
  "language_info": {
   "codemirror_mode": {
    "name": "ipython",
    "version": 3
   },
   "file_extension": ".py",
   "mimetype": "text/x-python",
   "name": "python",
   "nbconvert_exporter": "python",
   "pygments_lexer": "ipython3",
   "version": "3.8.8"
  }
 },
 "nbformat": 4,
 "nbformat_minor": 5
}
