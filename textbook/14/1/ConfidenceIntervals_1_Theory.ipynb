{
 "cells": [
  {
   "attachments": {},
   "cell_type": "markdown",
   "id": "6930a776",
   "metadata": {},
   "source": [
    "# Theoretical justification for confidence intervals\n",
    "\n",
    "Assume, as in the previous section, that we have a population parameter of interest $\\theta$, and an estimate based on a sample of $n$ observations, $\\hat\\theta$. We also assume that the sampling distribution of $(\\hat\\theta-\\theta)$ is known. In the next section, we will show a method for obtaining an approximation to this sampling distribution.\n",
    "\n",
    "The figure below shows the sampling distribution and some percentiles that will be useful for our illustration:\n",
    "\n",
    "<img src=\"./middle98chisq.png\" width=\"400\"/>\n",
    "\n",
    "We define $L_0$ to be the 1% percentile of this distribution, and $U_0$ to be the 99% percentile.\n",
    "It is clear that, with probability 0.98,\n",
    "$$L_0\\leq\\hat\\theta-\\theta\\leq U_0$$\n",
    "which can be rewritten as\n",
    "$$\\hat\\theta-U_0\\leq \\theta\\leq \\hat\\theta-L_0$$\n",
    "\n",
    " We call $[ \\hat\\theta-U_0, \\hat\\theta-L_0]$ a  **98% confidence interval**.\n",
    " \n",
    " Some notes:\n",
    "- The ends of the interval depend on the percentiles but also on the data (through $\\hat\\theta$) and are random (different samples result in different confidence intervals).\n",
    "- The probability statement we made was about the distribution of $(\\hat\\theta-\\theta)$.\n",
    "- About 98\\% of the intervals constructed like this will cover the true population parameter $\\theta$.\n",
    "- If we change the percentiles we get intervals with different confidence. For example, if $L_0$ is the 5% percentil and $U_0$ is 95% percentile, we will obtain a 90% confidence interval."
   ]
  },
  {
   "cell_type": "markdown",
   "id": "886b1dbc",
   "metadata": {},
   "source": [
    "We illustrate the above concepts with a simple example where the sampling distribution is known. Assume we sample 4 observations from a normal population with mean equal to -2 and standard deviation equal to 1. The parameter of interest is the population mean ($\\theta=-2$). It is known that distribution of the sample mean is N(-2,1/2) and this allows us to obtain the sampling distribution for $(\\hat\\theta-\\theta)$, N(0,1/2), and its percentiles of interest. Below is the code that generates 90% confidence intervals."
   ]
  },
  {
   "cell_type": "code",
   "execution_count": 9,
   "id": "edfffb6d",
   "metadata": {
    "scrolled": true
   },
   "outputs": [
    {
     "data": {
      "image/png": "[encoded data removed]",
      "text/plain": [
       "<Figure size 432x288 with 1 Axes>"
      ]
     },
     "metadata": {},
     "output_type": "display_data"
    }
   ],
   "source": [
    "from scipy.stats import norm\n",
    "\n",
    "# the percentiles needed for 90% CIs\n",
    "L0=norm.ppf(0.05, loc=0, scale=1/2)\n",
    "U0=norm.ppf(0.95, loc=0, scale=1/2)\n",
    "\n",
    "# draw twenty 90% CIs\n",
    "plt.xticks([-2], ['Parameter'])\n",
    "plt.title('90% Confidence Intervals')\n",
    "for i in np.arange(20):\n",
    "    theta0=np.mean(np.random.normal(size=4,loc=-2,scale=1))\n",
    "    plt.plot([theta0-U0, theta0-L0], [i, i], color='blue')\n",
    "plt.plot([-2,-2],[0,19],color=\"black\",linewidth=0.7);"
   ]
  },
  {
   "cell_type": "markdown",
   "id": "b9f5ae72",
   "metadata": {},
   "source": [
    "In the above plot, the vertical line is the location of the population parameter. Note that not all CIs contain that value.\n",
    "\n",
    "The above code relied on our knowledge of the sampling distribution for $(\\hat\\theta-\\theta)$. In classical statisics, this distribution is obtained mathematically using probability laws such as the central limit theorem. \n",
    "\n",
    "The next section describes a method for approximating the sampling distribution using only the data in the sample."
   ]
  }
 ],
 "metadata": {
  "kernelspec": {
   "display_name": "Python 3",
   "language": "python",
   "name": "python3"
  },
  "language_info": {
   "codemirror_mode": {
    "name": "ipython",
    "version": 3
   },
   "file_extension": ".py",
   "mimetype": "text/x-python",
   "name": "python",
   "nbconvert_exporter": "python",
   "pygments_lexer": "ipython3",
   "version": "3.8.8"
  }
 },
 "nbformat": 4,
 "nbformat_minor": 5
}
