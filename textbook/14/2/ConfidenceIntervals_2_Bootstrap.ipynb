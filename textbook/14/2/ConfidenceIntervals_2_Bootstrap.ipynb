{
 "cells": [
  {
   "cell_type": "code",
   "execution_count": null,
   "id": "8dbb71d9",
   "metadata": {
    "tags": [
     "remove-cell"
    ]
   },
   "outputs": [],
   "source": [
    "# This cell is hidden from the textbook thanks to its tag.\n",
    "#\n",
    "# We're just re-constructing data established in other sections' notebooks.\n",
    "#\n",
    "# (Otherwise these would be undefined!)\n",
    "\n",
    "import numpy as np\n",
    "import pandas as pd\n",
    "\n",
    "%matplotlib inline\n",
    "import matplotlib.pyplot as plt\n",
    "plt.style.use('fivethirtyeight')\n",
    "population_salary=pd.read_csv(\"../Salaries.csv\")"
   ]
  },
  {
   "attachments": {},
   "cell_type": "markdown",
   "id": "706a9b22",
   "metadata": {},
   "source": [
    "# The Bootstrap\n",
    "\n",
    "Recall that to calculate confidence intervals we need the sampling distribution of  $(\\hat\\theta-\\theta)$.\n",
    "\n",
    "Inuitively, we can approximate the sampling distribution as follows:\n",
    "- Draw samples of the same size and using the sample sampling scheme from the population;\n",
    "- Calculate their $(\\hat\\theta-\\theta)$;\n",
    "- Obtain the sampling distribution from their aggregation.\n",
    "\n",
    "For completion, this is the graph we showed in the previous section that illustrates this process for the sampling distribution of $\\hat\\theta$. \n",
    "\n",
    "<img src=\"../sampling_dist.png\" width=\"500\"/>\n"
   ]
  },
  {
   "attachments": {},
   "cell_type": "markdown",
   "id": "098c7e5e",
   "metadata": {},
   "source": [
    "The bootstrap method works when we can use our sample as an approximation of the population (the sample size cannot be small for this approximation to work). The schematic below describes the following process:\n",
    "\n",
    "- Declare the sample to be the \"population\" (the sample is the \"estimated population\");\n",
    "- Draw samples of the same size from the \"estimated population\"; these samples are drawn with replacement and are called bootstrap samples;\n",
    "- Calculate the corresponding estimates, $(\\hat\\theta^b-\\hat\\theta)$ - note that in our \"estimated population\", the parameter of interest is $\\hat\\theta$;\n",
    "- Obtain their distribution.\n",
    "\n",
    "<img src=\"./bootstrap.png\" width=\"500\"/>\n",
    "\n",
    "We illustrate the bootstrap method for obtaining an approximate sampling distribution on the salary data where the interest is in the median salary."
   ]
  },
  {
   "cell_type": "code",
   "execution_count": 10,
   "id": "cda1f102",
   "metadata": {},
   "outputs": [
    {
     "data": {
      "text/plain": [
       "100644.0"
      ]
     },
     "execution_count": 10,
     "metadata": {},
     "output_type": "execute_result"
    }
   ],
   "source": [
    "# the parameter of interest\n",
    "theta=population_salary['Annual Salary'].median()\n",
    "\n",
    "np.random.seed(4321)\n",
    "# this is a SRS of size n=100\n",
    "sample_salary=population_salary.sample(100,replace=False)\n",
    "\n",
    "#the median salary in the sample\n",
    "theta_hat=sample_salary['Annual Salary'].median()\n",
    "theta_hat"
   ]
  },
  {
   "cell_type": "markdown",
   "id": "2d0bd2c1",
   "metadata": {},
   "source": [
    "In the above cell code, we generate a sample of size 100. We use this sample to generate an approximation for the sampling distribution of the statistic of interest, $(\\hat\\theta-\\theta)$."
   ]
  },
  {
   "cell_type": "code",
   "execution_count": 11,
   "id": "2a61b011",
   "metadata": {},
   "outputs": [],
   "source": [
    "def bootstrap_median(original_sample, label, replications):\n",
    "    \"\"\"Simulate sample medians:\n",
    "    original_sample: df containing the original sample data\n",
    "    label: label of column containing the variable\n",
    "    replications: number of bootstrap samples\n",
    "    Returns array of bootstrap sample medians\n",
    "    \"\"\"\n",
    "    medians = np.array([])\n",
    "    for i in np.arange(replications):\n",
    "        bootstrap_sample = original_sample.sample(len(original_sample),replace=True)\n",
    "        resampled_median = bootstrap_sample['Annual Salary'].median()\n",
    "        medians = np.append(medians, resampled_median-theta_hat)\n",
    "        \n",
    "    return medians"
   ]
  },
  {
   "cell_type": "code",
   "execution_count": 12,
   "id": "ef0d25a9",
   "metadata": {},
   "outputs": [
    {
     "data": {
      "image/png": "[encoded data removed]",
      "text/plain": [
       "<Figure size 432x288 with 1 Axes>"
      ]
     },
     "metadata": {},
     "output_type": "display_data"
    }
   ],
   "source": [
    "bstrap_medians = bootstrap_median(sample_salary, 'Annual.Salary', 2000)\n",
    "\n",
    "plt.hist(bstrap_medians,bins=10);"
   ]
  }
 ],
 "metadata": {
  "kernelspec": {
   "display_name": "Python 3",
   "language": "python",
   "name": "python3"
  },
  "language_info": {
   "codemirror_mode": {
    "name": "ipython",
    "version": 3
   },
   "file_extension": ".py",
   "mimetype": "text/x-python",
   "name": "python",
   "nbconvert_exporter": "python",
   "pygments_lexer": "ipython3",
   "version": "3.8.8"
  }
 },
 "nbformat": 4,
 "nbformat_minor": 5
}
