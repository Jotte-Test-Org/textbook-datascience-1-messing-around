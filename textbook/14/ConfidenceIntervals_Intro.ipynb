{
 "cells": [
  {
   "cell_type": "code",
   "execution_count": 1,
   "id": "1983992f",
   "metadata": {},
   "outputs": [],
   "source": [
    "import numpy as np\n",
    "import pandas as pd\n",
    "\n",
    "%matplotlib inline\n",
    "import matplotlib.pyplot as plt\n",
    "plt.style.use('fivethirtyeight')"
   ]
  },
  {
   "attachments": {},
   "cell_type": "markdown",
   "id": "e1631e04",
   "metadata": {},
   "source": [
    "# Estimation and Confidence Intervals\n",
    "\n",
    "In this chapter, we will investigate methods for learning about (also called **estimating**) a population characteristic (called **parameter**). The diagram below shows the assumptions we will build on:\n",
    "\n",
    "- We have a population of interest (for example, the annual salaries for all City of Chicago empolyees).\n",
    "- The interest is in a parameter (a numerical characteristic) of that population denoted by $\\theta$ (for example, median salary).\n",
    "- A sample of size $n$ is drawn from the population using a specified sampling scheme (for example, a simple random sample).\n",
    "- From the data in the sample, a statistics $\\hat\\theta$ is calculated (for example, the median of the salaries in the sample); this statistic is used as an estimate for the parameter of interest.\n",
    "\n",
    "<div>\n",
    "<img src=\"sample.png\" width=\"500\"/>\n",
    "</div>\n",
    "\n",
    "The data shown below was downloaded from the [City of Chicago](https://www.chicago.gov/city/en/depts/dhr/dataset/current_employeenamessalariesandpositiontitles.html) in June, 2023 and contains data for 24,365 employees. The file was processed to simplify our illustration here: some columns that are not needed were removed, and only rows having data on annual salaries were retained. Five random data points (rows in the data frame) are shown. "
   ]
  },
  {
   "cell_type": "code",
   "execution_count": 2,
   "id": "e9b8e771",
   "metadata": {
    "scrolled": true
   },
   "outputs": [
    {
     "data": {
      "text/plain": [
       "(24365, 3)"
      ]
     },
     "execution_count": 2,
     "metadata": {},
     "output_type": "execute_result"
    }
   ],
   "source": [
    "population_salary=pd.read_csv(\"Salaries.csv\")\n",
    "population_salary.shape"
   ]
  },
  {
   "cell_type": "code",
   "execution_count": 3,
   "id": "2dd9414b",
   "metadata": {
    "scrolled": true
   },
   "outputs": [
    {
     "data": {
      "text/html": [
       "<div>\n",
       "<style scoped>\n",
       "    .dataframe tbody tr th:only-of-type {\n",
       "        vertical-align: middle;\n",
       "    }\n",
       "\n",
       "    .dataframe tbody tr th {\n",
       "        vertical-align: top;\n",
       "    }\n",
       "\n",
       "    .dataframe thead th {\n",
       "        text-align: right;\n",
       "    }\n",
       "</style>\n",
       "<table border=\"1\" class=\"dataframe\">\n",
       "  <thead>\n",
       "    <tr style=\"text-align: right;\">\n",
       "      <th></th>\n",
       "      <th>Job Titles</th>\n",
       "      <th>Department</th>\n",
       "      <th>Annual Salary</th>\n",
       "    </tr>\n",
       "  </thead>\n",
       "  <tbody>\n",
       "    <tr>\n",
       "      <th>23911</th>\n",
       "      <td>CHIEF CONTRACT EXPEDITER</td>\n",
       "      <td>DAIS</td>\n",
       "      <td>77964.0</td>\n",
       "    </tr>\n",
       "    <tr>\n",
       "      <th>4937</th>\n",
       "      <td>LEGISLATIVE AIDE</td>\n",
       "      <td>CITY COUNCIL</td>\n",
       "      <td>37992.0</td>\n",
       "    </tr>\n",
       "    <tr>\n",
       "      <th>19473</th>\n",
       "      <td>FIREFIGHTER-EMT</td>\n",
       "      <td>FIRE DEPARTMENT</td>\n",
       "      <td>98904.0</td>\n",
       "    </tr>\n",
       "    <tr>\n",
       "      <th>11929</th>\n",
       "      <td>POLICE OFFICER (ASSIGNED AS DETECTIVE)</td>\n",
       "      <td>DEPARTMENT OF POLICE</td>\n",
       "      <td>117690.0</td>\n",
       "    </tr>\n",
       "    <tr>\n",
       "      <th>14185</th>\n",
       "      <td>POLICE OFFICER</td>\n",
       "      <td>DEPARTMENT OF POLICE</td>\n",
       "      <td>84522.0</td>\n",
       "    </tr>\n",
       "  </tbody>\n",
       "</table>\n",
       "</div>"
      ],
      "text/plain": [
       "                                   Job Titles            Department  \\\n",
       "23911                CHIEF CONTRACT EXPEDITER                  DAIS   \n",
       "4937                         LEGISLATIVE AIDE          CITY COUNCIL   \n",
       "19473                         FIREFIGHTER-EMT       FIRE DEPARTMENT   \n",
       "11929  POLICE OFFICER (ASSIGNED AS DETECTIVE)  DEPARTMENT OF POLICE   \n",
       "14185                          POLICE OFFICER  DEPARTMENT OF POLICE   \n",
       "\n",
       "       Annual Salary  \n",
       "23911        77964.0  \n",
       "4937         37992.0  \n",
       "19473        98904.0  \n",
       "11929       117690.0  \n",
       "14185        84522.0  "
      ]
     },
     "execution_count": 3,
     "metadata": {},
     "output_type": "execute_result"
    }
   ],
   "source": [
    "population_salary.sample(5,replace=False)"
   ]
  },
  {
   "cell_type": "markdown",
   "id": "65d3ec4f",
   "metadata": {},
   "source": [
    "The above data represents our population, and we assume we are interested in the median salary - this is the parameter of interest, and it is equal to $101,262 as shown by output of the cell code below:"
   ]
  },
  {
   "cell_type": "code",
   "execution_count": 4,
   "id": "950ff422",
   "metadata": {},
   "outputs": [
    {
     "data": {
      "text/plain": [
       "101262.0"
      ]
     },
     "execution_count": 4,
     "metadata": {},
     "output_type": "execute_result"
    }
   ],
   "source": [
    "theta=population_salary['Annual Salary'].median()\n",
    "theta"
   ]
  },
  {
   "cell_type": "markdown",
   "id": "be4491de",
   "metadata": {},
   "source": [
    "Suppose we would like to learn about this parameter not by collecting the data on the whole population, which can be expensive and/or impractical, but by obtaining a simple random sample of size, let's say, $n=100$. We simulate this process below twice."
   ]
  },
  {
   "cell_type": "code",
   "execution_count": 5,
   "id": "f95dc3cb",
   "metadata": {},
   "outputs": [
    {
     "data": {
      "text/plain": [
       "98904.0"
      ]
     },
     "execution_count": 5,
     "metadata": {},
     "output_type": "execute_result"
    }
   ],
   "source": [
    "np.random.seed(1234)\n",
    "\n",
    "# a simple random sample of 100 observations (rows)\n",
    "sample1_salary=population_salary.sample(100,replace=False)\n",
    "\n",
    "# the median salary in the sample\n",
    "theta_hat1=sample1_salary['Annual Salary'].median()\n",
    "theta_hat1"
   ]
  },
  {
   "cell_type": "code",
   "execution_count": 6,
   "id": "ea150a87",
   "metadata": {},
   "outputs": [
    {
     "data": {
      "text/plain": [
       "100644.0"
      ]
     },
     "execution_count": 6,
     "metadata": {},
     "output_type": "execute_result"
    }
   ],
   "source": [
    "np.random.seed(4321)\n",
    "\n",
    "# a simple random sample of 100 observations (rows)\n",
    "sample2_salary=population_salary.sample(100,replace=False)\n",
    "\n",
    "# the median salary in the sample\n",
    "theta_hat2=sample2_salary['Annual Salary'].median()\n",
    "theta_hat2"
   ]
  },
  {
   "attachments": {},
   "cell_type": "markdown",
   "id": "e88372cb",
   "metadata": {},
   "source": [
    "As you can see above, different samples will lead to different estimated values - some closer and some further away from the true value. To understand the properties of our estimate (its accuracy, for example), we need to understand its sampling distribution. The picture below shows a schematic that provides intuition on the sampling distribution:\n",
    "\n",
    "<div>\n",
    "<img src=\"sampling_dist.png\" width=\"500\"/>\n",
    "</div>\n",
    "\n",
    "The sampling distribution can be approximated by calculating the statistic of interest in repeated samples drawn using the same sampling scheme and with the same sample size.\n",
    "\n",
    "Below, we construct an approximation for the sampling distribution of the sample median in simple random samples of size 100. We simulate 10,000 simple random samples and calculate their medians."
   ]
  },
  {
   "cell_type": "code",
   "execution_count": 7,
   "id": "f2975c45",
   "metadata": {},
   "outputs": [],
   "source": [
    "# the array where sample medians will be stored\n",
    "sampling_distribution=np.array([])\n",
    "\n",
    "# the number of samples we will generate\n",
    "n_sample=10000\n",
    "\n",
    "for i in range(n_sample):\n",
    "    sampling_distribution=np.append(sampling_distribution,\n",
    "                          population_salary.sample(100,replace=False)['Annual Salary'].median())"
   ]
  },
  {
   "cell_type": "code",
   "execution_count": 8,
   "id": "ea0673a9",
   "metadata": {
    "scrolled": true
   },
   "outputs": [
    {
     "data": {
      "image/png": "[encoded data removed]",
      "text/plain": [
       "<Figure size 432x288 with 1 Axes>"
      ]
     },
     "metadata": {},
     "output_type": "display_data"
    }
   ],
   "source": [
    "# histogram of the 10,000 sample medians\n",
    "# this is an approximation of the sampling distribution\n",
    "plt.hist(sampling_distribution,bins=np.arange(96000,108000,1000));"
   ]
  },
  {
   "cell_type": "markdown",
   "id": "8b5370c3",
   "metadata": {},
   "source": [
    "Note that properties of the estimator are reflected by its sampling distribution. From the above plot:\n",
    "-  The true value (\\$101,262) seems to be close to the center of the histogram;\n",
    "-  Most of the sample medians are within \\$3-4,000 of the population median.\n",
    "\n",
    "It is clear that if we report only the estimator, we provide incomplete information on the population parameter. The second bullet point above suggests that we can report a range of plausible values that has a good chance of  capturing the parameter. A plausible range of values for the population parameter is called a **confidence interval (CI)**."
   ]
  }
 ],
 "metadata": {
  "kernelspec": {
   "display_name": "Python 3",
   "language": "python",
   "name": "python3"
  },
  "language_info": {
   "codemirror_mode": {
    "name": "ipython",
    "version": 3
   },
   "file_extension": ".py",
   "mimetype": "text/x-python",
   "name": "python",
   "nbconvert_exporter": "python",
   "pygments_lexer": "ipython3",
   "version": "3.8.8"
  }
 },
 "nbformat": 4,
 "nbformat_minor": 5
}
