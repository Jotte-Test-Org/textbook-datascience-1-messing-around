{
 "cells": [
  {
   "cell_type": "markdown",
   "id": "ec12d7aa-3a15-4c74-a4ff-7b11d1f33303",
   "metadata": {},
   "source": [
    "# This is a test"
   ]
  },
  {
   "cell_type": "code",
   "execution_count": 1,
   "id": "f40477da-22a0-454e-8b12-12047990faea",
   "metadata": {},
   "outputs": [
    {
     "name": "stdout",
     "output_type": "stream",
     "text": [
      "t e s t\n"
     ]
    }
   ],
   "source": [
    "print(*'test')"
   ]
  },
  {
   "cell_type": "code",
   "execution_count": 1,
   "id": "21bc6c71-4386-4715-b325-19fbd8b05be9",
   "metadata": {},
   "outputs": [
    {
     "name": "stdout",
     "output_type": "stream",
     "text": [
      "another test\n"
     ]
    }
   ],
   "source": [
    "print('another test')"
   ]
  },
  {
   "cell_type": "code",
   "execution_count": null,
   "id": "10d77a81-4404-4753-bba2-c01478804a37",
   "metadata": {},
   "outputs": [],
   "source": []
  }
 ],
 "metadata": {
  "kernelspec": {
   "display_name": "Python 3 (ipykernel)",
   "language": "python",
   "name": "python3"
  },
  "language_info": {
   "codemirror_mode": {
    "name": "ipython",
    "version": 3
   },
   "file_extension": ".py",
   "mimetype": "text/x-python",
   "name": "python",
   "nbconvert_exporter": "python",
   "pygments_lexer": "ipython3",
   "version": "3.10.6"
  }
 },
 "nbformat": 4,
 "nbformat_minor": 5
}
