{
 "cells": [
  {
   "cell_type": "code",
   "execution_count": 1,
   "id": "abf762d1-9baa-4692-8711-063646be886b",
   "metadata": {},
   "outputs": [
    {
     "name": "stdout",
     "output_type": "stream",
     "text": [
      "Requirement already satisfied: levenshtein in /opt/conda/lib/python3.11/site-packages (0.21.1)\n",
      "Requirement already satisfied: rapidfuzz<4.0.0,>=2.3.0 in /opt/conda/lib/python3.11/site-packages (from levenshtein) (3.3.0)\n"
     ]
    }
   ],
   "source": [
    "import numpy as np\n",
    "import pandas as pd\n",
    "import matplotlib.pyplot as plt\n",
    "!pip install levenshtein"
   ]
  },
  {
   "cell_type": "markdown",
   "id": "99bd69c4-150f-423d-90fb-83b2791278a8",
   "metadata": {},
   "source": [
    "Consider search engines that have indexes of text content. Entering a misspelled search term will match mispellings in the database, but modern search engines often suggest similar queries with larger number of hits in the database. How do they do it? Search engines (like elasticsearch) generate a wide range of possible mispellings of the query and present search results (or spelling suggestions) informed by queries for a comprehensive set of deletion- substitution-, insertion-, and transposition- modified words."
   ]
  },
  {
   "cell_type": "markdown",
   "id": "1dcd0313-0a9f-4b39-a54f-54a3d38a729c",
   "metadata": {},
   "source": [
    "Edit distance (also known as Levenshtein distance) is another approach at fuzzy matching, inspired by the process of changing one input into another. It is more sensitive than Jaccard similarity scoring but requires more computations (that is to say, it takes more time to run, other things held constant)."
   ]
  },
  {
   "cell_type": "markdown",
   "id": "1b23a463-bc12-480e-9209-314b5a485ab0",
   "metadata": {},
   "source": [
    "## Hamming distance"
   ]
  },
  {
   "cell_type": "markdown",
   "id": "6f63a381-169f-4e1b-85a8-6c8ff8f4cd94",
   "metadata": {},
   "source": [
    "If all of the symbols of interest are the same length, say, five-letter telegraph abbreviations, it is simple to count the number of differences letter-by-letter: ENBET differs in one position from ERBET and differs in two positions from TRBET. \n",
    "\n",
    "This counting-of-differences distance metric goes by the name ''Hamming distance'', but this is suited for vocabularies of aligned codewords all the same length.   \n"
   ]
  },
  {
   "cell_type": "markdown",
   "id": "c488feb1-7123-4010-bae8-009e8dd1f609",
   "metadata": {},
   "source": [
    "## Levenshtein (edit) distance"
   ]
  },
  {
   "cell_type": "markdown",
   "id": "51433011-4cd8-48fe-94af-ab440092b425",
   "metadata": {},
   "source": [
    "If you think about the process of editing text, you can modify text by adding text, deleting text, or, if you are inclined, by both deleting and adding in about the same place. These three \"operations\" can be turned into a loss function that describes how hard it would be to edit string1 into string2. There are algorithms that will find the minimum number of edits that will transform one string into another (similar) string and this minimum number of edits score has many uses in data munging."
   ]
  },
  {
   "cell_type": "markdown",
   "id": "589599e5-efa2-4343-b074-dfb55e360806",
   "metadata": {},
   "source": [
    "The Levenshtein distance counts the differences between two strings by describing the minimum number of steps needed to transform one string into the other, where the permitted steps are\n",
    "1. substitution (replace a character with a different one)\n",
    "2. insertion (add a character), and\n",
    "3. deletion.\n",
    "\n",
    "This is the number of single-character edits needed to transform one string into another.\n",
    "\n",
    "\n",
    "Levenshtein distance is fairly easy to illustrate by providing an example alignment: "
   ]
  },
  {
   "cell_type": "raw",
   "id": "9b687b76-fe4d-4372-a835-f212bbf94a7c",
   "metadata": {},
   "source": [
    "\"Didn't you see her?\" \n",
    "\"Did she see where to go?\""
   ]
  },
  {
   "cell_type": "markdown",
   "id": "b787f58c-6621-4a40-83d5-d2ac90bea5e2",
   "metadata": {},
   "source": [
    "The first string can be changed into the second with a three-character deletion (`n't`), a three-caracter substitution (`she` for `you`), and eight characters of insertions  `w` and `e to go`. "
   ]
  },
  {
   "cell_type": "markdown",
   "id": "96bb6433-bf40-47b6-92f3-a84ecaac6095",
   "metadata": {},
   "source": [
    "\n"
   ]
  },
  {
   "cell_type": "raw",
   "id": "f47f2339-da10-4ec4-aacb-c6811eb131f5",
   "metadata": {},
   "source": [
    "Didn't you see *her*******?\n",
    "   DDD SSS     I   IIIIIII \n",
    "Did*** she see where to go?"
   ]
  },
  {
   "cell_type": "markdown",
   "id": "84bd6d9e-6984-4a8b-963b-6663aae5cbcc",
   "metadata": {},
   "source": [
    "The edit distance between the strings is the sum of the number of changes.  "
   ]
  },
  {
   "cell_type": "markdown",
   "id": "5176af69-1e6d-4613-9f42-476da2966e21",
   "metadata": {},
   "source": [
    "Search engines which index text can sometimes give reasonable results when given inexexact search queries, but it is not without some engineering.  Entering a misspelled search term will match mispellings in the database and will fail to find exact matches on the correct spelling.  Modern search engines often suggest similar queries with larger number of hits in the database. How do they do it? Search engines (like elasticsearch) generate a wide range of possible mispellings of the query and present search results (or spelling suggestions) informed by queries for a comprehensive set of deletion- substitution-, insertion-, and transposition- modified words.  Yes, you have to check the search index hundreds of times, but if you see a one- or two-letter different search term with hundreds of times the hits, you would do well to suggest it."
   ]
  },
  {
   "cell_type": "code",
   "execution_count": 2,
   "id": "fc622b97-455e-4b99-9b51-e734c7335bb4",
   "metadata": {},
   "outputs": [],
   "source": [
    "import Levenshtein"
   ]
  },
  {
   "cell_type": "code",
   "execution_count": 3,
   "id": "9591eeeb-9ab6-46d9-99c9-f5622a4415d5",
   "metadata": {},
   "outputs": [],
   "source": [
    "from Levenshtein import distance"
   ]
  },
  {
   "cell_type": "markdown",
   "id": "ed84baf5-09ab-433e-9e1f-ec0d02f765b9",
   "metadata": {},
   "source": [
    "The `Levenshtein.distance` function finds the minimum number of steps.  For two completely different words, all the letters must be replaced:"
   ]
  },
  {
   "cell_type": "code",
   "execution_count": 4,
   "id": "0c703402-b3e5-4d62-b02a-5e29d14dda1b",
   "metadata": {},
   "outputs": [
    {
     "data": {
      "text/plain": [
       "3"
      ]
     },
     "execution_count": 4,
     "metadata": {},
     "output_type": "execute_result"
    }
   ],
   "source": [
    "distance(\"one\", \"six\")"
   ]
  },
  {
   "cell_type": "markdown",
   "id": "7caf1288-1f67-4b86-99cf-59b4f4959d09",
   "metadata": {},
   "source": [
    "While for a word that is a subset of another, the missing letters must all be added:"
   ]
  },
  {
   "cell_type": "code",
   "execution_count": 5,
   "id": "f9f27e27-f94d-49b5-ae76-72b590670b06",
   "metadata": {},
   "outputs": [
    {
     "data": {
      "text/plain": [
       "4"
      ]
     },
     "execution_count": 5,
     "metadata": {},
     "output_type": "execute_result"
    }
   ],
   "source": [
    "distance(\"seven\", \"seventeen\")"
   ]
  },
  {
   "cell_type": "markdown",
   "id": "ef4580dc-bec3-406d-9ea4-591e71e844b5",
   "metadata": {},
   "source": [
    "## Distances between number words"
   ]
  },
  {
   "cell_type": "markdown",
   "id": "ee84667d-f55e-4a13-9fad-f0e0f7eb07d2",
   "metadata": {},
   "source": [
    "Here we calculate the Levenshtein distance between the words for the first twenty counting numbers in English:"
   ]
  },
  {
   "cell_type": "code",
   "execution_count": 6,
   "id": "c8780520-c79a-432f-9670-29f0baf3cecf",
   "metadata": {},
   "outputs": [],
   "source": [
    "numbers2 = [\"one\", \"two\", \"three\", \"four\", \"five\", \"six\", \"seven\", \"eight\", \"nine\", \"ten\",\n",
    "           \"eleven\", \"twelve\", \"thirteen\", \"fourteen\", \"fifteen\", \"sixteen\", \"seventeen\",\n",
    "           \"eighteen\", \"nineteen\", \"twenty\"]"
   ]
  },
  {
   "cell_type": "code",
   "execution_count": 7,
   "id": "70ffc1ec-41be-4303-8730-7067c71901b9",
   "metadata": {},
   "outputs": [],
   "source": [
    "d = np.zeros((20,20))\n",
    "# Calculate distance between all pairs of strings in numbers2\n",
    "for i in range(len(numbers2)):\n",
    "    for j in range(len(numbers2)):\n",
    "        d[i][j] = distance( numbers2[i], numbers2[j])\n"
   ]
  },
  {
   "cell_type": "code",
   "execution_count": 8,
   "id": "601d7830-63b6-4436-94cf-9aebf8792882",
   "metadata": {},
   "outputs": [
    {
     "data": {
      "text/plain": [
       "([<matplotlib.axis.XTick at 0x7f497c7f1d10>,\n",
       "  <matplotlib.axis.XTick at 0x7f497bbfd610>,\n",
       "  <matplotlib.axis.XTick at 0x7f497c39e710>,\n",
       "  <matplotlib.axis.XTick at 0x7f497b9cde50>,\n",
       "  <matplotlib.axis.XTick at 0x7f497b9cff90>,\n",
       "  <matplotlib.axis.XTick at 0x7f497b9ca190>,\n",
       "  <matplotlib.axis.XTick at 0x7f497b9d6310>,\n",
       "  <matplotlib.axis.XTick at 0x7f497b9e0310>,\n",
       "  <matplotlib.axis.XTick at 0x7f497b9e2390>,\n",
       "  <matplotlib.axis.XTick at 0x7f497b9ec590>,\n",
       "  <matplotlib.axis.XTick at 0x7f497b9e2a50>,\n",
       "  <matplotlib.axis.XTick at 0x7f497b9eea90>,\n",
       "  <matplotlib.axis.XTick at 0x7f497b9f8ad0>,\n",
       "  <matplotlib.axis.XTick at 0x7f497b9fac90>,\n",
       "  <matplotlib.axis.XTick at 0x7f497b9fcc90>,\n",
       "  <matplotlib.axis.XTick at 0x7f497b9ce5d0>,\n",
       "  <matplotlib.axis.XTick at 0x7f497b9ff290>,\n",
       "  <matplotlib.axis.XTick at 0x7f497b9ffe50>,\n",
       "  <matplotlib.axis.XTick at 0x7f497ba07250>,\n",
       "  <matplotlib.axis.XTick at 0x7f497ba09410>],\n",
       " [Text(0, 0, 'one'),\n",
       "  Text(1, 0, 'two'),\n",
       "  Text(2, 0, 'three'),\n",
       "  Text(3, 0, 'four'),\n",
       "  Text(4, 0, 'five'),\n",
       "  Text(5, 0, 'six'),\n",
       "  Text(6, 0, 'seven'),\n",
       "  Text(7, 0, 'eight'),\n",
       "  Text(8, 0, 'nine'),\n",
       "  Text(9, 0, 'ten'),\n",
       "  Text(10, 0, 'eleven'),\n",
       "  Text(11, 0, 'twelve'),\n",
       "  Text(12, 0, 'thirteen'),\n",
       "  Text(13, 0, 'fourteen'),\n",
       "  Text(14, 0, 'fifteen'),\n",
       "  Text(15, 0, 'sixteen'),\n",
       "  Text(16, 0, 'seventeen'),\n",
       "  Text(17, 0, 'eighteen'),\n",
       "  Text(18, 0, 'nineteen'),\n",
       "  Text(19, 0, 'twenty')])"
      ]
     },
     "execution_count": 8,
     "metadata": {},
     "output_type": "execute_result"
    },
    {
     "data": {
      "image/png": "[encoded data removed]",
      "text/plain": [
       "<Figure size 640x480 with 2 Axes>"
      ]
     },
     "metadata": {},
     "output_type": "display_data"
    }
   ],
   "source": [
    "plt.imshow(d)\n",
    "plt.colorbar()\n",
    "plt.title(\"Levenshtein distance between number words\")\n",
    "plt.yticks(np.arange(len(numbers2)), numbers2, fontsize=6)\n",
    "plt.xticks(np.arange(len(numbers2)), numbers2, fontsize=6, rotation=90)"
   ]
  },
  {
   "cell_type": "markdown",
   "id": "47c5ace0-e180-4cbc-b4f4-9bb518329d2d",
   "metadata": {},
   "source": [
    "This looks different from the set-based number-word similarity graph we constructed earlier.  First, we are measuring distance, not similarity, so the diagonal has distance 0 instead of similarity 1.  Second, the range of the distances is integers between 0 and the sum of the lengths of the two strings being compared.  "
   ]
  },
  {
   "cell_type": "markdown",
   "id": "d1b7680f-9fc2-4161-b7bd-14f93c1ccc2f",
   "metadata": {},
   "source": [
    "Since this depends on a property of the strings that is not interesting, we can divide by the maximum possible "
   ]
  },
  {
   "cell_type": "markdown",
   "id": "f27cb71a-1028-439e-ab2d-43f496bdf0b6",
   "metadata": {},
   "source": [
    "The calculation of edit distance is, in general, more expensive to calculate than Jaccard similarity or Hamming distance; there are three possible operations at each position, and the operations may need to be repeated.\n"
   ]
  },
  {
   "cell_type": "code",
   "execution_count": 9,
   "id": "a69abdb0-b0b3-4908-8df6-b11583c2a130",
   "metadata": {},
   "outputs": [],
   "source": [
    "d2 = np.zeros((20,20))\n",
    "# Calculate distance between all pairs of strings in numbers2\n",
    "for i in range(len(numbers2)):\n",
    "    for j in range(len(numbers2)):\n",
    "        d2[i][j] = distance( numbers2[i], numbers2[j]) / (len(numbers2[i]) + len(numbers2[j])) "
   ]
  },
  {
   "cell_type": "code",
   "execution_count": 10,
   "id": "b46396bd-796b-4a6f-b523-73eacebe881b",
   "metadata": {},
   "outputs": [
    {
     "data": {
      "text/plain": [
       "([<matplotlib.axis.XTick at 0x7f497ba40750>,\n",
       "  <matplotlib.axis.XTick at 0x7f497bc6ee50>,\n",
       "  <matplotlib.axis.XTick at 0x7f497ba57790>,\n",
       "  <matplotlib.axis.XTick at 0x7f497b9384d0>,\n",
       "  <matplotlib.axis.XTick at 0x7f497b93a4d0>,\n",
       "  <matplotlib.axis.XTick at 0x7f497b93c710>,\n",
       "  <matplotlib.axis.XTick at 0x7f497b928b10>,\n",
       "  <matplotlib.axis.XTick at 0x7f497b93ec50>,\n",
       "  <matplotlib.axis.XTick at 0x7f497b93f890>,\n",
       "  <matplotlib.axis.XTick at 0x7f497b942d10>,\n",
       "  <matplotlib.axis.XTick at 0x7f497b94ccd0>,\n",
       "  <matplotlib.axis.XTick at 0x7f497b93e310>,\n",
       "  <matplotlib.axis.XTick at 0x7f497b94f410>,\n",
       "  <matplotlib.axis.XTick at 0x7f497b951410>,\n",
       "  <matplotlib.axis.XTick at 0x7f497b9533d0>,\n",
       "  <matplotlib.axis.XTick at 0x7f497b95d3d0>,\n",
       "  <matplotlib.axis.XTick at 0x7f497b951b10>,\n",
       "  <matplotlib.axis.XTick at 0x7f497ba92d10>,\n",
       "  <matplotlib.axis.XTick at 0x7f497b9689d0>,\n",
       "  <matplotlib.axis.XTick at 0x7f497b96aad0>],\n",
       " [Text(0, 0, 'one'),\n",
       "  Text(1, 0, 'two'),\n",
       "  Text(2, 0, 'three'),\n",
       "  Text(3, 0, 'four'),\n",
       "  Text(4, 0, 'five'),\n",
       "  Text(5, 0, 'six'),\n",
       "  Text(6, 0, 'seven'),\n",
       "  Text(7, 0, 'eight'),\n",
       "  Text(8, 0, 'nine'),\n",
       "  Text(9, 0, 'ten'),\n",
       "  Text(10, 0, 'eleven'),\n",
       "  Text(11, 0, 'twelve'),\n",
       "  Text(12, 0, 'thirteen'),\n",
       "  Text(13, 0, 'fourteen'),\n",
       "  Text(14, 0, 'fifteen'),\n",
       "  Text(15, 0, 'sixteen'),\n",
       "  Text(16, 0, 'seventeen'),\n",
       "  Text(17, 0, 'eighteen'),\n",
       "  Text(18, 0, 'nineteen'),\n",
       "  Text(19, 0, 'twenty')])"
      ]
     },
     "execution_count": 10,
     "metadata": {},
     "output_type": "execute_result"
    },
    {
     "data": {
      "image/png": "[encoded data removed]",
      "text/plain": [
       "<Figure size 640x480 with 2 Axes>"
      ]
     },
     "metadata": {},
     "output_type": "display_data"
    }
   ],
   "source": [
    "plt.imshow(1-d2)\n",
    "plt.colorbar()\n",
    "plt.title(\"Levenshtein similarity between number words\")\n",
    "plt.yticks(np.arange(len(numbers2)), numbers2, fontsize=6)\n",
    "plt.xticks(np.arange(len(numbers2)), numbers2, fontsize=6, rotation=90)"
   ]
  },
  {
   "cell_type": "markdown",
   "id": "e6a4955a-2c91-43db-8117-c96c6280b93c",
   "metadata": {},
   "source": [
    "## Spelling correction"
   ]
  },
  {
   "cell_type": "markdown",
   "id": "1bdf8bb2-d803-46f2-a071-95e4d89ed0ae",
   "metadata": {},
   "source": [
    "One straightforward application of fuzzy matching is spelling correction; after checking each token in a document to see if it is in the dictionary, the words which are not in the dictionary are presented to the user along with suggestions of dictionary words that are similar to the unmatched word.\n",
    "\n",
    "The fuzzy matching can either start from the mispelled word and generate all possible mispellings out to a certain edit distance, or can start from the words in the dictionary, and find those with the fewest needed edits.  Think for a minute which of these might be cheaper (in terms of number of comparisons required.) "
   ]
  },
  {
   "cell_type": "code",
   "execution_count": 11,
   "id": "9b3a0438-a9a2-4baa-873d-cf08f9634277",
   "metadata": {},
   "outputs": [],
   "source": [
    "words = pd.read_csv(\"../../data/SINGLE.txt\", header=None)"
   ]
  },
  {
   "cell_type": "code",
   "execution_count": 12,
   "id": "0c50f4fd-e2fc-4d53-8e40-59687c0ec205",
   "metadata": {},
   "outputs": [
    {
     "data": {
      "text/html": [
       "<div>\n",
       "<style scoped>\n",
       "    .dataframe tbody tr th:only-of-type {\n",
       "        vertical-align: middle;\n",
       "    }\n",
       "\n",
       "    .dataframe tbody tr th {\n",
       "        vertical-align: top;\n",
       "    }\n",
       "\n",
       "    .dataframe thead th {\n",
       "        text-align: right;\n",
       "    }\n",
       "</style>\n",
       "<table border=\"1\" class=\"dataframe\">\n",
       "  <thead>\n",
       "    <tr style=\"text-align: right;\">\n",
       "      <th></th>\n",
       "      <th>0</th>\n",
       "    </tr>\n",
       "  </thead>\n",
       "  <tbody>\n",
       "    <tr>\n",
       "      <th>0</th>\n",
       "      <td>&amp;c</td>\n",
       "    </tr>\n",
       "    <tr>\n",
       "      <th>1</th>\n",
       "      <td>'d</td>\n",
       "    </tr>\n",
       "    <tr>\n",
       "      <th>2</th>\n",
       "      <td>'em</td>\n",
       "    </tr>\n",
       "    <tr>\n",
       "      <th>3</th>\n",
       "      <td>'ll</td>\n",
       "    </tr>\n",
       "    <tr>\n",
       "      <th>4</th>\n",
       "      <td>'m</td>\n",
       "    </tr>\n",
       "    <tr>\n",
       "      <th>...</th>\n",
       "      <td>...</td>\n",
       "    </tr>\n",
       "    <tr>\n",
       "      <th>354979</th>\n",
       "      <td>zymurgy</td>\n",
       "    </tr>\n",
       "    <tr>\n",
       "      <th>354980</th>\n",
       "      <td>zythem</td>\n",
       "    </tr>\n",
       "    <tr>\n",
       "      <th>354981</th>\n",
       "      <td>zythum</td>\n",
       "    </tr>\n",
       "    <tr>\n",
       "      <th>354982</th>\n",
       "      <td>zyzzyva</td>\n",
       "    </tr>\n",
       "    <tr>\n",
       "      <th>354983</th>\n",
       "      <td>zyzzyvas</td>\n",
       "    </tr>\n",
       "  </tbody>\n",
       "</table>\n",
       "<p>354984 rows × 1 columns</p>\n",
       "</div>"
      ],
      "text/plain": [
       "               0\n",
       "0             &c\n",
       "1             'd\n",
       "2            'em\n",
       "3            'll\n",
       "4             'm\n",
       "...          ...\n",
       "354979   zymurgy\n",
       "354980    zythem\n",
       "354981    zythum\n",
       "354982   zyzzyva\n",
       "354983  zyzzyvas\n",
       "\n",
       "[354984 rows x 1 columns]"
      ]
     },
     "execution_count": 12,
     "metadata": {},
     "output_type": "execute_result"
    }
   ],
   "source": [
    "words"
   ]
  },
  {
   "cell_type": "code",
   "execution_count": 13,
   "id": "5e040f5e-88dd-41b5-ab05-9c411d0c9a86",
   "metadata": {},
   "outputs": [],
   "source": [
    "# Start with a special-purpose function that only finds the distance\n",
    "# to one word of interest: \n",
    "word = \"wprd\"   # This is a mispelling\n",
    "def dist_to_word(w):\n",
    "        return distance(w, word)"
   ]
  },
  {
   "cell_type": "code",
   "execution_count": 14,
   "id": "9984d7c8-52bb-4cb2-b4d2-3a8a83f97ddf",
   "metadata": {},
   "outputs": [
    {
     "data": {
      "text/plain": [
       "(2, 2, 2)"
      ]
     },
     "execution_count": 14,
     "metadata": {},
     "output_type": "execute_result"
    }
   ],
   "source": [
    "dist_to_word(\"worm\"), dist_to_word(\"wierd\"), dist_to_word(\"weird\")"
   ]
  },
  {
   "cell_type": "code",
   "execution_count": 15,
   "id": "68252568-680b-4378-ab8a-819cf9359efa",
   "metadata": {},
   "outputs": [
    {
     "data": {
      "text/plain": [
       "False"
      ]
     },
     "execution_count": 15,
     "metadata": {},
     "output_type": "execute_result"
    }
   ],
   "source": [
    "# Check that d(word, word) == 0 \n",
    "dist_to_word(\"word\") == 0 "
   ]
  },
  {
   "cell_type": "markdown",
   "id": "771759cf-12d3-4b44-af5f-7f10325899f9",
   "metadata": {},
   "source": [
    "Check that we can find all the distances in one step:"
   ]
  },
  {
   "cell_type": "code",
   "execution_count": 16,
   "id": "6259bc1b-c139-42be-8182-4b442858c4dc",
   "metadata": {},
   "outputs": [
    {
     "ename": "TypeError",
     "evalue": "object of type 'float' has no len()",
     "output_type": "error",
     "traceback": [
      "\u001b[0;31m---------------------------------------------------------------------------\u001b[0m",
      "\u001b[0;31mTypeError\u001b[0m                                 Traceback (most recent call last)",
      "Cell \u001b[0;32mIn[16], line 1\u001b[0m\n\u001b[0;32m----> 1\u001b[0m \u001b[43mwords\u001b[49m\u001b[43m[\u001b[49m\u001b[38;5;241;43m0\u001b[39;49m\u001b[43m]\u001b[49m\u001b[38;5;241;43m.\u001b[39;49m\u001b[43mapply\u001b[49m\u001b[43m(\u001b[49m\u001b[43mdist_to_word\u001b[49m\u001b[43m)\u001b[49m\n",
      "File \u001b[0;32m/opt/conda/lib/python3.11/site-packages/pandas/core/series.py:4765\u001b[0m, in \u001b[0;36mSeries.apply\u001b[0;34m(self, func, convert_dtype, args, by_row, **kwargs)\u001b[0m\n\u001b[1;32m   4625\u001b[0m \u001b[38;5;28;01mdef\u001b[39;00m \u001b[38;5;21mapply\u001b[39m(\n\u001b[1;32m   4626\u001b[0m     \u001b[38;5;28mself\u001b[39m,\n\u001b[1;32m   4627\u001b[0m     func: AggFuncType,\n\u001b[0;32m   (...)\u001b[0m\n\u001b[1;32m   4632\u001b[0m     \u001b[38;5;241m*\u001b[39m\u001b[38;5;241m*\u001b[39mkwargs,\n\u001b[1;32m   4633\u001b[0m ) \u001b[38;5;241m-\u001b[39m\u001b[38;5;241m>\u001b[39m DataFrame \u001b[38;5;241m|\u001b[39m Series:\n\u001b[1;32m   4634\u001b[0m \u001b[38;5;250m    \u001b[39m\u001b[38;5;124;03m\"\"\"\u001b[39;00m\n\u001b[1;32m   4635\u001b[0m \u001b[38;5;124;03m    Invoke function on values of Series.\u001b[39;00m\n\u001b[1;32m   4636\u001b[0m \n\u001b[0;32m   (...)\u001b[0m\n\u001b[1;32m   4756\u001b[0m \u001b[38;5;124;03m    dtype: float64\u001b[39;00m\n\u001b[1;32m   4757\u001b[0m \u001b[38;5;124;03m    \"\"\"\u001b[39;00m\n\u001b[1;32m   4758\u001b[0m     \u001b[38;5;28;01mreturn\u001b[39;00m \u001b[43mSeriesApply\u001b[49m\u001b[43m(\u001b[49m\n\u001b[1;32m   4759\u001b[0m \u001b[43m        \u001b[49m\u001b[38;5;28;43mself\u001b[39;49m\u001b[43m,\u001b[49m\n\u001b[1;32m   4760\u001b[0m \u001b[43m        \u001b[49m\u001b[43mfunc\u001b[49m\u001b[43m,\u001b[49m\n\u001b[1;32m   4761\u001b[0m \u001b[43m        \u001b[49m\u001b[43mconvert_dtype\u001b[49m\u001b[38;5;241;43m=\u001b[39;49m\u001b[43mconvert_dtype\u001b[49m\u001b[43m,\u001b[49m\n\u001b[1;32m   4762\u001b[0m \u001b[43m        \u001b[49m\u001b[43mby_row\u001b[49m\u001b[38;5;241;43m=\u001b[39;49m\u001b[43mby_row\u001b[49m\u001b[43m,\u001b[49m\n\u001b[1;32m   4763\u001b[0m \u001b[43m        \u001b[49m\u001b[43margs\u001b[49m\u001b[38;5;241;43m=\u001b[39;49m\u001b[43margs\u001b[49m\u001b[43m,\u001b[49m\n\u001b[1;32m   4764\u001b[0m \u001b[43m        \u001b[49m\u001b[43mkwargs\u001b[49m\u001b[38;5;241;43m=\u001b[39;49m\u001b[43mkwargs\u001b[49m\u001b[43m,\u001b[49m\n\u001b[0;32m-> 4765\u001b[0m \u001b[43m    \u001b[49m\u001b[43m)\u001b[49m\u001b[38;5;241;43m.\u001b[39;49m\u001b[43mapply\u001b[49m\u001b[43m(\u001b[49m\u001b[43m)\u001b[49m\n",
      "File \u001b[0;32m/opt/conda/lib/python3.11/site-packages/pandas/core/apply.py:1201\u001b[0m, in \u001b[0;36mSeriesApply.apply\u001b[0;34m(self)\u001b[0m\n\u001b[1;32m   1198\u001b[0m     \u001b[38;5;28;01mreturn\u001b[39;00m \u001b[38;5;28mself\u001b[39m\u001b[38;5;241m.\u001b[39mapply_compat()\n\u001b[1;32m   1200\u001b[0m \u001b[38;5;66;03m# self.func is Callable\u001b[39;00m\n\u001b[0;32m-> 1201\u001b[0m \u001b[38;5;28;01mreturn\u001b[39;00m \u001b[38;5;28;43mself\u001b[39;49m\u001b[38;5;241;43m.\u001b[39;49m\u001b[43mapply_standard\u001b[49m\u001b[43m(\u001b[49m\u001b[43m)\u001b[49m\n",
      "File \u001b[0;32m/opt/conda/lib/python3.11/site-packages/pandas/core/apply.py:1281\u001b[0m, in \u001b[0;36mSeriesApply.apply_standard\u001b[0;34m(self)\u001b[0m\n\u001b[1;32m   1275\u001b[0m \u001b[38;5;66;03m# row-wise access\u001b[39;00m\n\u001b[1;32m   1276\u001b[0m \u001b[38;5;66;03m# apply doesn't have a `na_action` keyword and for backward compat reasons\u001b[39;00m\n\u001b[1;32m   1277\u001b[0m \u001b[38;5;66;03m# we need to give `na_action=\"ignore\"` for categorical data.\u001b[39;00m\n\u001b[1;32m   1278\u001b[0m \u001b[38;5;66;03m# TODO: remove the `na_action=\"ignore\"` when that default has been changed in\u001b[39;00m\n\u001b[1;32m   1279\u001b[0m \u001b[38;5;66;03m#  Categorical (GH51645).\u001b[39;00m\n\u001b[1;32m   1280\u001b[0m action \u001b[38;5;241m=\u001b[39m \u001b[38;5;124m\"\u001b[39m\u001b[38;5;124mignore\u001b[39m\u001b[38;5;124m\"\u001b[39m \u001b[38;5;28;01mif\u001b[39;00m \u001b[38;5;28misinstance\u001b[39m(obj\u001b[38;5;241m.\u001b[39mdtype, CategoricalDtype) \u001b[38;5;28;01melse\u001b[39;00m \u001b[38;5;28;01mNone\u001b[39;00m\n\u001b[0;32m-> 1281\u001b[0m mapped \u001b[38;5;241m=\u001b[39m \u001b[43mobj\u001b[49m\u001b[38;5;241;43m.\u001b[39;49m\u001b[43m_map_values\u001b[49m\u001b[43m(\u001b[49m\n\u001b[1;32m   1282\u001b[0m \u001b[43m    \u001b[49m\u001b[43mmapper\u001b[49m\u001b[38;5;241;43m=\u001b[39;49m\u001b[43mcurried\u001b[49m\u001b[43m,\u001b[49m\u001b[43m \u001b[49m\u001b[43mna_action\u001b[49m\u001b[38;5;241;43m=\u001b[39;49m\u001b[43maction\u001b[49m\u001b[43m,\u001b[49m\u001b[43m \u001b[49m\u001b[43mconvert\u001b[49m\u001b[38;5;241;43m=\u001b[39;49m\u001b[38;5;28;43mself\u001b[39;49m\u001b[38;5;241;43m.\u001b[39;49m\u001b[43mconvert_dtype\u001b[49m\n\u001b[1;32m   1283\u001b[0m \u001b[43m\u001b[49m\u001b[43m)\u001b[49m\n\u001b[1;32m   1285\u001b[0m \u001b[38;5;28;01mif\u001b[39;00m \u001b[38;5;28mlen\u001b[39m(mapped) \u001b[38;5;129;01mand\u001b[39;00m \u001b[38;5;28misinstance\u001b[39m(mapped[\u001b[38;5;241m0\u001b[39m], ABCSeries):\n\u001b[1;32m   1286\u001b[0m     warnings\u001b[38;5;241m.\u001b[39mwarn(\n\u001b[1;32m   1287\u001b[0m         \u001b[38;5;124m\"\u001b[39m\u001b[38;5;124mReturning a DataFrame from Series.apply when the supplied function \u001b[39m\u001b[38;5;124m\"\u001b[39m\n\u001b[1;32m   1288\u001b[0m         \u001b[38;5;124m\"\u001b[39m\u001b[38;5;124mreturns a Series is deprecated and will be removed in a future \u001b[39m\u001b[38;5;124m\"\u001b[39m\n\u001b[0;32m   (...)\u001b[0m\n\u001b[1;32m   1291\u001b[0m         stacklevel\u001b[38;5;241m=\u001b[39mfind_stack_level(),\n\u001b[1;32m   1292\u001b[0m     )  \u001b[38;5;66;03m# GH52116\u001b[39;00m\n",
      "File \u001b[0;32m/opt/conda/lib/python3.11/site-packages/pandas/core/base.py:921\u001b[0m, in \u001b[0;36mIndexOpsMixin._map_values\u001b[0;34m(self, mapper, na_action, convert)\u001b[0m\n\u001b[1;32m    918\u001b[0m \u001b[38;5;28;01mif\u001b[39;00m \u001b[38;5;28misinstance\u001b[39m(arr, ExtensionArray):\n\u001b[1;32m    919\u001b[0m     \u001b[38;5;28;01mreturn\u001b[39;00m arr\u001b[38;5;241m.\u001b[39mmap(mapper, na_action\u001b[38;5;241m=\u001b[39mna_action)\n\u001b[0;32m--> 921\u001b[0m \u001b[38;5;28;01mreturn\u001b[39;00m \u001b[43malgorithms\u001b[49m\u001b[38;5;241;43m.\u001b[39;49m\u001b[43mmap_array\u001b[49m\u001b[43m(\u001b[49m\u001b[43marr\u001b[49m\u001b[43m,\u001b[49m\u001b[43m \u001b[49m\u001b[43mmapper\u001b[49m\u001b[43m,\u001b[49m\u001b[43m \u001b[49m\u001b[43mna_action\u001b[49m\u001b[38;5;241;43m=\u001b[39;49m\u001b[43mna_action\u001b[49m\u001b[43m,\u001b[49m\u001b[43m \u001b[49m\u001b[43mconvert\u001b[49m\u001b[38;5;241;43m=\u001b[39;49m\u001b[43mconvert\u001b[49m\u001b[43m)\u001b[49m\n",
      "File \u001b[0;32m/opt/conda/lib/python3.11/site-packages/pandas/core/algorithms.py:1812\u001b[0m, in \u001b[0;36mmap_array\u001b[0;34m(arr, mapper, na_action, convert)\u001b[0m\n\u001b[1;32m   1810\u001b[0m values \u001b[38;5;241m=\u001b[39m arr\u001b[38;5;241m.\u001b[39mastype(\u001b[38;5;28mobject\u001b[39m, copy\u001b[38;5;241m=\u001b[39m\u001b[38;5;28;01mFalse\u001b[39;00m)\n\u001b[1;32m   1811\u001b[0m \u001b[38;5;28;01mif\u001b[39;00m na_action \u001b[38;5;129;01mis\u001b[39;00m \u001b[38;5;28;01mNone\u001b[39;00m:\n\u001b[0;32m-> 1812\u001b[0m     \u001b[38;5;28;01mreturn\u001b[39;00m \u001b[43mlib\u001b[49m\u001b[38;5;241;43m.\u001b[39;49m\u001b[43mmap_infer\u001b[49m\u001b[43m(\u001b[49m\u001b[43mvalues\u001b[49m\u001b[43m,\u001b[49m\u001b[43m \u001b[49m\u001b[43mmapper\u001b[49m\u001b[43m,\u001b[49m\u001b[43m \u001b[49m\u001b[43mconvert\u001b[49m\u001b[38;5;241;43m=\u001b[39;49m\u001b[43mconvert\u001b[49m\u001b[43m)\u001b[49m\n\u001b[1;32m   1813\u001b[0m \u001b[38;5;28;01melse\u001b[39;00m:\n\u001b[1;32m   1814\u001b[0m     \u001b[38;5;28;01mreturn\u001b[39;00m lib\u001b[38;5;241m.\u001b[39mmap_infer_mask(\n\u001b[1;32m   1815\u001b[0m         values, mapper, mask\u001b[38;5;241m=\u001b[39misna(values)\u001b[38;5;241m.\u001b[39mview(np\u001b[38;5;241m.\u001b[39muint8), convert\u001b[38;5;241m=\u001b[39mconvert\n\u001b[1;32m   1816\u001b[0m     )\n",
      "File \u001b[0;32mlib.pyx:2917\u001b[0m, in \u001b[0;36mpandas._libs.lib.map_infer\u001b[0;34m()\u001b[0m\n",
      "Cell \u001b[0;32mIn[13], line 5\u001b[0m, in \u001b[0;36mdist_to_word\u001b[0;34m(w)\u001b[0m\n\u001b[1;32m      4\u001b[0m \u001b[38;5;28;01mdef\u001b[39;00m \u001b[38;5;21mdist_to_word\u001b[39m(w):\n\u001b[0;32m----> 5\u001b[0m         \u001b[38;5;28;01mreturn\u001b[39;00m \u001b[43mdistance\u001b[49m\u001b[43m(\u001b[49m\u001b[43mw\u001b[49m\u001b[43m,\u001b[49m\u001b[43m \u001b[49m\u001b[43mword\u001b[49m\u001b[43m)\u001b[49m\n",
      "File \u001b[0;32m/opt/conda/lib/python3.11/site-packages/Levenshtein/__init__.py:116\u001b[0m, in \u001b[0;36mdistance\u001b[0;34m(s1, s2, weights, processor, score_cutoff)\u001b[0m\n\u001b[1;32m     61\u001b[0m \u001b[38;5;28;01mdef\u001b[39;00m \u001b[38;5;21mdistance\u001b[39m(s1, s2, \u001b[38;5;241m*\u001b[39m, weights\u001b[38;5;241m=\u001b[39m(\u001b[38;5;241m1\u001b[39m, \u001b[38;5;241m1\u001b[39m, \u001b[38;5;241m1\u001b[39m), processor\u001b[38;5;241m=\u001b[39m\u001b[38;5;28;01mNone\u001b[39;00m, score_cutoff\u001b[38;5;241m=\u001b[39m\u001b[38;5;28;01mNone\u001b[39;00m):\n\u001b[1;32m     62\u001b[0m \u001b[38;5;250m    \u001b[39m\u001b[38;5;124;03m\"\"\"\u001b[39;00m\n\u001b[1;32m     63\u001b[0m \u001b[38;5;124;03m    Calculates the minimum number of insertions, deletions, and substitutions\u001b[39;00m\n\u001b[1;32m     64\u001b[0m \u001b[38;5;124;03m    required to change one sequence into the other according to Levenshtein with custom\u001b[39;00m\n\u001b[0;32m   (...)\u001b[0m\n\u001b[1;32m    114\u001b[0m \u001b[38;5;124;03m    3\u001b[39;00m\n\u001b[1;32m    115\u001b[0m \u001b[38;5;124;03m    \"\"\"\u001b[39;00m\n\u001b[0;32m--> 116\u001b[0m     \u001b[38;5;28;01mreturn\u001b[39;00m \u001b[43m_Levenshtein\u001b[49m\u001b[38;5;241;43m.\u001b[39;49m\u001b[43mdistance\u001b[49m\u001b[43m(\u001b[49m\n\u001b[1;32m    117\u001b[0m \u001b[43m        \u001b[49m\u001b[43ms1\u001b[49m\u001b[43m,\u001b[49m\u001b[43m \u001b[49m\u001b[43ms2\u001b[49m\u001b[43m,\u001b[49m\u001b[43m \u001b[49m\u001b[43mweights\u001b[49m\u001b[38;5;241;43m=\u001b[39;49m\u001b[43mweights\u001b[49m\u001b[43m,\u001b[49m\u001b[43m \u001b[49m\u001b[43mprocessor\u001b[49m\u001b[38;5;241;43m=\u001b[39;49m\u001b[43mprocessor\u001b[49m\u001b[43m,\u001b[49m\u001b[43m \u001b[49m\u001b[43mscore_cutoff\u001b[49m\u001b[38;5;241;43m=\u001b[39;49m\u001b[43mscore_cutoff\u001b[49m\n\u001b[1;32m    118\u001b[0m \u001b[43m    \u001b[49m\u001b[43m)\u001b[49m\n",
      "File \u001b[0;32msrc/rapidfuzz/distance/metrics_cpp.pyx:228\u001b[0m, in \u001b[0;36mrapidfuzz.distance.metrics_cpp_avx2.levenshtein_distance\u001b[0;34m()\u001b[0m\n",
      "File \u001b[0;32m./src/rapidfuzz/cpp_common.pxd:376\u001b[0m, in \u001b[0;36mcpp_common.preprocess_strings\u001b[0;34m()\u001b[0m\n",
      "File \u001b[0;32m./src/rapidfuzz/cpp_common.pxd:334\u001b[0m, in \u001b[0;36mcpp_common.conv_sequence\u001b[0;34m()\u001b[0m\n",
      "File \u001b[0;32m./src/rapidfuzz/cpp_common.pxd:302\u001b[0m, in \u001b[0;36mcpp_common.hash_sequence\u001b[0;34m()\u001b[0m\n",
      "\u001b[0;31mTypeError\u001b[0m: object of type 'float' has no len()"
     ]
    }
   ],
   "source": [
    "words[0].apply(dist_to_word)"
   ]
  },
  {
   "cell_type": "markdown",
   "id": "797565e2-9c70-4d94-ac3c-ccb78eebbf63",
   "metadata": {},
   "source": [
    "Well, that didn't work.  It seems some of the words in the dictionary aren't encoded as strings.  Let us find the rows that are broken:"
   ]
  },
  {
   "cell_type": "code",
   "execution_count": 17,
   "id": "f95c8b85-e724-4a29-b4f0-d9d4589e7d81",
   "metadata": {},
   "outputs": [
    {
     "data": {
      "text/plain": [
       "0         True\n",
       "1         True\n",
       "2         True\n",
       "3         True\n",
       "4         True\n",
       "          ... \n",
       "354979    True\n",
       "354980    True\n",
       "354981    True\n",
       "354982    True\n",
       "354983    True\n",
       "Name: 0, Length: 354984, dtype: bool"
      ]
     },
     "execution_count": 17,
     "metadata": {},
     "output_type": "execute_result"
    }
   ],
   "source": [
    "def test_str(s):\n",
    "    return type(s) == str\n",
    "words[0].apply(test_str)"
   ]
  },
  {
   "cell_type": "code",
   "execution_count": 18,
   "id": "90a3ffb6-0bcc-400f-8b8e-20dfd38c227f",
   "metadata": {},
   "outputs": [
    {
     "data": {
      "text/plain": [
       "(array([186010, 186271, 198557]),)"
      ]
     },
     "execution_count": 18,
     "metadata": {},
     "output_type": "execute_result"
    }
   ],
   "source": [
    "badindexes = np.where(words[0].apply(test_str)==False)\n",
    "badindexes"
   ]
  },
  {
   "cell_type": "markdown",
   "id": "a3ed3b30-914c-4d16-9cb9-e13ad9f6dfbe",
   "metadata": {},
   "source": [
    "Three rows have non-string names in them."
   ]
  },
  {
   "cell_type": "code",
   "execution_count": 19,
   "id": "bd14619f-eb93-43e9-b41b-3c7ce8616094",
   "metadata": {},
   "outputs": [
    {
     "data": {
      "text/html": [
       "<div>\n",
       "<style scoped>\n",
       "    .dataframe tbody tr th:only-of-type {\n",
       "        vertical-align: middle;\n",
       "    }\n",
       "\n",
       "    .dataframe tbody tr th {\n",
       "        vertical-align: top;\n",
       "    }\n",
       "\n",
       "    .dataframe thead th {\n",
       "        text-align: right;\n",
       "    }\n",
       "</style>\n",
       "<table border=\"1\" class=\"dataframe\">\n",
       "  <thead>\n",
       "    <tr style=\"text-align: right;\">\n",
       "      <th></th>\n",
       "      <th>0</th>\n",
       "    </tr>\n",
       "  </thead>\n",
       "  <tbody>\n",
       "    <tr>\n",
       "      <th>186010</th>\n",
       "      <td>NaN</td>\n",
       "    </tr>\n",
       "    <tr>\n",
       "      <th>186271</th>\n",
       "      <td>NaN</td>\n",
       "    </tr>\n",
       "    <tr>\n",
       "      <th>198557</th>\n",
       "      <td>NaN</td>\n",
       "    </tr>\n",
       "  </tbody>\n",
       "</table>\n",
       "</div>"
      ],
      "text/plain": [
       "          0\n",
       "186010  NaN\n",
       "186271  NaN\n",
       "198557  NaN"
      ]
     },
     "execution_count": 19,
     "metadata": {},
     "output_type": "execute_result"
    }
   ],
   "source": [
    "words.loc[badindexes]"
   ]
  },
  {
   "cell_type": "markdown",
   "id": "c95a2c96-a98c-463f-b706-d756ac3f6611",
   "metadata": {},
   "source": [
    "The non-string rows are all encoded as `NaN` (Not-a-number, a special symbol that acts like a number).  Examining the dataframe does not tell us about the source of the problem.  Let's try specifying a data type to `read_csv` and hope for the best:"
   ]
  },
  {
   "cell_type": "code",
   "execution_count": 20,
   "id": "282d3d9a-f60f-450a-b003-5c34ba04ddaf",
   "metadata": {},
   "outputs": [],
   "source": [
    "words = pd.read_csv(\"../../data/SINGLE.txt\", header=None, dtype=\"str\")"
   ]
  },
  {
   "cell_type": "code",
   "execution_count": 21,
   "id": "70376bec-3f3f-4ec7-aa1c-6f444db4389c",
   "metadata": {},
   "outputs": [
    {
     "data": {
      "text/html": [
       "<div>\n",
       "<style scoped>\n",
       "    .dataframe tbody tr th:only-of-type {\n",
       "        vertical-align: middle;\n",
       "    }\n",
       "\n",
       "    .dataframe tbody tr th {\n",
       "        vertical-align: top;\n",
       "    }\n",
       "\n",
       "    .dataframe thead th {\n",
       "        text-align: right;\n",
       "    }\n",
       "</style>\n",
       "<table border=\"1\" class=\"dataframe\">\n",
       "  <thead>\n",
       "    <tr style=\"text-align: right;\">\n",
       "      <th></th>\n",
       "      <th>0</th>\n",
       "    </tr>\n",
       "  </thead>\n",
       "  <tbody>\n",
       "    <tr>\n",
       "      <th>186010</th>\n",
       "      <td>NaN</td>\n",
       "    </tr>\n",
       "    <tr>\n",
       "      <th>186271</th>\n",
       "      <td>NaN</td>\n",
       "    </tr>\n",
       "    <tr>\n",
       "      <th>198557</th>\n",
       "      <td>NaN</td>\n",
       "    </tr>\n",
       "  </tbody>\n",
       "</table>\n",
       "</div>"
      ],
      "text/plain": [
       "          0\n",
       "186010  NaN\n",
       "186271  NaN\n",
       "198557  NaN"
      ]
     },
     "execution_count": 21,
     "metadata": {},
     "output_type": "execute_result"
    }
   ],
   "source": [
    "words.loc[badindexes]"
   ]
  },
  {
   "cell_type": "markdown",
   "id": "0f60485b-2dc8-4a82-863b-68778631106c",
   "metadata": {},
   "source": [
    "That didn't work either, the bad values are still bad.  The documentation for `read_csv` https://pandas.pydata.org/docs/reference/api/pandas.read_csv.html\n",
    "has a parameter called `na_filter` that can be turned off."
   ]
  },
  {
   "cell_type": "code",
   "execution_count": 22,
   "id": "4b0236f5-4174-4c04-a430-4d2912d73cc3",
   "metadata": {},
   "outputs": [],
   "source": [
    "words = pd.read_csv(\"../../data/SINGLE.txt\", header=None, na_filter=False)"
   ]
  },
  {
   "cell_type": "markdown",
   "id": "e7dcd18d-0e8f-49af-a9da-052758a3b692",
   "metadata": {},
   "source": [
    "And now we test for bad values: "
   ]
  },
  {
   "cell_type": "code",
   "execution_count": 23,
   "id": "cd9b062f-79e9-403b-9a01-3a14a2f56ed6",
   "metadata": {},
   "outputs": [
    {
     "data": {
      "text/plain": [
       "(array([], dtype=int64),)"
      ]
     },
     "execution_count": 23,
     "metadata": {},
     "output_type": "execute_result"
    }
   ],
   "source": [
    "np.where(words[0].apply(test_str)==False)"
   ]
  },
  {
   "cell_type": "markdown",
   "id": "0c478600-ae65-409b-9aec-753c70ce3237",
   "metadata": {},
   "source": [
    "We find none.  What were those bad values, now?"
   ]
  },
  {
   "cell_type": "code",
   "execution_count": 24,
   "id": "28a2985e-69af-4a6b-9b80-f95b85872943",
   "metadata": {},
   "outputs": [
    {
     "data": {
      "text/html": [
       "<div>\n",
       "<style scoped>\n",
       "    .dataframe tbody tr th:only-of-type {\n",
       "        vertical-align: middle;\n",
       "    }\n",
       "\n",
       "    .dataframe tbody tr th {\n",
       "        vertical-align: top;\n",
       "    }\n",
       "\n",
       "    .dataframe thead th {\n",
       "        text-align: right;\n",
       "    }\n",
       "</style>\n",
       "<table border=\"1\" class=\"dataframe\">\n",
       "  <thead>\n",
       "    <tr style=\"text-align: right;\">\n",
       "      <th></th>\n",
       "      <th>0</th>\n",
       "    </tr>\n",
       "  </thead>\n",
       "  <tbody>\n",
       "    <tr>\n",
       "      <th>186010</th>\n",
       "      <td>n/a</td>\n",
       "    </tr>\n",
       "    <tr>\n",
       "      <th>186271</th>\n",
       "      <td>nan</td>\n",
       "    </tr>\n",
       "    <tr>\n",
       "      <th>198557</th>\n",
       "      <td>null</td>\n",
       "    </tr>\n",
       "  </tbody>\n",
       "</table>\n",
       "</div>"
      ],
      "text/plain": [
       "           0\n",
       "186010   n/a\n",
       "186271   nan\n",
       "198557  null"
      ]
     },
     "execution_count": 24,
     "metadata": {},
     "output_type": "execute_result"
    }
   ],
   "source": [
    "words.loc[badindexes]"
   ]
  },
  {
   "cell_type": "markdown",
   "id": "a1be4a38-1a36-471a-af4b-5bd15acf82cb",
   "metadata": {},
   "source": [
    "Huh.  Might want to take note of that in the future, some strings, by default, get turned into number-like NaNs."
   ]
  },
  {
   "cell_type": "markdown",
   "id": "cb0bf9dd-b088-48d7-8b4a-e4e969746ea5",
   "metadata": {},
   "source": [
    "Now let us find the distances between our word and all the other words:"
   ]
  },
  {
   "cell_type": "code",
   "execution_count": 25,
   "id": "6657dff8-d77c-4d38-a7bb-5fd9f6fcd4d3",
   "metadata": {},
   "outputs": [],
   "source": [
    "# define this function in a function that we can use on all the rows in \n",
    "# the dictionary: \n",
    "def distance_to_all(word):\n",
    "    def dist_to_word(w):\n",
    "        return distance(w, word)\n",
    "    distances = words[0].apply(dist_to_word)\n",
    "    return distances"
   ]
  },
  {
   "cell_type": "code",
   "execution_count": 26,
   "id": "7cf9731b-c165-4ad7-89ee-2ee47a5e330d",
   "metadata": {},
   "outputs": [
    {
     "data": {
      "text/plain": [
       "0         4\n",
       "1         3\n",
       "2         4\n",
       "3         4\n",
       "4         4\n",
       "         ..\n",
       "354979    6\n",
       "354980    6\n",
       "354981    6\n",
       "354982    7\n",
       "354983    8\n",
       "Name: 0, Length: 354984, dtype: int64"
      ]
     },
     "execution_count": 26,
     "metadata": {},
     "output_type": "execute_result"
    }
   ],
   "source": [
    "distance_to_all(\"wprd\")"
   ]
  },
  {
   "cell_type": "markdown",
   "id": "3023773e-c9f1-453a-98b8-6b126603dbee",
   "metadata": {},
   "source": [
    "Let's make a new dataframe with the words and the distances to \"wprd\":"
   ]
  },
  {
   "cell_type": "code",
   "execution_count": 27,
   "id": "52651e87-fec1-4086-9f18-cc7afff34997",
   "metadata": {},
   "outputs": [
    {
     "data": {
      "text/html": [
       "<div>\n",
       "<style scoped>\n",
       "    .dataframe tbody tr th:only-of-type {\n",
       "        vertical-align: middle;\n",
       "    }\n",
       "\n",
       "    .dataframe tbody tr th {\n",
       "        vertical-align: top;\n",
       "    }\n",
       "\n",
       "    .dataframe thead th {\n",
       "        text-align: right;\n",
       "    }\n",
       "</style>\n",
       "<table border=\"1\" class=\"dataframe\">\n",
       "  <thead>\n",
       "    <tr style=\"text-align: right;\">\n",
       "      <th></th>\n",
       "      <th>0</th>\n",
       "      <th>distance</th>\n",
       "    </tr>\n",
       "  </thead>\n",
       "  <tbody>\n",
       "    <tr>\n",
       "      <th>0</th>\n",
       "      <td>&amp;c</td>\n",
       "      <td>4</td>\n",
       "    </tr>\n",
       "    <tr>\n",
       "      <th>1</th>\n",
       "      <td>'d</td>\n",
       "      <td>3</td>\n",
       "    </tr>\n",
       "    <tr>\n",
       "      <th>2</th>\n",
       "      <td>'em</td>\n",
       "      <td>4</td>\n",
       "    </tr>\n",
       "    <tr>\n",
       "      <th>3</th>\n",
       "      <td>'ll</td>\n",
       "      <td>4</td>\n",
       "    </tr>\n",
       "    <tr>\n",
       "      <th>4</th>\n",
       "      <td>'m</td>\n",
       "      <td>4</td>\n",
       "    </tr>\n",
       "    <tr>\n",
       "      <th>...</th>\n",
       "      <td>...</td>\n",
       "      <td>...</td>\n",
       "    </tr>\n",
       "    <tr>\n",
       "      <th>354979</th>\n",
       "      <td>zymurgy</td>\n",
       "      <td>6</td>\n",
       "    </tr>\n",
       "    <tr>\n",
       "      <th>354980</th>\n",
       "      <td>zythem</td>\n",
       "      <td>6</td>\n",
       "    </tr>\n",
       "    <tr>\n",
       "      <th>354981</th>\n",
       "      <td>zythum</td>\n",
       "      <td>6</td>\n",
       "    </tr>\n",
       "    <tr>\n",
       "      <th>354982</th>\n",
       "      <td>zyzzyva</td>\n",
       "      <td>7</td>\n",
       "    </tr>\n",
       "    <tr>\n",
       "      <th>354983</th>\n",
       "      <td>zyzzyvas</td>\n",
       "      <td>8</td>\n",
       "    </tr>\n",
       "  </tbody>\n",
       "</table>\n",
       "<p>354984 rows × 2 columns</p>\n",
       "</div>"
      ],
      "text/plain": [
       "               0  distance\n",
       "0             &c         4\n",
       "1             'd         3\n",
       "2            'em         4\n",
       "3            'll         4\n",
       "4             'm         4\n",
       "...          ...       ...\n",
       "354979   zymurgy         6\n",
       "354980    zythem         6\n",
       "354981    zythum         6\n",
       "354982   zyzzyva         7\n",
       "354983  zyzzyvas         8\n",
       "\n",
       "[354984 rows x 2 columns]"
      ]
     },
     "execution_count": 27,
     "metadata": {},
     "output_type": "execute_result"
    }
   ],
   "source": [
    "wprd_dist = words.copy()\n",
    "wprd_dist[\"distance\"] = distance_to_all(\"wprd\")\n",
    "wprd_dist"
   ]
  },
  {
   "cell_type": "markdown",
   "id": "ca947ca4-b3c1-4f44-92d1-8619e0013038",
   "metadata": {},
   "source": [
    "Let us examine the histogram of distances.  All the words in the dictionary are in there."
   ]
  },
  {
   "cell_type": "code",
   "execution_count": 28,
   "id": "f5fc6461-cb96-4584-9d07-688b9f25460e",
   "metadata": {},
   "outputs": [
    {
     "data": {
      "text/plain": [
       "distance\n",
       "8     53564\n",
       "7     50487\n",
       "9     47505\n",
       "6     40228\n",
       "10    38703\n",
       "11    29049\n",
       "5     24864\n",
       "12    21142\n",
       "13    14115\n",
       "4     13233\n",
       "14     8953\n",
       "15     5167\n",
       "16     2858\n",
       "3      2296\n",
       "17     1419\n",
       "18      668\n",
       "19      335\n",
       "2       147\n",
       "20      133\n",
       "21       72\n",
       "22       20\n",
       "23       11\n",
       "24        4\n",
       "25        3\n",
       "1         3\n",
       "27        2\n",
       "28        1\n",
       "29        1\n",
       "26        1\n",
       "Name: count, dtype: int64"
      ]
     },
     "execution_count": 28,
     "metadata": {},
     "output_type": "execute_result"
    }
   ],
   "source": [
    "wprd_dist.distance.value_counts()"
   ]
  },
  {
   "cell_type": "markdown",
   "id": "2a8e1473-86a4-4b01-9abd-3de9a9f219f7",
   "metadata": {},
   "source": [
    "This ordering of the histogram is not ideal for understanding, let us sort by distance:"
   ]
  },
  {
   "cell_type": "code",
   "execution_count": 29,
   "id": "2257402f-5405-4e38-91bf-4468c46919b8",
   "metadata": {},
   "outputs": [
    {
     "data": {
      "text/plain": [
       "distance\n",
       "1         3\n",
       "2       147\n",
       "3      2296\n",
       "4     13233\n",
       "5     24864\n",
       "6     40228\n",
       "7     50487\n",
       "8     53564\n",
       "9     47505\n",
       "10    38703\n",
       "11    29049\n",
       "12    21142\n",
       "13    14115\n",
       "14     8953\n",
       "15     5167\n",
       "16     2858\n",
       "17     1419\n",
       "18      668\n",
       "19      335\n",
       "20      133\n",
       "21       72\n",
       "22       20\n",
       "23       11\n",
       "24        4\n",
       "25        3\n",
       "26        1\n",
       "27        2\n",
       "28        1\n",
       "29        1\n",
       "Name: count, dtype: int64"
      ]
     },
     "execution_count": 29,
     "metadata": {},
     "output_type": "execute_result"
    }
   ],
   "source": [
    "wprd_dist.distance.value_counts().sort_index()"
   ]
  },
  {
   "cell_type": "markdown",
   "id": "50ce8972-0956-40a6-b34b-eed9cfb425ba",
   "metadata": {},
   "source": [
    "From the table, which gives the values of edit distance as the index and the number of dictionary words at each distance from our target word as values, we see there are three dictionary words at distance 1, and 147 words at edit distance 2. "
   ]
  },
  {
   "cell_type": "code",
   "execution_count": 30,
   "id": "7d7c7108-cf96-4b33-ad90-e13261666a9f",
   "metadata": {},
   "outputs": [
    {
     "data": {
      "text/html": [
       "<div>\n",
       "<style scoped>\n",
       "    .dataframe tbody tr th:only-of-type {\n",
       "        vertical-align: middle;\n",
       "    }\n",
       "\n",
       "    .dataframe tbody tr th {\n",
       "        vertical-align: top;\n",
       "    }\n",
       "\n",
       "    .dataframe thead th {\n",
       "        text-align: right;\n",
       "    }\n",
       "</style>\n",
       "<table border=\"1\" class=\"dataframe\">\n",
       "  <thead>\n",
       "    <tr style=\"text-align: right;\">\n",
       "      <th></th>\n",
       "      <th>0</th>\n",
       "      <th>distance</th>\n",
       "    </tr>\n",
       "  </thead>\n",
       "  <tbody>\n",
       "    <tr>\n",
       "      <th>346643</th>\n",
       "      <td>ward</td>\n",
       "      <td>1</td>\n",
       "    </tr>\n",
       "    <tr>\n",
       "      <th>350396</th>\n",
       "      <td>wird</td>\n",
       "      <td>1</td>\n",
       "    </tr>\n",
       "    <tr>\n",
       "      <th>351455</th>\n",
       "      <td>word</td>\n",
       "      <td>1</td>\n",
       "    </tr>\n",
       "  </tbody>\n",
       "</table>\n",
       "</div>"
      ],
      "text/plain": [
       "           0  distance\n",
       "346643  ward         1\n",
       "350396  wird         1\n",
       "351455  word         1"
      ]
     },
     "execution_count": 30,
     "metadata": {},
     "output_type": "execute_result"
    }
   ],
   "source": [
    "wprd_dist.query(\"distance < 2\")"
   ]
  },
  {
   "cell_type": "code",
   "execution_count": 31,
   "id": "05a2f9e0-ec99-4846-b4ca-f7ec607a895e",
   "metadata": {},
   "outputs": [
    {
     "data": {
      "text/html": [
       "<div>\n",
       "<style scoped>\n",
       "    .dataframe tbody tr th:only-of-type {\n",
       "        vertical-align: middle;\n",
       "    }\n",
       "\n",
       "    .dataframe tbody tr th {\n",
       "        vertical-align: top;\n",
       "    }\n",
       "\n",
       "    .dataframe thead th {\n",
       "        text-align: right;\n",
       "    }\n",
       "</style>\n",
       "<table border=\"1\" class=\"dataframe\">\n",
       "  <thead>\n",
       "    <tr style=\"text-align: right;\">\n",
       "      <th></th>\n",
       "      <th>0</th>\n",
       "      <th>distance</th>\n",
       "    </tr>\n",
       "  </thead>\n",
       "  <tbody>\n",
       "    <tr>\n",
       "      <th>38</th>\n",
       "      <td>3rd</td>\n",
       "      <td>2</td>\n",
       "    </tr>\n",
       "    <tr>\n",
       "      <th>15624</th>\n",
       "      <td>aped</td>\n",
       "      <td>2</td>\n",
       "    </tr>\n",
       "    <tr>\n",
       "      <th>16021</th>\n",
       "      <td>apod</td>\n",
       "      <td>2</td>\n",
       "    </tr>\n",
       "    <tr>\n",
       "      <th>16436</th>\n",
       "      <td>appd</td>\n",
       "      <td>2</td>\n",
       "    </tr>\n",
       "    <tr>\n",
       "      <th>16905</th>\n",
       "      <td>apr</td>\n",
       "      <td>2</td>\n",
       "    </tr>\n",
       "    <tr>\n",
       "      <th>...</th>\n",
       "      <td>...</td>\n",
       "      <td>...</td>\n",
       "    </tr>\n",
       "    <tr>\n",
       "      <th>352228</th>\n",
       "      <td>wur</td>\n",
       "      <td>2</td>\n",
       "    </tr>\n",
       "    <tr>\n",
       "      <th>352283</th>\n",
       "      <td>wynd</td>\n",
       "      <td>2</td>\n",
       "    </tr>\n",
       "    <tr>\n",
       "      <th>352930</th>\n",
       "      <td>yard</td>\n",
       "      <td>2</td>\n",
       "    </tr>\n",
       "    <tr>\n",
       "      <th>353296</th>\n",
       "      <td>yerd</td>\n",
       "      <td>2</td>\n",
       "    </tr>\n",
       "    <tr>\n",
       "      <th>353408</th>\n",
       "      <td>yird</td>\n",
       "      <td>2</td>\n",
       "    </tr>\n",
       "  </tbody>\n",
       "</table>\n",
       "<p>147 rows × 2 columns</p>\n",
       "</div>"
      ],
      "text/plain": [
       "           0  distance\n",
       "38       3rd         2\n",
       "15624   aped         2\n",
       "16021   apod         2\n",
       "16436   appd         2\n",
       "16905    apr         2\n",
       "...      ...       ...\n",
       "352228   wur         2\n",
       "352283  wynd         2\n",
       "352930  yard         2\n",
       "353296  yerd         2\n",
       "353408  yird         2\n",
       "\n",
       "[147 rows x 2 columns]"
      ]
     },
     "execution_count": 31,
     "metadata": {},
     "output_type": "execute_result"
    }
   ],
   "source": [
    "wprd_dist.query(\"distance == 2\")"
   ]
  },
  {
   "cell_type": "markdown",
   "id": "921adcb7-b40b-4c53-b298-014b544be59c",
   "metadata": {},
   "source": [
    "This certainly gives us a starting point (or at least a partly ordered list) of plausible words.  "
   ]
  },
  {
   "cell_type": "markdown",
   "id": "283bb42a-474a-49a4-86a6-be8993c1421c",
   "metadata": {},
   "source": [
    "# Diffs"
   ]
  },
  {
   "cell_type": "markdown",
   "id": "c2d50795-cc83-4678-ad35-c2f76e35a49d",
   "metadata": {},
   "source": [
    "An alignment-based representation of the changes to a document is sometimes an effective way of learning what has changed; algorithms that will compare documents, find the minimum number of edits and show what the edits are with highlighting can be helpful when examining changes to documents or code."
   ]
  },
  {
   "cell_type": "code",
   "execution_count": null,
   "id": "67ad8398-8ab1-4575-946c-b5f7822e991a",
   "metadata": {},
   "outputs": [],
   "source": []
  }
 ],
 "metadata": {
  "kernelspec": {
   "display_name": "Python 3 (ipykernel)",
   "language": "python",
   "name": "python3"
  },
  "language_info": {
   "codemirror_mode": {
    "name": "ipython",
    "version": 3
   },
   "file_extension": ".py",
   "mimetype": "text/x-python",
   "name": "python",
   "nbconvert_exporter": "python",
   "pygments_lexer": "ipython3",
   "version": "3.11.5"
  }
 },
 "nbformat": 4,
 "nbformat_minor": 5
}
