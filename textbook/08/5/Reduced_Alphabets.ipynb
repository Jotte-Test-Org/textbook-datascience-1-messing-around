{
 "cells": [
  {
   "cell_type": "markdown",
   "id": "805223cb-5946-462e-a931-780ec495efba",
   "metadata": {},
   "source": [
    "# Reduced alphabet similarity"
   ]
  },
  {
   "cell_type": "code",
   "execution_count": null,
   "id": "12893586-33f8-456a-b33d-fd7cea4227d5",
   "metadata": {},
   "outputs": [],
   "source": []
  },
  {
   "cell_type": "markdown",
   "id": "6b0e4419-fd92-43bc-b255-a354447387ff",
   "metadata": {},
   "source": [
    "Since exact matches are cheap, one might wonder if there is a way to use a lossy encoding on the data and test for exact matches of an inexact encoding.  This is the way of restricted alphabets.\n",
    "\n",
    "## Murphy alphabets\n",
    "\n",
    "(Murphy 2000 10.1093/protein/13.3.149)"
   ]
  },
  {
   "cell_type": "markdown",
   "execution_count": null,
   "id": "9a31a2ae-9218-47ef-b928-25a8889ffdfc",
   "metadata": {},
   "outputs": [],
   "source": [
    "## Soundex\n",
    "\n",
    "The soundex algorithm is a procedure for encoding family names developed by the U.S. Census bureau in the 1920s. "
   ]
  }
 ],
 "metadata": {
  "kernelspec": {
   "display_name": "Python 3 (ipykernel)",
   "language": "python",
   "name": "python3"
  },
  "language_info": {
   "codemirror_mode": {
    "name": "ipython",
    "version": 3
   },
   "file_extension": ".py",
   "mimetype": "text/x-python",
   "name": "python",
   "nbconvert_exporter": "python",
   "pygments_lexer": "ipython3",
   "version": "3.10.6"
  }
 },
 "nbformat": 4,
 "nbformat_minor": 5
}
