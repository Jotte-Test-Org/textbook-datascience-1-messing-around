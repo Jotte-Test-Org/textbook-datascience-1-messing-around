{
 "cells": [
  {
   "cell_type": "markdown",
   "id": "f679c306-33d5-4a2d-b32f-8f959fedaff8",
   "metadata": {},
   "source": [
    "# Coping with Unicode"
   ]
  },
  {
   "cell_type": "code",
   "execution_count": null,
   "id": "53d14d75-ace8-400a-8a11-b6573977e932",
   "metadata": {},
   "outputs": [],
   "source": []
  },
  {
   "cell_type": "markdown",
   "id": "a4b55d76-fe1e-42f9-90cb-f373b09dcdf6",
   "metadata": {},
   "source": [
    "In the course of reading data from files and the internet, you may encounter unicode data.\n",
    "\n",
    "Python enforces a difference in data types between data that are interpreted as a sequence of bytes (`bytes`) **without an encoding** and sequences of characters where the encoding has been specified (called `string`s).  \n",
    "Almost all of your work will be with strings, but there are a few circumstances when data needs to be converted from strings to bytes or vice versa.\n",
    "\n",
    "https://docs.python.org/3/howto/unicode.html"
   ]
  },
  {
   "cell_type": "code",
   "execution_count": null,
   "id": "be52ccef-ae75-4895-ada9-415fbc4a858b",
   "metadata": {},
   "outputs": [],
   "source": [
    "Unicode is a system for encoding every human language, unifying computer representations of disparate languages.  \n",
    "The unicode standard defines code points that include every letter in every alphabet and essen"
   ]
  },
  {
   "cell_type": "code",
   "execution_count": null,
   "id": "4c89aba5-ac56-4dbe-ab40-fc3e0d78a3aa",
   "metadata": {},
   "outputs": [],
   "source": []
  },
  {
   "cell_type": "code",
   "execution_count": 13,
   "id": "f718131f-d9fb-42c0-8bf8-bb55ef354476",
   "metadata": {},
   "outputs": [],
   "source": [
    "bytesstring = b\"r\\xe9sum\\xe9\"\n",
    "normalstring = \"résumé\""
   ]
  },
  {
   "cell_type": "code",
   "execution_count": 14,
   "id": "f851cf3e-6da0-44af-add4-e29a31566d59",
   "metadata": {},
   "outputs": [
    {
     "name": "stdout",
     "output_type": "stream",
     "text": [
      "b'r\\xe9sum\\xe9'\n"
     ]
    }
   ],
   "source": [
    "print(bytesstring)"
   ]
  },
  {
   "cell_type": "code",
   "execution_count": 15,
   "id": "adda7ec1-29ce-4cf5-b8e5-63997a3804bb",
   "metadata": {},
   "outputs": [
    {
     "data": {
      "text/plain": [
       "(6, 6)"
      ]
     },
     "execution_count": 15,
     "metadata": {},
     "output_type": "execute_result"
    }
   ],
   "source": [
    "len(bytesstring), len(normalstring)"
   ]
  },
  {
   "cell_type": "code",
   "execution_count": 16,
   "id": "b103d308-5155-46cd-beb2-e3822eb33a1a",
   "metadata": {},
   "outputs": [
    {
     "ename": "UnicodeDecodeError",
     "evalue": "'utf-8' codec can't decode byte 0xe9 in position 1: invalid continuation byte",
     "output_type": "error",
     "traceback": [
      "\u001b[0;31m---------------------------------------------------------------------------\u001b[0m",
      "\u001b[0;31mUnicodeDecodeError\u001b[0m                        Traceback (most recent call last)",
      "Cell \u001b[0;32mIn [16], line 1\u001b[0m\n\u001b[0;32m----> 1\u001b[0m \u001b[43mbytesstring\u001b[49m\u001b[38;5;241;43m.\u001b[39;49m\u001b[43mdecode\u001b[49m\u001b[43m(\u001b[49m\u001b[38;5;124;43m\"\u001b[39;49m\u001b[38;5;124;43mutf8\u001b[39;49m\u001b[38;5;124;43m\"\u001b[39;49m\u001b[43m)\u001b[49m\n",
      "\u001b[0;31mUnicodeDecodeError\u001b[0m: 'utf-8' codec can't decode byte 0xe9 in position 1: invalid continuation byte"
     ]
    }
   ],
   "source": [
    "bytesstring.decode(\"utf8\")"
   ]
  },
  {
   "cell_type": "code",
   "execution_count": 17,
   "id": "2a06545b-bc06-4afb-822c-7a8189005cde",
   "metadata": {},
   "outputs": [
    {
     "data": {
      "text/plain": [
       "'résumé'"
      ]
     },
     "execution_count": 17,
     "metadata": {},
     "output_type": "execute_result"
    }
   ],
   "source": [
    "bytesstring.decode(\"latin-1\")"
   ]
  },
  {
   "cell_type": "code",
   "execution_count": 18,
   "id": "48ebf122-f612-4aaf-9edf-4486e3da3a84",
   "metadata": {},
   "outputs": [
    {
     "data": {
      "text/plain": [
       "True"
      ]
     },
     "execution_count": 18,
     "metadata": {},
     "output_type": "execute_result"
    }
   ],
   "source": [
    "bytesstring.decode(\"latin-1\") == normalstring"
   ]
  },
  {
   "cell_type": "code",
   "execution_count": 19,
   "id": "08ed10ec-9ae1-435c-b902-a8dd8e2963c1",
   "metadata": {},
   "outputs": [],
   "source": [
    "utf8encodedbytes = normalstring.encode(\"utf8\")"
   ]
  },
  {
   "cell_type": "code",
   "execution_count": 20,
   "id": "c1071ae7-f16b-4f6a-b34c-54e6d5efc7cb",
   "metadata": {},
   "outputs": [
    {
     "data": {
      "text/plain": [
       "8"
      ]
     },
     "execution_count": 20,
     "metadata": {},
     "output_type": "execute_result"
    }
   ],
   "source": [
    "len(utf8encodedbytes)"
   ]
  },
  {
   "cell_type": "code",
   "execution_count": 21,
   "id": "1f64354b-d87c-426c-a2a5-3480156b3142",
   "metadata": {},
   "outputs": [
    {
     "name": "stdout",
     "output_type": "stream",
     "text": [
      "b'r\\xc3\\xa9sum\\xc3\\xa9'\n"
     ]
    }
   ],
   "source": [
    "print(utf8encodedbytes)"
   ]
  },
  {
   "cell_type": "code",
   "execution_count": null,
   "id": "87500b3e-8c0e-4ae6-9d8f-8ece3896f4b6",
   "metadata": {},
   "outputs": [],
   "source": []
  }
 ],
 "metadata": {
  "kernelspec": {
   "display_name": "Python 3 (ipykernel)",
   "language": "python",
   "name": "python3"
  },
  "language_info": {
   "codemirror_mode": {
    "name": "ipython",
    "version": 3
   },
   "file_extension": ".py",
   "mimetype": "text/x-python",
   "name": "python",
   "nbconvert_exporter": "python",
   "pygments_lexer": "ipython3",
   "version": "3.10.6"
  }
 },
 "nbformat": 4,
 "nbformat_minor": 5
}
