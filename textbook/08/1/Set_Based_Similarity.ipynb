{
 "cells": [
  {
   "cell_type": "code",
   "execution_count": 1,
   "id": "f8bbee6d-40fc-4d6c-ac66-7af4476b6ae0",
   "metadata": {
    "tags": [
     "remove-cell"
    ]
   },
   "outputs": [],
   "source": [
    "import numpy as np\n",
    "import pandas as pd\n",
    "import matplotlib.pyplot as plt"
   ]
  },
  {
   "cell_type": "markdown",
   "id": "7dd5f94a-67ce-47f9-9130-a9ab4b5d6afa",
   "metadata": {},
   "source": [
    "# Set-based (Jaccard) similarity\n",
    "\n",
    "Exact matches are easy to test, and tests for exact matches give yes-no answers.  It is sometimes useful to know if two strings are similar, and the string matching procedure needs to be able to give answers for input strings that are not the same length.  The most straightforward approach of testing character-by-character to see the fraction of characters that match does not work well for variable-length strings or strings that can be similar if the order of their contents is changed.  \n",
    "\n",
    "Another approach to imprecise string matching that can handle inputs of different length is the strategy of breaking the strings into substrings and check the fraction of exact matches among substrings.  How many of the parts of `string1` have exact matches for parts of `string2`?   If two strings are identical for most of their length, most of the substrings will still match even if the strings are not identical.\n",
    "\n",
    "We will digest strings into pieces for analysis called tokens, count the tokens, and measure similarity by counting tokens shared and not shared.  This procedure was independently developed in meteorology(in the 1880s)[^*], ecology (in the 1910s)[^**], and computer science^[***].  \n",
    "\n",
    "The similarity score takes slightly different forms depending on whether we count tokens with presence-or-absence only (sets), or whether we count the number of occurrences of each token (multi-sets)."
   ]
  },
  {
   "cell_type": "markdown",
   "id": "8524ce0f-5dea-404b-91db-f454eac14238",
   "metadata": {},
   "source": [
    "## Tokenization\n",
    "\n",
    "To start with, to find partial matches we need objects that represent less than all of the objects we are comparing.  Tokenization is the process of breaking a string (or document) into pieces that will be the objects of analysis.\n",
    "\n",
    "The first step in finding set-based Jaccard similarity is to tokenize the input string.  Tokens can be individual words, pairs of words, triplets (or more) of words, individual letters, letter pairs, or more, or parts of words.  For some applications, tokens smaller than words are indicated; some tokenizers split words into meaningful parts (by encoding plural noun endings and inflected verb endings as separate tokens).\n"
   ]
  },
  {
   "cell_type": "markdown",
   "id": "85184325-1d3c-4870-813d-01bff8edfec4",
   "metadata": {},
   "source": [
    "One tokenization approach (suited for documents) is to tokenize on words:"
   ]
  },
  {
   "cell_type": "code",
   "execution_count": 2,
   "id": "42c5d34f-272a-454b-8ba4-2897bd1d93e6",
   "metadata": {},
   "outputs": [
    {
     "data": {
      "text/plain": [
       "['Crash',\n",
       " 'data',\n",
       " 'shows',\n",
       " 'information',\n",
       " 'about',\n",
       " 'each',\n",
       " 'traffic',\n",
       " 'crash',\n",
       " 'on',\n",
       " 'city',\n",
       " 'streets.']"
      ]
     },
     "execution_count": 2,
     "metadata": {},
     "output_type": "execute_result"
    }
   ],
   "source": [
    "content = \"Crash data shows information about each traffic crash on city streets.\"\n",
    "content.split()"
   ]
  },
  {
   "cell_type": "markdown",
   "id": "7d39ed3b-5fa4-49f7-9088-477e9e223448",
   "metadata": {},
   "source": [
    "Note that this attaches punctuation marks to words if there are no intervening spaces.  Depending on your application you may want to remove (or preserve) punctuation, spacing, capitalization, or other features of the encoding."
   ]
  },
  {
   "cell_type": "markdown",
   "id": "9ab8a7f3-35a1-44eb-aabd-ee7d8dcab2a7",
   "metadata": {},
   "source": [
    "## n-gram tokenization"
   ]
  },
  {
   "cell_type": "markdown",
   "id": "fe9dcf51-154d-471b-8494-b28d418a8d43",
   "metadata": {},
   "source": [
    "Another approach to digesting text into tokens is to use fixed-length, overlapping substrings.  This breaks text up into constant-sized pieces.  The overlapping, fixed-length \n",
    "tokens are called n-grams or k-mers.  \n",
    "\n",
    "As an example, the word WORD can be digested into the two-letter subsets (called bigrams) \"WO\", \"OR\", and \"RD\".  This particular digestion treats the first and final letter off the text differently; W and D are included only once (while all the ohter letters are included twice).  A convention that mitigates this \"edge effect\" is to add symbols to the beginning and the end of the string before digesting it that allow the edge letters to be included in every possible position in a bigram.  Breaking `#WORD#` into n-grams of length 2 results in \"#W\", \"WO\", \"OR\", \"RD\", and \"D#\".  "
   ]
  },
  {
   "cell_type": "markdown",
   "id": "1bf0403e-93c3-48d5-9644-1ac6e7f1ba07",
   "metadata": {},
   "source": [
    "This function adds \"#\" before and after the string and digests a string of length n into n+1 bigrams:"
   ]
  },
  {
   "cell_type": "code",
   "execution_count": 3,
   "id": "0c215615-08c4-4ffb-8ef9-c08606f82b6b",
   "metadata": {},
   "outputs": [],
   "source": [
    "def tokenizebigrams(s):\n",
    "    '''Return a list of all two-character subsets\n",
    "    of a string, including each input character twice.'''\n",
    "    #  add dummy symbols at beginning and end:\n",
    "    paddeds = \"#\" + s + \"#\"\n",
    "    bigrams = []\n",
    "    for i in range(len(paddeds)-2 ):\n",
    "        bigrams.append( paddeds[i:i+2])\n",
    "    return bigrams"
   ]
  },
  {
   "cell_type": "markdown",
   "id": "fbfb81d0-7a2d-490e-8d10-6013175791b7",
   "metadata": {},
   "source": [
    "Note that each character in the input appears in two of the bigrams.\n",
    "\n",
    "And before we use this, we can devise a test that confirms that `tokenizebigrams` gives the corrrect output for a brief input:"
   ]
  },
  {
   "cell_type": "code",
   "execution_count": 4,
   "id": "9f0fb5f7-12ad-42f3-9811-170e65662ed6",
   "metadata": {},
   "outputs": [
    {
     "data": {
      "text/plain": [
       "False"
      ]
     },
     "execution_count": 4,
     "metadata": {},
     "output_type": "execute_result"
    }
   ],
   "source": [
    "tokenizebigrams(\"HELP\") == [ \"#H\", \"HE\", \"EL\", \"LP\", \"P#\" ]"
   ]
  },
  {
   "cell_type": "code",
   "execution_count": 5,
   "id": "1a637224-4ead-48b9-be67-cea55373c191",
   "metadata": {},
   "outputs": [
    {
     "data": {
      "text/plain": [
       "['#H', 'HE', 'EL', 'LP']"
      ]
     },
     "execution_count": 5,
     "metadata": {},
     "output_type": "execute_result"
    }
   ],
   "source": [
    "tokenizebigrams(\"HELP\")"
   ]
  },
  {
   "cell_type": "markdown",
   "id": "12628e25-4ba1-4cd1-b4dd-ea4c6f0cd56a",
   "metadata": {},
   "source": [
    "This is not the right answer: every letter in the input string is included in two bigrams except \"P\".  "
   ]
  },
  {
   "cell_type": "markdown",
   "id": "cd23220d-8c51-4c00-9a1f-ef20dee4ae34",
   "metadata": {},
   "source": [
    "It is good that we tested this, since there is an off-by-one error that I would not have seen just staring at it.  The final letter \"P\" is only present in one bigram, not two as intended."
   ]
  },
  {
   "cell_type": "code",
   "execution_count": 6,
   "id": "14682567-72b9-44e0-aeef-345c3e3e309b",
   "metadata": {},
   "outputs": [
    {
     "data": {
      "text/plain": [
       "['#H', 'HE', 'EL', 'LL', 'LO', 'O#']"
      ]
     },
     "execution_count": 6,
     "metadata": {},
     "output_type": "execute_result"
    }
   ],
   "source": [
    "def tokenizebigrams(s):\n",
    "    '''Return a list of all two-character subsets\n",
    "    of a string, including each input character twice.'''\n",
    "    #  add dummy symbols at beginning and end:\n",
    "    paddeds = \"#\" + s + \"#\"\n",
    "    bigrams = []\n",
    "    for i in range(len(paddeds)-1 ):\n",
    "        bigrams.append( paddeds[i:i+2])\n",
    "    return bigrams\n",
    "tokenizebigrams(\"HELLO\")"
   ]
  },
  {
   "cell_type": "markdown",
   "id": "79480022-9ca7-48df-9f19-a7566b6ad27e",
   "metadata": {},
   "source": [
    "Now that we have a way to turn strings into lists of tokens, we need to count tokens.  Python's `set` datatype makes counting distinct tokens particularly simple.  The builtin `len()` command returns the number of (distinct) elements in a set, and the builtin `set()` will return a set from a list."
   ]
  },
  {
   "cell_type": "code",
   "execution_count": 7,
   "id": "b4f3a18b-06b8-45cf-95d6-5080be05d4e6",
   "metadata": {},
   "outputs": [
    {
     "name": "stdout",
     "output_type": "stream",
     "text": [
      "{'EL', 'HE', '#H', 'O#', 'LO', 'LL'}\n",
      "{'EL', '#H', 'LP', 'P#', 'HE'}\n"
     ]
    }
   ],
   "source": [
    "tokens1 = set(tokenizebigrams(\"HELLO\"))\n",
    "tokens2 = set(tokenizebigrams(\"HELP\"))\n",
    "print(tokens1 )\n",
    "print(tokens2)"
   ]
  },
  {
   "cell_type": "markdown",
   "id": "6c2fa162-d0c0-4609-83ae-5a260f607b95",
   "metadata": {},
   "source": [
    "Note that sets do not preserve the order of the elements, only their identity (and presence/absence).\n",
    "\n",
    "Now we can construct the set all the tokens in common with the `set.union()` method:"
   ]
  },
  {
   "cell_type": "code",
   "execution_count": 8,
   "id": "ee94fd32-0c18-43a3-8de3-44dee198e975",
   "metadata": {},
   "outputs": [
    {
     "name": "stdout",
     "output_type": "stream",
     "text": [
      "{'EL', 'HE', '#H', 'O#', 'LP', 'P#', 'LO', 'LL'}\n"
     ]
    }
   ],
   "source": [
    "print(tokens1.union(tokens2))"
   ]
  },
  {
   "cell_type": "markdown",
   "id": "97a20455-3c41-4c96-83d0-553594c95fe4",
   "metadata": {},
   "source": [
    "And the set of all common tokens using `set.intersection()` :\n",
    "    "
   ]
  },
  {
   "cell_type": "code",
   "execution_count": 9,
   "id": "d58a37b8-ce62-4588-83e7-c0fde8fb715c",
   "metadata": {},
   "outputs": [
    {
     "data": {
      "text/plain": [
       "{'#H', 'EL', 'HE'}"
      ]
     },
     "execution_count": 9,
     "metadata": {},
     "output_type": "execute_result"
    }
   ],
   "source": [
    "tokens1.intersection(tokens2)"
   ]
  },
  {
   "cell_type": "code",
   "execution_count": 10,
   "id": "1ee2f40b-8a6b-4c52-91e4-f67e1c8cc897",
   "metadata": {},
   "outputs": [
    {
     "name": "stdout",
     "output_type": "stream",
     "text": [
      "6 tokens in HELLO\n",
      "5 tokens in HELP\n",
      "8 tokens in union\n",
      "3 tokens in intersection\n"
     ]
    }
   ],
   "source": [
    "print( len(tokens1), \"tokens in HELLO\")\n",
    "print( len(tokens2), \"tokens in HELP\")\n",
    "print( len(tokens1.union(tokens2)), \"tokens in union\")\n",
    "print( len(tokens1.intersection(tokens2)), \"tokens in intersection\")\n"
   ]
  },
  {
   "cell_type": "markdown",
   "id": "d0e66717-9a50-42ca-9d4f-29f8f4a2083b",
   "metadata": {},
   "source": [
    "## Jaccard similarity"
   ]
  },
  {
   "cell_type": "markdown",
   "id": "d097220a-8bcf-41cd-9df7-f21e27166056",
   "metadata": {},
   "source": [
    "The Jaccard index is defined as the ratio of the number of elements in the intersection to the number of elements in the union:\n",
    "\n",
    "$$ J(s_1, s_2)  =  { n_{12} \\over n_1 + n_2 - n_{12} } $$\n",
    "\n",
    "where $n_1$ are the number of tokens in $s_1$ and $s_2$, respectively, and $n_{12}$ is the number of tokens that are shared by both $s_1$ and $s_2$.  "
   ]
  },
  {
   "cell_type": "markdown",
   "id": "64550e95-5d0e-416c-9e31-1445ad5fadbb",
   "metadata": {},
   "source": [
    "If we need a distance, the Jaccard distance is just one minus the Jaccard similarity:\n",
    "    \n",
    "$$ d_{Jaccard}(s_1, s_2) = 1 - J(s_1, s_2)  $$"
   ]
  },
  {
   "cell_type": "markdown",
   "id": "9f4e8a00-f670-4454-b3d1-20ef259b769c",
   "metadata": {},
   "source": [
    "Where $n_{12}$ is the number of tokens common to $s_1$ and $s_2$ and $  { (n_1 + n_2 - n_{12}) }$  is the number of tokens in either $s_1$, $s_2$, or both.  (Note that $n_1 + n_2$ would double-count tokens in the intersection.)\n",
    "\n",
    "We can put these set-counting functions and the definition into a function:"
   ]
  },
  {
   "cell_type": "code",
   "execution_count": 11,
   "id": "f778c7cc-2ef1-4eb6-bc0f-13d9fa17f21b",
   "metadata": {},
   "outputs": [],
   "source": [
    "def J(s1, s2):\n",
    "    '''return jaccard similarity between two strings s1 and s2'''\n",
    "    t1 = set(tokenizebigrams(s1))\n",
    "    t2 = set(tokenizebigrams(s2))\n",
    "    #print(len(t1), len(t2), len(t1.union(t2)), len(t1.intersection(t2)))\n",
    "    return ( len(t1.intersection(t2)) / len(t2.union(t1) ) )"
   ]
  },
  {
   "cell_type": "markdown",
   "id": "f94dd2be-fc29-4b25-a9fb-7bb948929b79",
   "metadata": {},
   "source": [
    "A brief investigation of test cases shows that Jaccard similarity of strings with no tokens in common is zero:"
   ]
  },
  {
   "cell_type": "code",
   "execution_count": 12,
   "id": "34f7c3ac-dfad-41b9-a7e1-684b70a25762",
   "metadata": {},
   "outputs": [
    {
     "data": {
      "text/plain": [
       "0.0"
      ]
     },
     "execution_count": 12,
     "metadata": {},
     "output_type": "execute_result"
    }
   ],
   "source": [
    "J(\"cat\", \"dog\")"
   ]
  },
  {
   "cell_type": "markdown",
   "id": "0cd451c8-b246-4fb5-9b09-75549f0dba66",
   "metadata": {},
   "source": [
    "and Jaccard similarity of identical strings, which have identical sets of tokens, is 1:\n"
   ]
  },
  {
   "cell_type": "code",
   "execution_count": 13,
   "id": "1d67c2bf-84b0-4bc6-84ab-a26fd22489bd",
   "metadata": {},
   "outputs": [
    {
     "data": {
      "text/plain": [
       "1.0"
      ]
     },
     "execution_count": 13,
     "metadata": {},
     "output_type": "execute_result"
    }
   ],
   "source": [
    "J(\"exact\", \"exact\")"
   ]
  },
  {
   "cell_type": "markdown",
   "id": "5eff1276-7661-4035-85cd-7e6a8c1efe88",
   "metadata": {},
   "source": [
    "From the definition as the ratio of number-in-intersection to number-in-union, we see that the Jaccard similarity between HELP and HELLO is 3/8.  \n",
    "\n",
    "Since we know the answer, we should test our function: "
   ]
  },
  {
   "cell_type": "code",
   "execution_count": 14,
   "id": "797574ac-1b81-4fa7-844f-4c0de2e6f98b",
   "metadata": {},
   "outputs": [
    {
     "data": {
      "text/plain": [
       "0.375"
      ]
     },
     "execution_count": 14,
     "metadata": {},
     "output_type": "execute_result"
    }
   ],
   "source": [
    "J(\"HELLO\", \"HELP\")"
   ]
  },
  {
   "cell_type": "markdown",
   "id": "dc8d8834-7ff5-4e10-ab04-def49bd951f1",
   "metadata": {},
   "source": [
    "This is acceptable.   We can now calculate a number between 0 and 1 that tells us something about whether strings are similar or not."
   ]
  },
  {
   "cell_type": "markdown",
   "id": "ad627214-29c5-4de8-a8c8-615006b4ffbe",
   "metadata": {},
   "source": [
    "## Example: similarities between number words"
   ]
  },
  {
   "cell_type": "markdown",
   "id": "4d86c376-3fd9-4d23-9515-020103b1f287",
   "metadata": {},
   "source": [
    "As a toy example, let us find the Jaccard similarity between the first twenty counting numbers in English:\n"
   ]
  },
  {
   "cell_type": "code",
   "execution_count": 15,
   "id": "e3b41115-1bf4-47bf-ae36-91cce31b9d0b",
   "metadata": {},
   "outputs": [],
   "source": [
    "numbers2 = [\"one\", \"two\", \"three\", \"four\", \"five\", \"six\", \"seven\", \"eight\", \"nine\", \"ten\",\n",
    "           \"eleven\", \"twelve\", \"thirteen\", \"fourteen\", \"fifteen\", \"sixteen\", \"seventeen\",\n",
    "           \"eighteen\", \"nineteen\", \"twenty\"]"
   ]
  },
  {
   "cell_type": "code",
   "execution_count": 16,
   "id": "09e42fb4-dbf7-4ccd-8108-d6dd3c18c44c",
   "metadata": {},
   "outputs": [],
   "source": [
    "d = np.zeros((20,20))\n",
    "# Calculate distance between all pairs of strings in numbers2\n",
    "for i in range(len(numbers2)):\n",
    "    for j in range(len(numbers2)):\n",
    "        d[i][j] = J ( numbers2[i], numbers2[j])\n"
   ]
  },
  {
   "cell_type": "code",
   "execution_count": 17,
   "id": "6aed2d9c-8cc9-4d23-ab64-7d774c7e6de8",
   "metadata": {},
   "outputs": [
    {
     "data": {
      "image/png": "[encoded data removed]",
      "text/plain": [
       "<Figure size 640x480 with 2 Axes>"
      ]
     },
     "metadata": {},
     "output_type": "display_data"
    }
   ],
   "source": [
    "plt.imshow(d)\n",
    "plt.colorbar()\n",
    "plt.title(\"Jaccard-bigram similarity between number words\")\n",
    "plt.yticks(np.arange(len(numbers2)), numbers2, fontsize=6);\n",
    "plt.xticks(np.arange(len(numbers2)), numbers2, fontsize=6, rotation=90);"
   ]
  },
  {
   "cell_type": "markdown",
   "id": "bd5e62ff-fad8-4eb1-9e42-661a3184fb0e",
   "metadata": {},
   "source": [
    "In this heatmap we see that all of the numbers ending in \"teen\" seem similar to each other, and the digits thirteen through nineteen have more similarity with corresponding digits between three and nine than with non-corresponding digits.   Eleven and seven are closer than most pairs in the set.\n"
   ]
  },
  {
   "cell_type": "markdown",
   "id": "75235cdc-e8c9-4343-87c4-3a880ee06c2e",
   "metadata": {},
   "source": [
    "## Example: searching for similar (mistaken?) names "
   ]
  },
  {
   "cell_type": "markdown",
   "id": "81e3cebc-9531-4e81-b187-80aadf1c7673",
   "metadata": {},
   "source": [
    "Let us examine some real data and look for mis-encodings with Jaccard similarity fuzzy matching."
   ]
  },
  {
   "cell_type": "markdown",
   "id": "699abdce-4809-401a-91b8-d496abd1cc1d",
   "metadata": {},
   "source": [
    "\n",
    "This is a histogram of about 4000 distinct names of New York City police officers against whom complaints were registered in the timeframe 2002-2005.\n",
    "\n"
   ]
  },
  {
   "cell_type": "code",
   "execution_count": 18,
   "id": "ef8b95c0-1564-44b0-80cc-ca34d7f5486f",
   "metadata": {},
   "outputs": [
    {
     "data": {
      "text/html": [
       "<div>\n",
       "<style scoped>\n",
       "    .dataframe tbody tr th:only-of-type {\n",
       "        vertical-align: middle;\n",
       "    }\n",
       "\n",
       "    .dataframe tbody tr th {\n",
       "        vertical-align: top;\n",
       "    }\n",
       "\n",
       "    .dataframe thead th {\n",
       "        text-align: right;\n",
       "    }\n",
       "</style>\n",
       "<table border=\"1\" class=\"dataframe\">\n",
       "  <thead>\n",
       "    <tr style=\"text-align: right;\">\n",
       "      <th></th>\n",
       "      <th>NAME</th>\n",
       "      <th>COUNT</th>\n",
       "    </tr>\n",
       "  </thead>\n",
       "  <tbody>\n",
       "    <tr>\n",
       "      <th>0</th>\n",
       "      <td>Reich,Mathew</td>\n",
       "      <td>75</td>\n",
       "    </tr>\n",
       "    <tr>\n",
       "      <th>1</th>\n",
       "      <td>Sbarra,Daniel</td>\n",
       "      <td>75</td>\n",
       "    </tr>\n",
       "    <tr>\n",
       "      <th>2</th>\n",
       "      <td>Messina,Gary</td>\n",
       "      <td>73</td>\n",
       "    </tr>\n",
       "    <tr>\n",
       "      <th>3</th>\n",
       "      <td>Tallarine,Joseph</td>\n",
       "      <td>73</td>\n",
       "    </tr>\n",
       "    <tr>\n",
       "      <th>4</th>\n",
       "      <td>Mccormack,Christophe</td>\n",
       "      <td>72</td>\n",
       "    </tr>\n",
       "    <tr>\n",
       "      <th>...</th>\n",
       "      <td>...</td>\n",
       "      <td>...</td>\n",
       "    </tr>\n",
       "    <tr>\n",
       "      <th>3953</th>\n",
       "      <td>Gentile,Giuseppe</td>\n",
       "      <td>1</td>\n",
       "    </tr>\n",
       "    <tr>\n",
       "      <th>3954</th>\n",
       "      <td>Reulbach,Nicholas</td>\n",
       "      <td>1</td>\n",
       "    </tr>\n",
       "    <tr>\n",
       "      <th>3955</th>\n",
       "      <td>Sasso,Anthony</td>\n",
       "      <td>1</td>\n",
       "    </tr>\n",
       "    <tr>\n",
       "      <th>3956</th>\n",
       "      <td>Smiarowski,Karol</td>\n",
       "      <td>1</td>\n",
       "    </tr>\n",
       "    <tr>\n",
       "      <th>3957</th>\n",
       "      <td>Ruiz,Jonathan</td>\n",
       "      <td>1</td>\n",
       "    </tr>\n",
       "  </tbody>\n",
       "</table>\n",
       "<p>3958 rows × 2 columns</p>\n",
       "</div>"
      ],
      "text/plain": [
       "                      NAME  COUNT\n",
       "0             Reich,Mathew     75\n",
       "1            Sbarra,Daniel     75\n",
       "2             Messina,Gary     73\n",
       "3         Tallarine,Joseph     73\n",
       "4     Mccormack,Christophe     72\n",
       "...                    ...    ...\n",
       "3953      Gentile,Giuseppe      1\n",
       "3954     Reulbach,Nicholas      1\n",
       "3955         Sasso,Anthony      1\n",
       "3956      Smiarowski,Karol      1\n",
       "3957         Ruiz,Jonathan      1\n",
       "\n",
       "[3958 rows x 2 columns]"
      ]
     },
     "execution_count": 18,
     "metadata": {},
     "output_type": "execute_result"
    }
   ],
   "source": [
    "nametable= pd.read_csv(\"../../data/nametable.csv\")\n",
    "nametable"
   ]
  },
  {
   "cell_type": "code",
   "execution_count": 19,
   "id": "d26a6724-45d4-4999-8476-32fbb3396ac9",
   "metadata": {},
   "outputs": [
    {
     "data": {
      "text/plain": [
       "['Reich,Mathew',\n",
       " 'Sbarra,Daniel',\n",
       " 'Messina,Gary',\n",
       " 'Tallarine,Joseph',\n",
       " 'Mccormack,Christophe']"
      ]
     },
     "execution_count": 19,
     "metadata": {},
     "output_type": "execute_result"
    }
   ],
   "source": [
    "namelist= list(nametable.NAME)\n",
    "namelist[0:5]"
   ]
  },
  {
   "cell_type": "markdown",
   "id": "6b607091-a35a-4b9b-8189-db57ded67166",
   "metadata": {},
   "source": [
    "Here we build a list of `name1`, `number1`, `name2`, `number2`, and Jaccard similarity between every pair of names by looping over len(namelist) twice.  This gives us about 16 million rows.  To save a little time, we only calculate the distance in the half of the pairs where j < i; this gives us only 8 million rows to calculate.\n",
    "\n",
    "So that we know that it is proceeding, this loop prints a number every 100 rows."
   ]
  },
  {
   "cell_type": "code",
   "execution_count": 20,
   "id": "28daea4c-98ef-4589-94ee-3246eb2cff6b",
   "metadata": {},
   "outputs": [
    {
     "name": "stdout",
     "output_type": "stream",
     "text": [
      "0\n",
      "100\n",
      "200\n",
      "300\n",
      "400\n",
      "500\n",
      "600\n",
      "700\n",
      "800\n",
      "900\n",
      "1000\n",
      "1100\n",
      "1200\n",
      "1300\n",
      "1400\n",
      "1500\n",
      "1600\n",
      "1700\n",
      "1800\n",
      "1900\n",
      "2000\n",
      "2100\n",
      "2200\n",
      "2300\n",
      "2400\n",
      "2500\n",
      "2600\n",
      "2700\n",
      "2800\n",
      "2900\n",
      "3000\n",
      "3100\n",
      "3200\n",
      "3300\n",
      "3400\n",
      "3500\n",
      "3600\n",
      "3700\n",
      "3800\n",
      "3900\n"
     ]
    },
    {
     "data": {
      "text/plain": [
       "[('Sbarra,Daniel', 'Reich,Mathew', 0.0),\n",
       " ('Messina,Gary', 'Reich,Mathew', 0.0),\n",
       " ('Messina,Gary', 'Sbarra,Daniel', 0.08),\n",
       " ('Tallarine,Joseph', 'Reich,Mathew', 0.0),\n",
       " ('Tallarine,Joseph', 'Sbarra,Daniel', 0.03333333333333333)]"
      ]
     },
     "execution_count": 20,
     "metadata": {},
     "output_type": "execute_result"
    }
   ],
   "source": [
    "l = []\n",
    "for i in range(len(namelist)):\n",
    "    if i% 100 == 0 :\n",
    "        print (i)\n",
    "    for j in range(i):\n",
    "        l.append( (namelist[i], namelist[j], J  (namelist[i], namelist[j])  ))\n",
    "l[0:5]"
   ]
  },
  {
   "cell_type": "markdown",
   "id": "dcf29ef4-0e51-4697-a207-d5026dbbb595",
   "metadata": {},
   "source": [
    "We should check that we got 8 million rows as expected:"
   ]
  },
  {
   "cell_type": "code",
   "execution_count": 21,
   "id": "104ff93e-6de5-4cce-a667-97550da79b49",
   "metadata": {},
   "outputs": [
    {
     "data": {
      "text/plain": [
       "7830903"
      ]
     },
     "execution_count": 21,
     "metadata": {},
     "output_type": "execute_result"
    }
   ],
   "source": [
    "len(l)"
   ]
  },
  {
   "cell_type": "markdown",
   "id": "84de8c2a-665a-42fd-a9d9-e6c81d6adc91",
   "metadata": {},
   "source": [
    "And let us repackage this into a dataframe so it is easy to sort and subset:\n"
   ]
  },
  {
   "cell_type": "code",
   "execution_count": 22,
   "id": "992add9a-6b84-4c99-ba73-23deb7c2e3db",
   "metadata": {},
   "outputs": [],
   "source": [
    "namesim= pd.DataFrame(l)"
   ]
  },
  {
   "cell_type": "markdown",
   "id": "a916c0b7-1c6a-48ec-87fd-494f01f44121",
   "metadata": {},
   "source": [
    "The histogram of the pairwise distances suggests that most names don't look like each other (similarities are small, less than 0.5): \n"
   ]
  },
  {
   "cell_type": "code",
   "execution_count": 23,
   "id": "abba4244-d08b-4574-9342-fffe1b4f2b59",
   "metadata": {},
   "outputs": [
    {
     "ename": "KeyError",
     "evalue": "\"None of [Index(['J'], dtype='object')] are in the [columns]\"",
     "output_type": "error",
     "traceback": [
      "\u001b[0;31m---------------------------------------------------------------------------\u001b[0m",
      "\u001b[0;31mKeyError\u001b[0m                                  Traceback (most recent call last)",
      "Cell \u001b[0;32mIn[23], line 1\u001b[0m\n\u001b[0;32m----> 1\u001b[0m \u001b[43mnamesim\u001b[49m\u001b[38;5;241;43m.\u001b[39;49m\u001b[43mhist\u001b[49m\u001b[43m(\u001b[49m\u001b[38;5;124;43m\"\u001b[39;49m\u001b[38;5;124;43mJ\u001b[39;49m\u001b[38;5;124;43m\"\u001b[39;49m\u001b[43m,\u001b[49m\u001b[43m \u001b[49m\u001b[43mbins\u001b[49m\u001b[38;5;241;43m=\u001b[39;49m\u001b[38;5;241;43m100\u001b[39;49m\u001b[43m)\u001b[49m\n\u001b[1;32m      2\u001b[0m plt\u001b[38;5;241m.\u001b[39mtitle(\u001b[38;5;124m\"\u001b[39m\u001b[38;5;124mPairwise bigram Jaccard similarities between 4000 names\u001b[39m\u001b[38;5;124m\"\u001b[39m)\n\u001b[1;32m      3\u001b[0m plt\u001b[38;5;241m.\u001b[39mxlabel(\u001b[38;5;124m\"\u001b[39m\u001b[38;5;124mJaccard similarity\u001b[39m\u001b[38;5;124m\"\u001b[39m)\n",
      "File \u001b[0;32m/opt/conda/lib/python3.11/site-packages/pandas/plotting/_core.py:247\u001b[0m, in \u001b[0;36mhist_frame\u001b[0;34m(data, column, by, grid, xlabelsize, xrot, ylabelsize, yrot, ax, sharex, sharey, figsize, layout, bins, backend, legend, **kwargs)\u001b[0m\n\u001b[1;32m    160\u001b[0m \u001b[38;5;250m\u001b[39m\u001b[38;5;124;03m\"\"\"\u001b[39;00m\n\u001b[1;32m    161\u001b[0m \u001b[38;5;124;03mMake a histogram of the DataFrame's columns.\u001b[39;00m\n\u001b[1;32m    162\u001b[0m \n\u001b[0;32m   (...)\u001b[0m\n\u001b[1;32m    244\u001b[0m \u001b[38;5;124;03m    >>> hist = df.hist(bins=3)\u001b[39;00m\n\u001b[1;32m    245\u001b[0m \u001b[38;5;124;03m\"\"\"\u001b[39;00m\n\u001b[1;32m    246\u001b[0m plot_backend \u001b[38;5;241m=\u001b[39m _get_plot_backend(backend)\n\u001b[0;32m--> 247\u001b[0m \u001b[38;5;28;01mreturn\u001b[39;00m \u001b[43mplot_backend\u001b[49m\u001b[38;5;241;43m.\u001b[39;49m\u001b[43mhist_frame\u001b[49m\u001b[43m(\u001b[49m\n\u001b[1;32m    248\u001b[0m \u001b[43m    \u001b[49m\u001b[43mdata\u001b[49m\u001b[43m,\u001b[49m\n\u001b[1;32m    249\u001b[0m \u001b[43m    \u001b[49m\u001b[43mcolumn\u001b[49m\u001b[38;5;241;43m=\u001b[39;49m\u001b[43mcolumn\u001b[49m\u001b[43m,\u001b[49m\n\u001b[1;32m    250\u001b[0m \u001b[43m    \u001b[49m\u001b[43mby\u001b[49m\u001b[38;5;241;43m=\u001b[39;49m\u001b[43mby\u001b[49m\u001b[43m,\u001b[49m\n\u001b[1;32m    251\u001b[0m \u001b[43m    \u001b[49m\u001b[43mgrid\u001b[49m\u001b[38;5;241;43m=\u001b[39;49m\u001b[43mgrid\u001b[49m\u001b[43m,\u001b[49m\n\u001b[1;32m    252\u001b[0m \u001b[43m    \u001b[49m\u001b[43mxlabelsize\u001b[49m\u001b[38;5;241;43m=\u001b[39;49m\u001b[43mxlabelsize\u001b[49m\u001b[43m,\u001b[49m\n\u001b[1;32m    253\u001b[0m \u001b[43m    \u001b[49m\u001b[43mxrot\u001b[49m\u001b[38;5;241;43m=\u001b[39;49m\u001b[43mxrot\u001b[49m\u001b[43m,\u001b[49m\n\u001b[1;32m    254\u001b[0m \u001b[43m    \u001b[49m\u001b[43mylabelsize\u001b[49m\u001b[38;5;241;43m=\u001b[39;49m\u001b[43mylabelsize\u001b[49m\u001b[43m,\u001b[49m\n\u001b[1;32m    255\u001b[0m \u001b[43m    \u001b[49m\u001b[43myrot\u001b[49m\u001b[38;5;241;43m=\u001b[39;49m\u001b[43myrot\u001b[49m\u001b[43m,\u001b[49m\n\u001b[1;32m    256\u001b[0m \u001b[43m    \u001b[49m\u001b[43max\u001b[49m\u001b[38;5;241;43m=\u001b[39;49m\u001b[43max\u001b[49m\u001b[43m,\u001b[49m\n\u001b[1;32m    257\u001b[0m \u001b[43m    \u001b[49m\u001b[43msharex\u001b[49m\u001b[38;5;241;43m=\u001b[39;49m\u001b[43msharex\u001b[49m\u001b[43m,\u001b[49m\n\u001b[1;32m    258\u001b[0m \u001b[43m    \u001b[49m\u001b[43msharey\u001b[49m\u001b[38;5;241;43m=\u001b[39;49m\u001b[43msharey\u001b[49m\u001b[43m,\u001b[49m\n\u001b[1;32m    259\u001b[0m \u001b[43m    \u001b[49m\u001b[43mfigsize\u001b[49m\u001b[38;5;241;43m=\u001b[39;49m\u001b[43mfigsize\u001b[49m\u001b[43m,\u001b[49m\n\u001b[1;32m    260\u001b[0m \u001b[43m    \u001b[49m\u001b[43mlayout\u001b[49m\u001b[38;5;241;43m=\u001b[39;49m\u001b[43mlayout\u001b[49m\u001b[43m,\u001b[49m\n\u001b[1;32m    261\u001b[0m \u001b[43m    \u001b[49m\u001b[43mlegend\u001b[49m\u001b[38;5;241;43m=\u001b[39;49m\u001b[43mlegend\u001b[49m\u001b[43m,\u001b[49m\n\u001b[1;32m    262\u001b[0m \u001b[43m    \u001b[49m\u001b[43mbins\u001b[49m\u001b[38;5;241;43m=\u001b[39;49m\u001b[43mbins\u001b[49m\u001b[43m,\u001b[49m\n\u001b[1;32m    263\u001b[0m \u001b[43m    \u001b[49m\u001b[38;5;241;43m*\u001b[39;49m\u001b[38;5;241;43m*\u001b[39;49m\u001b[43mkwargs\u001b[49m\u001b[43m,\u001b[49m\n\u001b[1;32m    264\u001b[0m \u001b[43m\u001b[49m\u001b[43m)\u001b[49m\n",
      "File \u001b[0;32m/opt/conda/lib/python3.11/site-packages/pandas/plotting/_matplotlib/hist.py:508\u001b[0m, in \u001b[0;36mhist_frame\u001b[0;34m(data, column, by, grid, xlabelsize, xrot, ylabelsize, yrot, ax, sharex, sharey, figsize, layout, bins, legend, **kwds)\u001b[0m\n\u001b[1;32m    506\u001b[0m     \u001b[38;5;28;01mif\u001b[39;00m \u001b[38;5;129;01mnot\u001b[39;00m \u001b[38;5;28misinstance\u001b[39m(column, (\u001b[38;5;28mlist\u001b[39m, np\u001b[38;5;241m.\u001b[39mndarray, ABCIndex)):\n\u001b[1;32m    507\u001b[0m         column \u001b[38;5;241m=\u001b[39m [column]\n\u001b[0;32m--> 508\u001b[0m     data \u001b[38;5;241m=\u001b[39m \u001b[43mdata\u001b[49m\u001b[43m[\u001b[49m\u001b[43mcolumn\u001b[49m\u001b[43m]\u001b[49m\n\u001b[1;32m    509\u001b[0m \u001b[38;5;66;03m# GH32590\u001b[39;00m\n\u001b[1;32m    510\u001b[0m data \u001b[38;5;241m=\u001b[39m data\u001b[38;5;241m.\u001b[39mselect_dtypes(\n\u001b[1;32m    511\u001b[0m     include\u001b[38;5;241m=\u001b[39m(np\u001b[38;5;241m.\u001b[39mnumber, \u001b[38;5;124m\"\u001b[39m\u001b[38;5;124mdatetime64\u001b[39m\u001b[38;5;124m\"\u001b[39m, \u001b[38;5;124m\"\u001b[39m\u001b[38;5;124mdatetimetz\u001b[39m\u001b[38;5;124m\"\u001b[39m), exclude\u001b[38;5;241m=\u001b[39m\u001b[38;5;124m\"\u001b[39m\u001b[38;5;124mtimedelta\u001b[39m\u001b[38;5;124m\"\u001b[39m\n\u001b[1;32m    512\u001b[0m )\n",
      "File \u001b[0;32m/opt/conda/lib/python3.11/site-packages/pandas/core/frame.py:3902\u001b[0m, in \u001b[0;36mDataFrame.__getitem__\u001b[0;34m(self, key)\u001b[0m\n\u001b[1;32m   3900\u001b[0m     \u001b[38;5;28;01mif\u001b[39;00m is_iterator(key):\n\u001b[1;32m   3901\u001b[0m         key \u001b[38;5;241m=\u001b[39m \u001b[38;5;28mlist\u001b[39m(key)\n\u001b[0;32m-> 3902\u001b[0m     indexer \u001b[38;5;241m=\u001b[39m \u001b[38;5;28;43mself\u001b[39;49m\u001b[38;5;241;43m.\u001b[39;49m\u001b[43mcolumns\u001b[49m\u001b[38;5;241;43m.\u001b[39;49m\u001b[43m_get_indexer_strict\u001b[49m\u001b[43m(\u001b[49m\u001b[43mkey\u001b[49m\u001b[43m,\u001b[49m\u001b[43m \u001b[49m\u001b[38;5;124;43m\"\u001b[39;49m\u001b[38;5;124;43mcolumns\u001b[39;49m\u001b[38;5;124;43m\"\u001b[39;49m\u001b[43m)\u001b[49m[\u001b[38;5;241m1\u001b[39m]\n\u001b[1;32m   3904\u001b[0m \u001b[38;5;66;03m# take() does not accept boolean indexers\u001b[39;00m\n\u001b[1;32m   3905\u001b[0m \u001b[38;5;28;01mif\u001b[39;00m \u001b[38;5;28mgetattr\u001b[39m(indexer, \u001b[38;5;124m\"\u001b[39m\u001b[38;5;124mdtype\u001b[39m\u001b[38;5;124m\"\u001b[39m, \u001b[38;5;28;01mNone\u001b[39;00m) \u001b[38;5;241m==\u001b[39m \u001b[38;5;28mbool\u001b[39m:\n",
      "File \u001b[0;32m/opt/conda/lib/python3.11/site-packages/pandas/core/indexes/base.py:6114\u001b[0m, in \u001b[0;36mIndex._get_indexer_strict\u001b[0;34m(self, key, axis_name)\u001b[0m\n\u001b[1;32m   6111\u001b[0m \u001b[38;5;28;01melse\u001b[39;00m:\n\u001b[1;32m   6112\u001b[0m     keyarr, indexer, new_indexer \u001b[38;5;241m=\u001b[39m \u001b[38;5;28mself\u001b[39m\u001b[38;5;241m.\u001b[39m_reindex_non_unique(keyarr)\n\u001b[0;32m-> 6114\u001b[0m \u001b[38;5;28;43mself\u001b[39;49m\u001b[38;5;241;43m.\u001b[39;49m\u001b[43m_raise_if_missing\u001b[49m\u001b[43m(\u001b[49m\u001b[43mkeyarr\u001b[49m\u001b[43m,\u001b[49m\u001b[43m \u001b[49m\u001b[43mindexer\u001b[49m\u001b[43m,\u001b[49m\u001b[43m \u001b[49m\u001b[43maxis_name\u001b[49m\u001b[43m)\u001b[49m\n\u001b[1;32m   6116\u001b[0m keyarr \u001b[38;5;241m=\u001b[39m \u001b[38;5;28mself\u001b[39m\u001b[38;5;241m.\u001b[39mtake(indexer)\n\u001b[1;32m   6117\u001b[0m \u001b[38;5;28;01mif\u001b[39;00m \u001b[38;5;28misinstance\u001b[39m(key, Index):\n\u001b[1;32m   6118\u001b[0m     \u001b[38;5;66;03m# GH 42790 - Preserve name from an Index\u001b[39;00m\n",
      "File \u001b[0;32m/opt/conda/lib/python3.11/site-packages/pandas/core/indexes/base.py:6175\u001b[0m, in \u001b[0;36mIndex._raise_if_missing\u001b[0;34m(self, key, indexer, axis_name)\u001b[0m\n\u001b[1;32m   6173\u001b[0m     \u001b[38;5;28;01mif\u001b[39;00m use_interval_msg:\n\u001b[1;32m   6174\u001b[0m         key \u001b[38;5;241m=\u001b[39m \u001b[38;5;28mlist\u001b[39m(key)\n\u001b[0;32m-> 6175\u001b[0m     \u001b[38;5;28;01mraise\u001b[39;00m \u001b[38;5;167;01mKeyError\u001b[39;00m(\u001b[38;5;124mf\u001b[39m\u001b[38;5;124m\"\u001b[39m\u001b[38;5;124mNone of [\u001b[39m\u001b[38;5;132;01m{\u001b[39;00mkey\u001b[38;5;132;01m}\u001b[39;00m\u001b[38;5;124m] are in the [\u001b[39m\u001b[38;5;132;01m{\u001b[39;00maxis_name\u001b[38;5;132;01m}\u001b[39;00m\u001b[38;5;124m]\u001b[39m\u001b[38;5;124m\"\u001b[39m)\n\u001b[1;32m   6177\u001b[0m not_found \u001b[38;5;241m=\u001b[39m \u001b[38;5;28mlist\u001b[39m(ensure_index(key)[missing_mask\u001b[38;5;241m.\u001b[39mnonzero()[\u001b[38;5;241m0\u001b[39m]]\u001b[38;5;241m.\u001b[39munique())\n\u001b[1;32m   6178\u001b[0m \u001b[38;5;28;01mraise\u001b[39;00m \u001b[38;5;167;01mKeyError\u001b[39;00m(\u001b[38;5;124mf\u001b[39m\u001b[38;5;124m\"\u001b[39m\u001b[38;5;132;01m{\u001b[39;00mnot_found\u001b[38;5;132;01m}\u001b[39;00m\u001b[38;5;124m not in index\u001b[39m\u001b[38;5;124m\"\u001b[39m)\n",
      "\u001b[0;31mKeyError\u001b[0m: \"None of [Index(['J'], dtype='object')] are in the [columns]\""
     ]
    }
   ],
   "source": [
    "namesim.hist(\"J\", bins=100)\n",
    "plt.title(\"Pairwise bigram Jaccard similarities between 4000 names\")\n",
    "plt.xlabel(\"Jaccard similarity\")"
   ]
  },
  {
   "cell_type": "markdown",
   "id": "faf65670-daf5-4268-8719-9caaa4310221",
   "metadata": {},
   "source": [
    "Let us show the pairs of names with the highest similarities :\n"
   ]
  },
  {
   "cell_type": "code",
   "execution_count": null,
   "id": "eb188ca8-b2b0-4071-94b8-fefe4c4d10ca",
   "metadata": {},
   "outputs": [],
   "source": [
    "namesim.sort_values(\"J\", ascending=False)[0:10]"
   ]
  },
  {
   "cell_type": "markdown",
   "id": "d8f42b17-1a7f-4439-a1f2-8498680b4d0a",
   "metadata": {},
   "source": [
    "Staring at these names, I cannot tell if any of them are typos or if they are all correctly but similarly spelled names.  We would not know if multiple people on this list accidentally shared a first and last name.  \n",
    "\n",
    "A spot check on three of the rows above shows that Mr. Barressi and Mr. Baresi, Mr. Park and Mr. Parks, and Mr Gonzalez and Mr. Gonzelez all have different employee id numbers.  Although we were able to use the Jaccard similarity to find names that were similar to each other, we have not found evidence of mis-encoded names or corrupt data that needs to be fixed.\n"
   ]
  },
  {
   "cell_type": "markdown",
   "id": "fa6bafbe-571e-430f-925a-0f06194e7d1c",
   "metadata": {},
   "source": [
    "[^*]: Murphy, A.H. The Finley Affair: A Signal Event in the History of Forecast Verification.\n",
    "Weather and Forecasting v11, issue 1. (1996) p3-20. doi:10.1175/1520-0434(1996)011<0003:TFAASE>2.0.CO;2  )   \n",
    "\n",
    "[^**]: Jaccard, Paul. The distribution of the flora in the alpine zone.  New Phytologist v11 no. 2 (1912) doi:  10.1111/j.1469-8137.1912.tb05611.x\n",
    "\n",
    "[^***]:   T. T. Tanimoto, (1958) “An elementary mathematical theory of classification and prediction,” IBM Internal Report. "
   ]
  },
  {
   "cell_type": "code",
   "execution_count": null,
   "id": "e7ccc279-fe0d-4ba9-abed-6d2d27e70e5d",
   "metadata": {},
   "outputs": [],
   "source": []
  }
 ],
 "metadata": {
  "kernelspec": {
   "display_name": "Python 3 (ipykernel)",
   "language": "python",
   "name": "python3"
  },
  "language_info": {
   "codemirror_mode": {
    "name": "ipython",
    "version": 3
   },
   "file_extension": ".py",
   "mimetype": "text/x-python",
   "name": "python",
   "nbconvert_exporter": "python",
   "pygments_lexer": "ipython3",
   "version": "3.11.5"
  }
 },
 "nbformat": 4,
 "nbformat_minor": 5
}
