{
 "cells": [
  {
   "cell_type": "markdown",
   "id": "18051f95-b3ce-41d5-9074-ab77b7ed01fd",
   "metadata": {},
   "source": [
    "# Sequence-based similarity\n"
   ]
  },
  {
   "cell_type": "markdown",
   "id": "897e6307-de3d-4a46-aa1c-b6a7ea3413e7",
   "metadata": {},
   "source": [
    "Edit distance (also known as Levenshtien distance) is another approach at fuzzy matching, inspired by the process of changing one input into another.  It is more sensitive than Jaccard similarity scoring but requires more computations (that is to say, it takes more time to run, other things held constant).\n",
    "\n",
    "If you think about the process of editing text, you can modify text by adding text, deleting text, or, if you are inclined, by both deleting and adding in about the same place.  These three \"operations\" can be turned into a loss function that describes how hard it would be to edit string1 into string2.  There are algorithms that will find the minimum number of edits that will transform one string into another (similar) string and this minimum number of edits score has many uses in data munging.\n",
    "\n",
    "Consider search engines that have indexes of text content.  Entering a misspelled search term will match mispellings in the database, but modern search engines often suggest similar queries with larger number of hits in the database.  How do they do it?  Search engines (like elasticsearch) generate a wide range of possible mispellings of the query and present search results (or spelling suggestions) informed by queries for a comprhensive set of deletion- substitution-, insertion-, and transposition- modified words."
   ]
  },
  {
   "cell_type": "code",
   "execution_count": null,
   "id": "c8298d20-acac-4df2-8260-bcd9f113a536",
   "metadata": {},
   "outputs": [],
   "source": []
  }
 ],
 "metadata": {
  "kernelspec": {
   "display_name": "Python 3 (ipykernel)",
   "language": "python",
   "name": "python3"
  },
  "language_info": {
   "codemirror_mode": {
    "name": "ipython",
    "version": 3
   },
   "file_extension": ".py",
   "mimetype": "text/x-python",
   "name": "python",
   "nbconvert_exporter": "python",
   "pygments_lexer": "ipython3",
   "version": "3.10.6"
  }
 },
 "nbformat": 4,
 "nbformat_minor": 5
}
