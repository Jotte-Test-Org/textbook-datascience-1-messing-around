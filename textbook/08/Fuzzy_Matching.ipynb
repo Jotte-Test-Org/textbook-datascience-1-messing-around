{
 "cells": [
  {
   "attachments": {},
   "cell_type": "markdown",
   "id": "d340d7c2-e653-4548-b395-6633d55bba99",
   "metadata": {},
   "source": [
    "# Fuzzy matching\n",
    "*Will Trimble*\n",
    "\n",
    "Data analysis often consists of separating some valued property of data called \"signal\" from similar properties of the data that are not invested with value, called \"noise.\" Processes that make different items in the real world have different representations in datasets abound, and there are many cases where the ability to match similar but not exactly identical symbols will allow better answers than if our procedure required exact matches. Manual data entry, corrupt data, missing values, and symbols which cannot be unambiguously resolved can all stand in the way of answering data questions. This section describes some algorithmic approaches to detecting when two strings or database rows are \"close\" to each other.\n",
    "\n",
    "Exact matching is easy and fast for computers, but finding inexact matches requires some more effort.\n",
    "\n",
    "Consider a database of documents, perhaps newspaper articles or legal filings. A search engine looking for mentions of a word or phrase will fail to find mispellings in the data if it uses exact matching, and will fail to find relevant documents if the search term is mispelled. Finding most of the instances of the phrase you are searching for may be suitable for some tasks, and may ruin others.\n",
    "\n",
    "In biological sequence analysis, the molecular clock hypothesis allows sequence similarity to be interpreted as evolutionary relatedness; doing anything useful with this requires a set of procedures for aligning homologous sequences of information-containing biological molecules to infer the mutations that have accrued since since (the molecule's) common ancestor.\n",
    "\n",
    "And a more mundane example: when editing a document, it is useful to be able to highlight which parts of the document have been changed between two versions of the document. Large parts of the document may be identical; it is useful to have an algorithm that identifies regions of similarity and difference and data structures that can communicate the differences in a succinct way.\n"
   ]
  },
  {
   "cell_type": "markdown",
   "id": "da2ee46e-fd75-4adf-b1f3-e3dccc809ddd",
   "metadata": {},
   "source": []
  }
 ],
 "metadata": {
  "kernelspec": {
   "display_name": "Python 3 (ipykernel)",
   "language": "python",
   "name": "python3"
  },
  "language_info": {
   "codemirror_mode": {
    "name": "ipython",
    "version": 3
   },
   "file_extension": ".py",
   "mimetype": "text/x-python",
   "name": "python",
   "nbconvert_exporter": "python",
   "pygments_lexer": "ipython3",
   "version": "3.10.6"
  }
 },
 "nbformat": 4,
 "nbformat_minor": 5
}
