{
 "cells": [
  {
   "cell_type": "markdown",
   "id": "c6234d0a",
   "metadata": {},
   "source": [
    "# Arrays\n",
    "*Evelyn Campbell, Ph.D.*"
   ]
  },
  {
   "cell_type": "markdown",
   "id": "e72d9bce",
   "metadata": {},
   "source": [
    "An *array* is a data structure that consists of a collection of elements organized into a grid-like shape. In Python, arrays can be one-dimensional, akin to a list, or multidimensional (2D, 3D, etc.). However, unlike a list, an array consists of elements that are all of the same data type. This makes arrays ideal for convenient storage of data elements. Arrays are offered through the `numpy` library, and are often used in conjunction with other Python libraries, such as `pandas`, `scipy`, and `scikit-learn` (linked below). We will explore arrays in this section, along with commonly used functions used with arrays."
   ]
  },
  {
   "cell_type": "markdown",
   "id": "77369985",
   "metadata": {},
   "source": [
    "## Constructing arrays\n",
    "\n",
    "To make an array, we first need to import `numpy`. We can then build an array from a list using the `np.array()` function."
   ]
  },
  {
   "cell_type": "code",
   "execution_count": 1,
   "id": "ab8b729c",
   "metadata": {},
   "outputs": [
    {
     "data": {
      "text/plain": [
       "array([30, 50, 70, 90])"
      ]
     },
     "execution_count": 1,
     "metadata": {},
     "output_type": "execute_result"
    }
   ],
   "source": [
    "import numpy as np\n",
    "\n",
    "my_list = [30, 50, 70, 90]\n",
    "my_array = np.array(my_list)\n",
    "my_array"
   ]
  },
  {
   "cell_type": "markdown",
   "id": "0b31777b",
   "metadata": {},
   "source": [
    "Another way an array can be made is by using the `np.arange()` function. With this function, one can build an array with a given inclusive start value and exclusive stop value as well as a step, which by default is 1."
   ]
  },
  {
   "cell_type": "code",
   "execution_count": 2,
   "id": "9f09fedf",
   "metadata": {},
   "outputs": [
    {
     "data": {
      "text/plain": [
       "array([ 4,  6,  8, 10])"
      ]
     },
     "execution_count": 2,
     "metadata": {},
     "output_type": "execute_result"
    }
   ],
   "source": [
    "my_array2 = np.arange(4, 11, 2)\n",
    "my_array2"
   ]
  },
  {
   "cell_type": "markdown",
   "id": "ed9c9a2b",
   "metadata": {},
   "source": [
    "Above, we made a one-dimensional array with four elements. We started the array at 4 and stopped it at 11. Because we specified the step as 2 (default is 1), our array gave us the values 4, 6, 8, and 10 because 11 is exclusive. Therefore, the `np.arange()` function will evenly space out the elements of our array just before the stop value."
   ]
  },
  {
   "cell_type": "markdown",
   "id": "7e71b117",
   "metadata": {},
   "source": [
    "## Mathematical operations with arrays\n",
    "\n",
    "Arrays also allow for convenient elementwise calculations. For example, we can easily multiply our two arrays to obtain a new array of values. "
   ]
  },
  {
   "cell_type": "code",
   "execution_count": 3,
   "id": "a8c411f9",
   "metadata": {},
   "outputs": [
    {
     "data": {
      "text/plain": [
       "array([120, 300, 560, 900])"
      ]
     },
     "execution_count": 3,
     "metadata": {},
     "output_type": "execute_result"
    }
   ],
   "source": [
    "my_array3 = my_array * my_array2\n",
    "my_array3"
   ]
  },
  {
   "cell_type": "markdown",
   "id": "2c972b46",
   "metadata": {},
   "source": [
    "The resulting array consists of the products of element-by-element multiplication of the first two arrays. Keep in mind that when performing calculations with multiple arrays, the dimensions of the arrays must be *compatible*. \n",
    "\n",
    "Performing elementwise operations on arrays of different shapes is called **broadcasting**, and a discussion on array shape compatibility in mathematical operations can be found in the referenced documentation on *Array broadcasting in numpy* below. "
   ]
  },
  {
   "cell_type": "markdown",
   "id": "e7cefaca",
   "metadata": {},
   "source": [
    "More simply, we can also perform a desired calculation on all elements of an array using scalar values:"
   ]
  },
  {
   "cell_type": "code",
   "execution_count": 4,
   "id": "1fa0c046",
   "metadata": {},
   "outputs": [
    {
     "data": {
      "text/plain": [
       "array([13., 22., 35., 52.])"
      ]
     },
     "execution_count": 4,
     "metadata": {},
     "output_type": "execute_result"
    }
   ],
   "source": [
    "my_array3 / 20 + 7"
   ]
  },
  {
   "cell_type": "markdown",
   "id": "5e772d89",
   "metadata": {},
   "source": [
    "## Reshaping and combining arrays\n",
    "\n",
    "Arrays can also be reshaped and combined. We can use the `np.reshape()` function to change the first two arrays from a 1-dimensional 1x4 array to a 2-dimensional 2x2 array."
   ]
  },
  {
   "cell_type": "code",
   "execution_count": 5,
   "id": "63529f0f",
   "metadata": {},
   "outputs": [],
   "source": [
    "reshape1 = np.reshape(my_array, (2,2))\n",
    "reshape2 = np.reshape(my_array2, (2,2))"
   ]
  },
  {
   "cell_type": "code",
   "execution_count": 6,
   "id": "49021c50",
   "metadata": {},
   "outputs": [
    {
     "data": {
      "text/plain": [
       "array([[30, 50],\n",
       "       [70, 90]])"
      ]
     },
     "execution_count": 6,
     "metadata": {},
     "output_type": "execute_result"
    }
   ],
   "source": [
    "reshape1"
   ]
  },
  {
   "cell_type": "code",
   "execution_count": 7,
   "id": "42083368",
   "metadata": {},
   "outputs": [
    {
     "data": {
      "text/plain": [
       "array([[ 4,  6],\n",
       "       [ 8, 10]])"
      ]
     },
     "execution_count": 7,
     "metadata": {},
     "output_type": "execute_result"
    }
   ],
   "source": [
    "reshape2"
   ]
  },
  {
   "cell_type": "markdown",
   "id": "a4b25524",
   "metadata": {},
   "source": [
    "When combining arrays that have the same shape, we can use the `np.row_stack()` and `np.column_stack()` functions to concatenate the rows and columns of multiple arrays, respectively. "
   ]
  },
  {
   "cell_type": "code",
   "execution_count": 8,
   "id": "136613c5",
   "metadata": {},
   "outputs": [
    {
     "data": {
      "text/plain": [
       "array([[30, 50,  4,  6],\n",
       "       [70, 90,  8, 10]])"
      ]
     },
     "execution_count": 8,
     "metadata": {},
     "output_type": "execute_result"
    }
   ],
   "source": [
    "np.column_stack((reshape1, reshape2))"
   ]
  },
  {
   "cell_type": "code",
   "execution_count": 9,
   "id": "4bef6c20",
   "metadata": {},
   "outputs": [
    {
     "data": {
      "text/plain": [
       "array([[30, 50],\n",
       "       [70, 90],\n",
       "       [ 4,  6],\n",
       "       [ 8, 10]])"
      ]
     },
     "execution_count": 9,
     "metadata": {},
     "output_type": "execute_result"
    }
   ],
   "source": [
    "np.row_stack((reshape1, reshape2))"
   ]
  },
  {
   "cell_type": "markdown",
   "id": "3b6bc94d",
   "metadata": {},
   "source": [
    "## Array functions\n",
    "\n",
    "Construction and reshaping of arrays is an important consideration if you wish to perform aggregate functions on them. Some useful aggregate functions that can be performed on arrays include `np.min()`, `np.max()`, `np.sum()`, and `np.average()`. These functions can be applied to the entire array or across rows and columns."
   ]
  },
  {
   "cell_type": "code",
   "execution_count": 10,
   "id": "09ec58cd",
   "metadata": {},
   "outputs": [
    {
     "data": {
      "text/plain": [
       "30"
      ]
     },
     "execution_count": 10,
     "metadata": {},
     "output_type": "execute_result"
    }
   ],
   "source": [
    "np.min(reshape1)"
   ]
  },
  {
   "cell_type": "markdown",
   "id": "73ee6b57",
   "metadata": {},
   "source": [
    "To apply these functions across columns of the array, use an `axis=0` argument. To apply them across rows, use an `axis=1` argument. The returned array will be the same length as the number of columns or rows."
   ]
  },
  {
   "cell_type": "code",
   "execution_count": 11,
   "id": "4856de65",
   "metadata": {},
   "outputs": [
    {
     "data": {
      "text/plain": [
       "array([100, 140])"
      ]
     },
     "execution_count": 11,
     "metadata": {},
     "output_type": "execute_result"
    }
   ],
   "source": [
    "np.sum(reshape1, axis=0)"
   ]
  },
  {
   "cell_type": "code",
   "execution_count": 12,
   "id": "dc5a9be6",
   "metadata": {},
   "outputs": [
    {
     "data": {
      "text/plain": [
       "array([40., 80.])"
      ]
     },
     "execution_count": 12,
     "metadata": {},
     "output_type": "execute_result"
    }
   ],
   "source": [
    "np.average(reshape1, axis=1)"
   ]
  },
  {
   "cell_type": "markdown",
   "id": "92056223",
   "metadata": {},
   "source": [
    "A number of other aggregate functions can be applied to transform elements within an array. These include `np.sqrt()`, `np.square()`, `np.power()`, `np.log()`, and many others."
   ]
  },
  {
   "cell_type": "code",
   "execution_count": 13,
   "id": "a7ac141b",
   "metadata": {},
   "outputs": [
    {
     "data": {
      "text/plain": [
       "array([[  64,  216],\n",
       "       [ 512, 1000]])"
      ]
     },
     "execution_count": 13,
     "metadata": {},
     "output_type": "execute_result"
    }
   ],
   "source": [
    "np.power(reshape2, 3)"
   ]
  },
  {
   "cell_type": "markdown",
   "id": "ec7f35b1",
   "metadata": {},
   "source": [
    "## Indexing and Slicing\n",
    "\n",
    "1D arrays can be indexed similarly to how lists are indexed, as mentioned in the [section 4.1](../../1/Lists).\n",
    "\n",
    "\n",
    "To begin in demonstrating this, let's make a new array of string elements called `flowers`:"
   ]
  },
  {
   "cell_type": "code",
   "execution_count": 14,
   "id": "c1f4ad88",
   "metadata": {},
   "outputs": [
    {
     "data": {
      "text/plain": [
       "array(['orchid', 'rose', 'lilac', 'peony', 'tulip', 'dahlia', 'lily',\n",
       "       'violet'], dtype='<U6')"
      ]
     },
     "execution_count": 14,
     "metadata": {},
     "output_type": "execute_result"
    }
   ],
   "source": [
    "flowers = np.array(['orchid', 'rose', 'lilac', 'peony', 'tulip', 'dahlia', 'lily', 'violet'])\n",
    "flowers"
   ]
  },
  {
   "cell_type": "markdown",
   "id": "a0004ce9",
   "metadata": {},
   "source": [
    "As seen with lists, arrays utilize *zero-indexing*, meaning that the first element of an array has an index of 0. If we wanted to select the third to the sixth (inclusive) element in `flowers`, we need recognize that this corresponds to indexes 2 and 5, respectively.\n",
    "\n",
    "<img align=\"center\" src=\"./img/flowers_array3.png\" width=\"80%\"/>\n",
    "\n",
    "A single colon (:) can be used to slice a range of elements in an array. The format for simple slicing an array is as follows:\n",
    "\n",
    "```\n",
    "array[start:end]\n",
    "```\n",
    "\n",
    "\n",
    "\n",
    "If used between the indices *j* and *k*, slicing the elements of an array will return all elements between *j* and *k*, <u>excluding k</u>.\n",
    "\n",
    "In this case, we use 2:6 to slice from the third to the sixth element because we want to include the sixth element (which is located at index 5):\n"
   ]
  },
  {
   "cell_type": "code",
   "execution_count": 15,
   "id": "9935ef70",
   "metadata": {
    "scrolled": true
   },
   "outputs": [
    {
     "data": {
      "text/plain": [
       "array(['lilac', 'peony', 'tulip', 'dahlia'], dtype='<U6')"
      ]
     },
     "execution_count": 15,
     "metadata": {},
     "output_type": "execute_result"
    }
   ],
   "source": [
    "flowers[2:6]"
   ]
  },
  {
   "cell_type": "markdown",
   "id": "17633c64",
   "metadata": {},
   "source": [
    "Arrays can also be sliced in intervals. Slicing in intervals takes on the following format:\n",
    "\n",
    "```\n",
    "array[start:end:step]\n",
    "```\n",
    "\n",
    "The step dictates the spacing between values. If we wanted to slice `flowers` starting at the second element to the sixth element (inclusive) in steps of two, we would use the following code:"
   ]
  },
  {
   "cell_type": "code",
   "execution_count": 16,
   "id": "67dcfe21",
   "metadata": {},
   "outputs": [
    {
     "data": {
      "text/plain": [
       "array(['rose', 'peony', 'dahlia'], dtype='<U6')"
      ]
     },
     "execution_count": 16,
     "metadata": {},
     "output_type": "execute_result"
    }
   ],
   "source": [
    "flowers[1:6:2]"
   ]
  },
  {
   "cell_type": "markdown",
   "id": "83db1e0c",
   "metadata": {},
   "source": [
    "Slices can be made without explicitly indicating the start of end or the slice. In these cases, Python will start slicing with the first element if the beginning is not indicated and will stop at the last element if the end is not indicated:"
   ]
  },
  {
   "cell_type": "code",
   "execution_count": 17,
   "id": "b71afccd",
   "metadata": {},
   "outputs": [
    {
     "data": {
      "text/plain": [
       "array(['rose', 'peony', 'dahlia', 'violet'], dtype='<U6')"
      ]
     },
     "execution_count": 17,
     "metadata": {},
     "output_type": "execute_result"
    }
   ],
   "source": [
    "flowers[1::2] # Starts at the second element and selects every other element to the end of the array"
   ]
  },
  {
   "cell_type": "code",
   "execution_count": 18,
   "id": "cbb7b21d",
   "metadata": {},
   "outputs": [
    {
     "data": {
      "text/plain": [
       "array(['orchid', 'rose', 'lilac', 'peony'], dtype='<U6')"
      ]
     },
     "execution_count": 18,
     "metadata": {},
     "output_type": "execute_result"
    }
   ],
   "source": [
    "flowers[:4] # Selects every element between the first and forth (inclusive) element"
   ]
  },
  {
   "cell_type": "markdown",
   "id": "1c87ad78",
   "metadata": {},
   "source": [
    "When arrays become very long, it may be useful to use **negative-indexing**. Negative indexing assigns indices of elements starting from the last element. The very last element of an array has an index of -1, the pentultimate, -2, and so on. If we want the fourth-from-last element of `flowers`, we could use the following:"
   ]
  },
  {
   "cell_type": "code",
   "execution_count": 19,
   "id": "5a6bca2a",
   "metadata": {},
   "outputs": [
    {
     "data": {
      "text/plain": [
       "'tulip'"
      ]
     },
     "execution_count": 19,
     "metadata": {},
     "output_type": "execute_result"
    }
   ],
   "source": [
    "flowers[-4]"
   ]
  },
  {
   "cell_type": "markdown",
   "id": "a6291acf",
   "metadata": {},
   "source": [
    "Negative indexing can be combined with slicing to return elements of an array in a reverse order. For example, we can list all the flowers from `lily` to `lilac` in reverse order using the following:"
   ]
  },
  {
   "cell_type": "code",
   "execution_count": 20,
   "id": "873f024a",
   "metadata": {},
   "outputs": [
    {
     "data": {
      "text/plain": [
       "array(['lily', 'tulip', 'lilac'], dtype='<U6')"
      ]
     },
     "execution_count": 20,
     "metadata": {},
     "output_type": "execute_result"
    }
   ],
   "source": [
    "flowers[6:1:-2]"
   ]
  },
  {
   "cell_type": "markdown",
   "id": "ba581ef8",
   "metadata": {},
   "source": [
    "Here, it's okay that the starting index is greater than the ending index because we indicated the step to go from back to front."
   ]
  },
  {
   "cell_type": "markdown",
   "id": "e64cbc23",
   "metadata": {},
   "source": [
    "## Nested arrays\n",
    "\n",
    "When working with a multidimensional array, the same rules apply, but we have to keep in mind that the arrays within the a 2D array themselves have indices. Let's construct two more arrays called `fruits` and `pantone` and make a combined array with `flowers`."
   ]
  },
  {
   "cell_type": "code",
   "execution_count": 21,
   "id": "a1a87fb8",
   "metadata": {
    "scrolled": true
   },
   "outputs": [
    {
     "data": {
      "text/plain": [
       "array([['orchid', 'rose', 'lilac', 'peony', 'tulip', 'dahlia', 'lily',\n",
       "        'violet'],\n",
       "       ['strawberry', 'banana', 'blueberry', 'pineapple', 'cherry',\n",
       "        'papaya', 'lychee', 'mango'],\n",
       "       ['emerald', 'polignac', 'saffron', 'fuchsia rose', 'marsala',\n",
       "        'ultra violet', 'mustard', 'lapis blue']], dtype='<U12')"
      ]
     },
     "execution_count": 21,
     "metadata": {},
     "output_type": "execute_result"
    }
   ],
   "source": [
    "fruits = np.array(['strawberry', 'banana', 'blueberry', 'pineapple', 'cherry', 'papaya', 'lychee', 'mango'])\n",
    "pantone = np.array(['emerald', 'polignac', 'saffron', 'fuchsia rose', 'marsala', 'ultra violet', 'mustard', 'lapis blue'])\n",
    "combined = np.row_stack((flowers, fruits, pantone))\n",
    "combined"
   ]
  },
  {
   "cell_type": "markdown",
   "id": "8bac48ad",
   "metadata": {},
   "source": [
    "We can assess the final dimensions of `combined` using the `shape` method. The `shape` method returns a tuple indicating the rows and columns:"
   ]
  },
  {
   "cell_type": "code",
   "execution_count": 22,
   "id": "0f25f043",
   "metadata": {},
   "outputs": [
    {
     "data": {
      "text/plain": [
       "(3, 8)"
      ]
     },
     "execution_count": 22,
     "metadata": {},
     "output_type": "execute_result"
    }
   ],
   "source": [
    "combined.shape"
   ]
  },
  {
   "cell_type": "markdown",
   "id": "064c7724",
   "metadata": {},
   "source": [
    "Now, we are working with an array of arrays that is 3 rows by 8 columns. As such, we have to be able to determine the index of each array to be able to even access the individual elements within them. For instance, if we wanted to identify the 3rd color within `pantone`, we first have to be able to index the array with colors:"
   ]
  },
  {
   "cell_type": "code",
   "execution_count": 23,
   "id": "67a9b1fe",
   "metadata": {},
   "outputs": [
    {
     "data": {
      "text/plain": [
       "array(['emerald', 'polignac', 'saffron', 'fuchsia rose', 'marsala',\n",
       "       'ultra violet', 'mustard', 'lapis blue'], dtype='<U12')"
      ]
     },
     "execution_count": 23,
     "metadata": {},
     "output_type": "execute_result"
    }
   ],
   "source": [
    "combined[2]"
   ]
  },
  {
   "cell_type": "markdown",
   "id": "216ef0d6",
   "metadata": {},
   "source": [
    "Once we can get that array, getting the 3rd element would be as easy as identifying the index within `pantone`:"
   ]
  },
  {
   "cell_type": "code",
   "execution_count": 24,
   "id": "dac5a4e3",
   "metadata": {},
   "outputs": [
    {
     "data": {
      "text/plain": [
       "'saffron'"
      ]
     },
     "execution_count": 24,
     "metadata": {},
     "output_type": "execute_result"
    }
   ],
   "source": [
    "combined[2][2]"
   ]
  },
  {
   "cell_type": "markdown",
   "id": "f4b4d38c",
   "metadata": {},
   "source": [
    "To this point, all of these slicing mechanisms are interchangable between lists and arrays. However, if we wanted to take a particular index in all arrays of `combined`, the following would work for an array of arrays, but not a list of lists:"
   ]
  },
  {
   "cell_type": "code",
   "execution_count": 25,
   "id": "bf623f51",
   "metadata": {
    "scrolled": true
   },
   "outputs": [
    {
     "data": {
      "text/plain": [
       "array(['lilac', 'blueberry', 'saffron'], dtype='<U12')"
      ]
     },
     "execution_count": 25,
     "metadata": {},
     "output_type": "execute_result"
    }
   ],
   "source": [
    "combined[:,2]"
   ]
  },
  {
   "cell_type": "markdown",
   "id": "d6a2cea2",
   "metadata": {},
   "source": [
    "Notice that this gives a different result than the following code:"
   ]
  },
  {
   "cell_type": "code",
   "execution_count": 26,
   "id": "3a843104",
   "metadata": {},
   "outputs": [
    {
     "data": {
      "text/plain": [
       "array(['emerald', 'polignac', 'saffron', 'fuchsia rose', 'marsala',\n",
       "       'ultra violet', 'mustard', 'lapis blue'], dtype='<U12')"
      ]
     },
     "execution_count": 26,
     "metadata": {},
     "output_type": "execute_result"
    }
   ],
   "source": [
    "combined[:][2]"
   ]
  },
  {
   "cell_type": "markdown",
   "id": "1da7860a",
   "metadata": {},
   "source": [
    "In slicing, a comma separates rows from columns. Hence, `combined[:,2]` is saying \"from all rows of `combined`, take the column at index 2, while `combined[:][2]` is saying \"from all elements in `combined` take the element at index 2.\" This syntax, while subtle, greatly affects the granularity of slicing.\n",
    "\n",
    "Ranges can also be used to slice specific subsets of columns and rows, as shown below:"
   ]
  },
  {
   "cell_type": "code",
   "execution_count": 27,
   "id": "907a4af3",
   "metadata": {},
   "outputs": [
    {
     "data": {
      "text/plain": [
       "array([['lilac', 'peony', 'tulip', 'dahlia'],\n",
       "       ['blueberry', 'pineapple', 'cherry', 'papaya']], dtype='<U12')"
      ]
     },
     "execution_count": 27,
     "metadata": {},
     "output_type": "execute_result"
    }
   ],
   "source": [
    "combined[0:2,2:6]"
   ]
  },
  {
   "cell_type": "markdown",
   "id": "5a3d5b7c",
   "metadata": {},
   "source": [
    "We see that the above code returned the elements from index 2 to 5 (inclusive) from the `flowers` and `fruits` arrays within `combined`. The `flowers` and `fruits` arrays were returned because they are the elements at 0 and 1 index, respectively, within `combined`."
   ]
  },
  {
   "cell_type": "markdown",
   "id": "5d11e234",
   "metadata": {},
   "source": [
    "Using 2-D arrays to store and organize numerical data types can also be very useful. Below, we create a new array of array consisting of a collection of even numbers, numbers divisible by five, and numbers divisible by ten:"
   ]
  },
  {
   "cell_type": "code",
   "execution_count": 28,
   "id": "5249d8ad",
   "metadata": {
    "scrolled": true
   },
   "outputs": [
    {
     "data": {
      "text/plain": [
       "array([[ 2.,  5., 10.],\n",
       "       [ 4., 10., 20.],\n",
       "       [ 6., 15., 30.],\n",
       "       [ 8., 20., 40.],\n",
       "       [10., 25., 50.]])"
      ]
     },
     "execution_count": 28,
     "metadata": {},
     "output_type": "execute_result"
    }
   ],
   "source": [
    "evens = np.arange(2.0, 11.0, 2)\n",
    "fives = np.arange(5, 26, 5)\n",
    "tens = np.arange(10, 51, 10)\n",
    "\n",
    "num_comb = np.column_stack((evens, fives, tens))\n",
    "num_comb"
   ]
  },
  {
   "cell_type": "markdown",
   "id": "6ea3bf80",
   "metadata": {},
   "source": [
    "We can use slicing to perform operations on specific subsets of  `num_comb`:"
   ]
  },
  {
   "cell_type": "code",
   "execution_count": 29,
   "id": "b0f0373c",
   "metadata": {
    "scrolled": true
   },
   "outputs": [
    {
     "data": {
      "text/plain": [
       "array([4634., 4649., 4674.])"
      ]
     },
     "execution_count": 29,
     "metadata": {},
     "output_type": "execute_result"
    }
   ],
   "source": [
    "num_comb[:][-1] + num_comb[3].sum()**2"
   ]
  },
  {
   "cell_type": "markdown",
   "id": "e47537f0",
   "metadata": {},
   "source": [
    "Furthermore, these slices can be used as input to functions:"
   ]
  },
  {
   "cell_type": "code",
   "execution_count": 30,
   "id": "3a337098",
   "metadata": {},
   "outputs": [
    {
     "data": {
      "text/plain": [
       "array([  4.,  16.,  36.,  64., 100.])"
      ]
     },
     "execution_count": 30,
     "metadata": {},
     "output_type": "execute_result"
    }
   ],
   "source": [
    "np.power(num_comb[:,0], 2)"
   ]
  },
  {
   "cell_type": "markdown",
   "id": "d3242398",
   "metadata": {},
   "source": [
    "When working with multidimensional arrays, being able to subset portions and do calculations via functions or operations can be an easy way to analyze data, particularly, if the array is organized in a meaningful way. From this, new arrays can be created and appended to existing arrays to update or complete a dataset:"
   ]
  },
  {
   "cell_type": "code",
   "execution_count": 31,
   "id": "1974c88f",
   "metadata": {},
   "outputs": [
    {
     "data": {
      "text/plain": [
       "array([[  2.,   5.,  10.,   4.],\n",
       "       [  4.,  10.,  20.,  16.],\n",
       "       [  6.,  15.,  30.,  36.],\n",
       "       [  8.,  20.,  40.,  64.],\n",
       "       [ 10.,  25.,  50., 100.]])"
      ]
     },
     "execution_count": 31,
     "metadata": {},
     "output_type": "execute_result"
    }
   ],
   "source": [
    "squared = np.power(num_comb[:,0], 2)\n",
    "\n",
    "num_comb = np.column_stack((num_comb, squared))\n",
    "num_comb"
   ]
  },
  {
   "cell_type": "markdown",
   "id": "140edda6",
   "metadata": {},
   "source": [
    "Arrays are a powerful data type that make for easy and seamless data storage and analysis. The rules around slicing for arrays can be a bit tricky. It's important to practice to get used indexing and to understand how to access arrays within arrays vs *elements* of said arrays."
   ]
  },
  {
   "cell_type": "markdown",
   "id": "8d8570bb",
   "metadata": {},
   "source": [
    "## Resources\n",
    "\n",
    "- <a target=\"_blank\" href=\"https://numpy.org/doc/stable/reference/routines.math.html\">Mathematical aggregate functions by numpy</a>\n",
    "- <a target=\"_blank\" href=\"https://numpy.org/doc/1.20/user/theory.broadcasting.html\">Array broadcasting in numpy</a>\n",
    "\n",
    "- <a target=\"_blank\" href=\"https://scipy.org\">Scipy documentation</a>\n",
    "- <a target=\"_blank\" href=\"https://scikit-learn.org/stable/\">scikit-learn documentation</a>"
   ]
  },
  {
   "cell_type": "code",
   "execution_count": null,
   "id": "e3b13b05",
   "metadata": {},
   "outputs": [],
   "source": []
  }
 ],
 "metadata": {
  "kernelspec": {
   "display_name": "Python 3 (ipykernel)",
   "language": "python",
   "name": "python3"
  },
  "language_info": {
   "codemirror_mode": {
    "name": "ipython",
    "version": 3
   },
   "file_extension": ".py",
   "mimetype": "text/x-python",
   "name": "python",
   "nbconvert_exporter": "python",
   "pygments_lexer": "ipython3",
   "version": "3.9.12"
  }
 },
 "nbformat": 4,
 "nbformat_minor": 5
}
